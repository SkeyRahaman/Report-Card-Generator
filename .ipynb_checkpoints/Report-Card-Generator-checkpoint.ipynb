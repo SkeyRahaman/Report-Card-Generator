{
 "cells": [
  {
   "cell_type": "markdown",
   "metadata": {},
   "source": [
    "# Dipam"
   ]
  },
  {
   "cell_type": "code",
   "execution_count": 2,
   "metadata": {},
   "outputs": [],
   "source": [
    "import numpy as np\n",
    "import pandas as pd\n",
    "import matplotlib.pyplot as plt\n",
    "%matplotlib inline\n",
    "import seaborn as sns\n",
    "plt.style.use('fivethirtyeight')"
   ]
  },
  {
   "cell_type": "code",
   "execution_count": null,
   "metadata": {},
   "outputs": [],
   "source": []
  },
  {
   "cell_type": "code",
   "execution_count": null,
   "metadata": {},
   "outputs": [],
   "source": []
  },
  {
   "cell_type": "code",
   "execution_count": 3,
   "metadata": {},
   "outputs": [],
   "source": [
    "data=pd.read_csv('Student Gradebook - August.csv')"
   ]
  },
  {
   "cell_type": "code",
   "execution_count": 5,
   "metadata": {},
   "outputs": [
    {
     "data": {
      "text/html": [
       "<div>\n",
       "<style scoped>\n",
       "    .dataframe tbody tr th:only-of-type {\n",
       "        vertical-align: middle;\n",
       "    }\n",
       "\n",
       "    .dataframe tbody tr th {\n",
       "        vertical-align: top;\n",
       "    }\n",
       "\n",
       "    .dataframe thead th {\n",
       "        text-align: right;\n",
       "    }\n",
       "</style>\n",
       "<table border=\"1\" class=\"dataframe\">\n",
       "  <thead>\n",
       "    <tr style=\"text-align: right;\">\n",
       "      <th></th>\n",
       "      <th>id</th>\n",
       "      <th>Task</th>\n",
       "      <th>Date</th>\n",
       "      <th>Module</th>\n",
       "      <th>Type</th>\n",
       "      <th>Student</th>\n",
       "      <th>Late Submission</th>\n",
       "      <th>Points</th>\n",
       "      <th>Total</th>\n",
       "      <th>Task Winner</th>\n",
       "    </tr>\n",
       "  </thead>\n",
       "  <tbody>\n",
       "    <tr>\n",
       "      <th>0</th>\n",
       "      <td>0</td>\n",
       "      <td>AjKyaUkhada</td>\n",
       "      <td>2019-08-01 13:26:57</td>\n",
       "      <td>Ritual</td>\n",
       "      <td>Consistency</td>\n",
       "      <td>Sonali</td>\n",
       "      <td>0</td>\n",
       "      <td>2.0</td>\n",
       "      <td>2</td>\n",
       "      <td>0</td>\n",
       "    </tr>\n",
       "    <tr>\n",
       "      <th>1</th>\n",
       "      <td>0</td>\n",
       "      <td>AjKyaUkhada</td>\n",
       "      <td>2019-08-01 14:40:42</td>\n",
       "      <td>Ritual</td>\n",
       "      <td>Consistency</td>\n",
       "      <td>Chandrima</td>\n",
       "      <td>0</td>\n",
       "      <td>2.0</td>\n",
       "      <td>2</td>\n",
       "      <td>0</td>\n",
       "    </tr>\n",
       "    <tr>\n",
       "      <th>2</th>\n",
       "      <td>0</td>\n",
       "      <td>AjKyaUkhada</td>\n",
       "      <td>2019-08-01 14:44:34</td>\n",
       "      <td>Ritual</td>\n",
       "      <td>Consistency</td>\n",
       "      <td>Purbita</td>\n",
       "      <td>0</td>\n",
       "      <td>2.0</td>\n",
       "      <td>2</td>\n",
       "      <td>0</td>\n",
       "    </tr>\n",
       "    <tr>\n",
       "      <th>3</th>\n",
       "      <td>0</td>\n",
       "      <td>AjKyaUkhada</td>\n",
       "      <td>2019-08-01 14:47:05</td>\n",
       "      <td>Ritual</td>\n",
       "      <td>Consistency</td>\n",
       "      <td>Kunal</td>\n",
       "      <td>0</td>\n",
       "      <td>2.0</td>\n",
       "      <td>2</td>\n",
       "      <td>0</td>\n",
       "    </tr>\n",
       "    <tr>\n",
       "      <th>4</th>\n",
       "      <td>0</td>\n",
       "      <td>AjKyaUkhada</td>\n",
       "      <td>2019-08-01 14:48:11</td>\n",
       "      <td>Ritual</td>\n",
       "      <td>Consistency</td>\n",
       "      <td>Kaushal</td>\n",
       "      <td>0</td>\n",
       "      <td>2.0</td>\n",
       "      <td>2</td>\n",
       "      <td>0</td>\n",
       "    </tr>\n",
       "  </tbody>\n",
       "</table>\n",
       "</div>"
      ],
      "text/plain": [
       "   id         Task                 Date  Module         Type    Student  \\\n",
       "0   0  AjKyaUkhada  2019-08-01 13:26:57  Ritual  Consistency     Sonali   \n",
       "1   0  AjKyaUkhada  2019-08-01 14:40:42  Ritual  Consistency  Chandrima   \n",
       "2   0  AjKyaUkhada  2019-08-01 14:44:34  Ritual  Consistency    Purbita   \n",
       "3   0  AjKyaUkhada  2019-08-01 14:47:05  Ritual  Consistency      Kunal   \n",
       "4   0  AjKyaUkhada  2019-08-01 14:48:11  Ritual  Consistency    Kaushal   \n",
       "\n",
       "   Late Submission  Points  Total  Task Winner  \n",
       "0                0     2.0      2            0  \n",
       "1                0     2.0      2            0  \n",
       "2                0     2.0      2            0  \n",
       "3                0     2.0      2            0  \n",
       "4                0     2.0      2            0  "
      ]
     },
     "execution_count": 5,
     "metadata": {},
     "output_type": "execute_result"
    }
   ],
   "source": [
    "data.head()"
   ]
  },
  {
   "cell_type": "code",
   "execution_count": 6,
   "metadata": {},
   "outputs": [
    {
     "data": {
      "text/plain": [
       "Student\n",
       "Surabhi         169.5\n",
       "Ujjainee        163.5\n",
       "Dipam           160.0\n",
       "Shakib          156.0\n",
       "Chandrima       155.5\n",
       "Purbita         152.5\n",
       "Vishal          152.5\n",
       "Sonali          142.0\n",
       "Kunal           141.0\n",
       "Sharika         133.5\n",
       "Durga           130.0\n",
       "Apurwa          129.5\n",
       "Kaushal         124.5\n",
       "Prasoon         111.0\n",
       "Roumyak         109.0\n",
       "Siddhishikha    108.5\n",
       "Arya             97.5\n",
       "Shantanu         94.0\n",
       "Swaastick        82.0\n",
       "Swaastik         22.0\n",
       "Bhavna           13.0\n",
       "Nitish            6.0\n",
       "Anjali            5.0\n",
       "Wrick             2.0\n",
       "Name: Points, dtype: float64"
      ]
     },
     "execution_count": 6,
     "metadata": {},
     "output_type": "execute_result"
    }
   ],
   "source": [
    "data.groupby('Student')['Points'].sum().sort_values(ascending=False)"
   ]
  },
  {
   "cell_type": "code",
   "execution_count": 7,
   "metadata": {},
   "outputs": [],
   "source": [
    "data_august=data  #basically to understand that it is the dataset of august"
   ]
  },
  {
   "cell_type": "code",
   "execution_count": 8,
   "metadata": {},
   "outputs": [
    {
     "data": {
      "text/plain": [
       "(579, 10)"
      ]
     },
     "execution_count": 8,
     "metadata": {},
     "output_type": "execute_result"
    }
   ],
   "source": [
    "data_august.shape   "
   ]
  },
  {
   "cell_type": "code",
   "execution_count": 9,
   "metadata": {},
   "outputs": [],
   "source": [
    "data_july=pd.read_csv('Student Gradebook - July.csv')"
   ]
  },
  {
   "cell_type": "code",
   "execution_count": 10,
   "metadata": {},
   "outputs": [
    {
     "data": {
      "text/html": [
       "<div>\n",
       "<style scoped>\n",
       "    .dataframe tbody tr th:only-of-type {\n",
       "        vertical-align: middle;\n",
       "    }\n",
       "\n",
       "    .dataframe tbody tr th {\n",
       "        vertical-align: top;\n",
       "    }\n",
       "\n",
       "    .dataframe thead th {\n",
       "        text-align: right;\n",
       "    }\n",
       "</style>\n",
       "<table border=\"1\" class=\"dataframe\">\n",
       "  <thead>\n",
       "    <tr style=\"text-align: right;\">\n",
       "      <th></th>\n",
       "      <th>id</th>\n",
       "      <th>Task</th>\n",
       "      <th>Date</th>\n",
       "      <th>Module</th>\n",
       "      <th>Type</th>\n",
       "      <th>Student</th>\n",
       "      <th>Late Submission</th>\n",
       "      <th>Points</th>\n",
       "      <th>Total</th>\n",
       "      <th>Task Winner</th>\n",
       "      <th>...</th>\n",
       "      <th>Unnamed: 13</th>\n",
       "      <th>Unnamed: 14</th>\n",
       "      <th>Unnamed: 15</th>\n",
       "      <th>Unnamed: 16</th>\n",
       "      <th>Unnamed: 17</th>\n",
       "      <th>Unnamed: 18</th>\n",
       "      <th>Unnamed: 19</th>\n",
       "      <th>Unnamed: 20</th>\n",
       "      <th>Unnamed: 21</th>\n",
       "      <th>Unnamed: 22</th>\n",
       "    </tr>\n",
       "  </thead>\n",
       "  <tbody>\n",
       "    <tr>\n",
       "      <th>0</th>\n",
       "      <td>NaN</td>\n",
       "      <td>NaN</td>\n",
       "      <td>NaN</td>\n",
       "      <td>NaN</td>\n",
       "      <td>NaN</td>\n",
       "      <td>NaN</td>\n",
       "      <td>NaN</td>\n",
       "      <td>NaN</td>\n",
       "      <td>NaN</td>\n",
       "      <td>NaN</td>\n",
       "      <td>...</td>\n",
       "      <td>NaN</td>\n",
       "      <td>NaN</td>\n",
       "      <td>NaN</td>\n",
       "      <td>NaN</td>\n",
       "      <td>NaN</td>\n",
       "      <td>NaN</td>\n",
       "      <td>NaN</td>\n",
       "      <td>NaN</td>\n",
       "      <td>NaN</td>\n",
       "      <td>NaN</td>\n",
       "    </tr>\n",
       "    <tr>\n",
       "      <th>1</th>\n",
       "      <td>1.0</td>\n",
       "      <td>Linkedin Profile create/update</td>\n",
       "      <td>22/07/2019</td>\n",
       "      <td>Profile Building</td>\n",
       "      <td>Intent, Creativity,Content</td>\n",
       "      <td>Chandrima</td>\n",
       "      <td>0.0</td>\n",
       "      <td>6.0</td>\n",
       "      <td>10.0</td>\n",
       "      <td>0.0</td>\n",
       "      <td>...</td>\n",
       "      <td>NaN</td>\n",
       "      <td>NaN</td>\n",
       "      <td>NaN</td>\n",
       "      <td>NaN</td>\n",
       "      <td>NaN</td>\n",
       "      <td>NaN</td>\n",
       "      <td>NaN</td>\n",
       "      <td>NaN</td>\n",
       "      <td>NaN</td>\n",
       "      <td>NaN</td>\n",
       "    </tr>\n",
       "    <tr>\n",
       "      <th>2</th>\n",
       "      <td>1.0</td>\n",
       "      <td>Linkedin Profile create/update</td>\n",
       "      <td>22/07/2019</td>\n",
       "      <td>Profile Building</td>\n",
       "      <td>Intent, Creativity,Content</td>\n",
       "      <td>Dipam</td>\n",
       "      <td>0.0</td>\n",
       "      <td>7.0</td>\n",
       "      <td>10.0</td>\n",
       "      <td>0.0</td>\n",
       "      <td>...</td>\n",
       "      <td>NaN</td>\n",
       "      <td>NaN</td>\n",
       "      <td>NaN</td>\n",
       "      <td>NaN</td>\n",
       "      <td>NaN</td>\n",
       "      <td>NaN</td>\n",
       "      <td>NaN</td>\n",
       "      <td>NaN</td>\n",
       "      <td>NaN</td>\n",
       "      <td>NaN</td>\n",
       "    </tr>\n",
       "    <tr>\n",
       "      <th>3</th>\n",
       "      <td>1.0</td>\n",
       "      <td>Linkedin Profile create/update</td>\n",
       "      <td>22/07/2019</td>\n",
       "      <td>Profile Building</td>\n",
       "      <td>Intent, Creativity,Content</td>\n",
       "      <td>Durga</td>\n",
       "      <td>0.0</td>\n",
       "      <td>6.0</td>\n",
       "      <td>10.0</td>\n",
       "      <td>0.0</td>\n",
       "      <td>...</td>\n",
       "      <td>NaN</td>\n",
       "      <td>NaN</td>\n",
       "      <td>NaN</td>\n",
       "      <td>NaN</td>\n",
       "      <td>NaN</td>\n",
       "      <td>NaN</td>\n",
       "      <td>NaN</td>\n",
       "      <td>NaN</td>\n",
       "      <td>NaN</td>\n",
       "      <td>NaN</td>\n",
       "    </tr>\n",
       "    <tr>\n",
       "      <th>4</th>\n",
       "      <td>1.0</td>\n",
       "      <td>Linkedin Profile create/update</td>\n",
       "      <td>22/07/2019</td>\n",
       "      <td>Profile Building</td>\n",
       "      <td>Intent, Creativity,Content</td>\n",
       "      <td>Kaushal</td>\n",
       "      <td>0.0</td>\n",
       "      <td>7.0</td>\n",
       "      <td>10.0</td>\n",
       "      <td>0.0</td>\n",
       "      <td>...</td>\n",
       "      <td>NaN</td>\n",
       "      <td>NaN</td>\n",
       "      <td>NaN</td>\n",
       "      <td>NaN</td>\n",
       "      <td>NaN</td>\n",
       "      <td>NaN</td>\n",
       "      <td>NaN</td>\n",
       "      <td>NaN</td>\n",
       "      <td>NaN</td>\n",
       "      <td>NaN</td>\n",
       "    </tr>\n",
       "  </tbody>\n",
       "</table>\n",
       "<p>5 rows × 23 columns</p>\n",
       "</div>"
      ],
      "text/plain": [
       "    id                            Task        Date            Module  \\\n",
       "0  NaN                             NaN         NaN               NaN   \n",
       "1  1.0  Linkedin Profile create/update  22/07/2019  Profile Building   \n",
       "2  1.0  Linkedin Profile create/update  22/07/2019  Profile Building   \n",
       "3  1.0  Linkedin Profile create/update  22/07/2019  Profile Building   \n",
       "4  1.0  Linkedin Profile create/update  22/07/2019  Profile Building   \n",
       "\n",
       "                         Type    Student  Late Submission  Points  Total  \\\n",
       "0                         NaN        NaN              NaN     NaN    NaN   \n",
       "1  Intent, Creativity,Content  Chandrima              0.0     6.0   10.0   \n",
       "2  Intent, Creativity,Content      Dipam              0.0     7.0   10.0   \n",
       "3  Intent, Creativity,Content      Durga              0.0     6.0   10.0   \n",
       "4  Intent, Creativity,Content    Kaushal              0.0     7.0   10.0   \n",
       "\n",
       "   Task Winner     ...      Unnamed: 13  Unnamed: 14  Unnamed: 15  \\\n",
       "0          NaN     ...              NaN          NaN          NaN   \n",
       "1          0.0     ...              NaN          NaN          NaN   \n",
       "2          0.0     ...              NaN          NaN          NaN   \n",
       "3          0.0     ...              NaN          NaN          NaN   \n",
       "4          0.0     ...              NaN          NaN          NaN   \n",
       "\n",
       "   Unnamed: 16  Unnamed: 17  Unnamed: 18 Unnamed: 19 Unnamed: 20 Unnamed: 21  \\\n",
       "0          NaN          NaN          NaN         NaN         NaN         NaN   \n",
       "1          NaN          NaN          NaN         NaN         NaN         NaN   \n",
       "2          NaN          NaN          NaN         NaN         NaN         NaN   \n",
       "3          NaN          NaN          NaN         NaN         NaN         NaN   \n",
       "4          NaN          NaN          NaN         NaN         NaN         NaN   \n",
       "\n",
       "  Unnamed: 22  \n",
       "0         NaN  \n",
       "1         NaN  \n",
       "2         NaN  \n",
       "3         NaN  \n",
       "4         NaN  \n",
       "\n",
       "[5 rows x 23 columns]"
      ]
     },
     "execution_count": 10,
     "metadata": {},
     "output_type": "execute_result"
    }
   ],
   "source": [
    "data_july.head()"
   ]
  },
  {
   "cell_type": "code",
   "execution_count": 11,
   "metadata": {},
   "outputs": [
    {
     "data": {
      "text/plain": [
       "Index(['id', 'Task', 'Date', 'Module', 'Type', 'Student', 'Late Submission',\n",
       "       'Points', 'Total', 'Task Winner', 'Unnamed: 10', 'Unnamed: 11',\n",
       "       'Unnamed: 12', 'Unnamed: 13', 'Unnamed: 14', 'Unnamed: 15',\n",
       "       'Unnamed: 16', 'Unnamed: 17', 'Unnamed: 18', 'Unnamed: 19',\n",
       "       'Unnamed: 20', 'Unnamed: 21', 'Unnamed: 22'],\n",
       "      dtype='object')"
      ]
     },
     "execution_count": 11,
     "metadata": {},
     "output_type": "execute_result"
    }
   ],
   "source": [
    "data_july.columns"
   ]
  },
  {
   "cell_type": "code",
   "execution_count": 12,
   "metadata": {},
   "outputs": [],
   "source": [
    "data_july.drop(columns=['Unnamed: 10','Unnamed: 11','Unnamed: 12','Unnamed: 13','Unnamed: 14','Unnamed: 15','Unnamed: 16','Unnamed: 17','Unnamed: 18','Unnamed: 19','Unnamed: 20','Unnamed: 21','Unnamed: 22'],inplace=True)"
   ]
  },
  {
   "cell_type": "code",
   "execution_count": 13,
   "metadata": {},
   "outputs": [
    {
     "data": {
      "text/plain": [
       "(215, 10)"
      ]
     },
     "execution_count": 13,
     "metadata": {},
     "output_type": "execute_result"
    }
   ],
   "source": [
    "data_july.shape "
   ]
  },
  {
   "cell_type": "code",
   "execution_count": 14,
   "metadata": {},
   "outputs": [],
   "source": [
    "data=pd.concat([data_july,data_august])"
   ]
  },
  {
   "cell_type": "code",
   "execution_count": 15,
   "metadata": {},
   "outputs": [
    {
     "data": {
      "text/plain": [
       "(794, 10)"
      ]
     },
     "execution_count": 15,
     "metadata": {},
     "output_type": "execute_result"
    }
   ],
   "source": [
    "data.shape"
   ]
  },
  {
   "cell_type": "code",
   "execution_count": 16,
   "metadata": {},
   "outputs": [
    {
     "data": {
      "text/plain": [
       "(579, 10)"
      ]
     },
     "execution_count": 16,
     "metadata": {},
     "output_type": "execute_result"
    }
   ],
   "source": [
    "data_august.shape"
   ]
  },
  {
   "cell_type": "code",
   "execution_count": 17,
   "metadata": {},
   "outputs": [
    {
     "data": {
      "text/plain": [
       "Student\n",
       "Ujjainee        239.0\n",
       "Purbita         227.5\n",
       "Dipam           226.5\n",
       "Shakib          225.0\n",
       "Vishal          224.5\n",
       "Surabhi         221.0\n",
       "Chandrima       221.0\n",
       "Kunal           219.5\n",
       "Sonali          210.5\n",
       "Sharika         203.5\n",
       "Apurwa          197.0\n",
       "Kaushal         193.0\n",
       "Durga           193.0\n",
       "Roumyak         178.0\n",
       "Prasoon         161.0\n",
       "Arya            158.5\n",
       "Shantanu        157.0\n",
       "Siddhishikha    153.0\n",
       "Swaastick        82.0\n",
       "Swaastik         74.0\n",
       "Wrick            62.5\n",
       "Bhavna           13.0\n",
       "Sudhanshu         8.5\n",
       "Nitish            6.0\n",
       "Anjali            5.0\n",
       "Sushree           2.0\n",
       "Name: Points, dtype: float64"
      ]
     },
     "execution_count": 17,
     "metadata": {},
     "output_type": "execute_result"
    }
   ],
   "source": [
    "data.groupby('Student')['Points'].sum().sort_values(ascending=False)"
   ]
  },
  {
   "cell_type": "code",
   "execution_count": 18,
   "metadata": {},
   "outputs": [
    {
     "data": {
      "text/plain": [
       "Index(['id', 'Task', 'Date', 'Module', 'Type', 'Student', 'Late Submission',\n",
       "       'Points', 'Total', 'Task Winner'],\n",
       "      dtype='object')"
      ]
     },
     "execution_count": 18,
     "metadata": {},
     "output_type": "execute_result"
    }
   ],
   "source": [
    "data_august.columns"
   ]
  },
  {
   "cell_type": "code",
   "execution_count": 19,
   "metadata": {},
   "outputs": [],
   "source": [
    "data.fillna({'Student':'No Student'},inplace=True)\n",
    "data.fillna({'Task':'No Task'},inplace=True)\n",
    "data.fillna({'Date':'0'},inplace=True)\n",
    "data.fillna({'Module':'No Module'},inplace=True)\n",
    "data.fillna({'Type':'No Type'},inplace=True)\n",
    "data.fillna({'Late Submission':'0'},inplace=True)\n",
    "data.fillna({'Points':'0.0'},inplace=True)\n",
    "data.fillna({'Total':'0'},inplace=True)\n",
    "data.fillna({'Task Winner':'0'},inplace=True)\n",
    "data.fillna({'id':'0'},inplace=True)"
   ]
  },
  {
   "cell_type": "code",
   "execution_count": 20,
   "metadata": {},
   "outputs": [
    {
     "data": {
      "text/plain": [
       "Index(['id', 'Task', 'Date', 'Module', 'Type', 'Student', 'Late Submission',\n",
       "       'Points', 'Total', 'Task Winner'],\n",
       "      dtype='object')"
      ]
     },
     "execution_count": 20,
     "metadata": {},
     "output_type": "execute_result"
    }
   ],
   "source": [
    "data.columns"
   ]
  },
  {
   "cell_type": "code",
   "execution_count": 21,
   "metadata": {},
   "outputs": [],
   "source": [
    "data['Points']=data['Points'].astype(float)"
   ]
  },
  {
   "cell_type": "code",
   "execution_count": 22,
   "metadata": {},
   "outputs": [],
   "source": [
    "data=data.drop(0)"
   ]
  },
  {
   "cell_type": "code",
   "execution_count": 23,
   "metadata": {},
   "outputs": [
    {
     "name": "stdout",
     "output_type": "stream",
     "text": [
      "<class 'pandas.core.frame.DataFrame'>\n",
      "Int64Index: 792 entries, 1 to 578\n",
      "Data columns (total 10 columns):\n",
      "id                 792 non-null object\n",
      "Task               792 non-null object\n",
      "Date               792 non-null object\n",
      "Module             792 non-null object\n",
      "Type               792 non-null object\n",
      "Student            792 non-null object\n",
      "Late Submission    792 non-null object\n",
      "Points             792 non-null float64\n",
      "Total              792 non-null object\n",
      "Task Winner        792 non-null object\n",
      "dtypes: float64(1), object(9)\n",
      "memory usage: 68.1+ KB\n"
     ]
    }
   ],
   "source": [
    "data.info()"
   ]
  },
  {
   "cell_type": "code",
   "execution_count": 25,
   "metadata": {},
   "outputs": [],
   "source": [
    "data_tasks=data[data['id']!=0]"
   ]
  },
  {
   "cell_type": "code",
   "execution_count": 26,
   "metadata": {},
   "outputs": [],
   "source": [
    "data_tasks\n",
    "data_dipam=data_tasks[data_tasks['Student']=='Dipam']  "
   ]
  },
  {
   "cell_type": "code",
   "execution_count": 27,
   "metadata": {},
   "outputs": [],
   "source": [
    "x=data_dipam['Total'].sum()"
   ]
  },
  {
   "cell_type": "code",
   "execution_count": 28,
   "metadata": {},
   "outputs": [],
   "source": [
    "y=data_dipam['Points'].sum()"
   ]
  },
  {
   "cell_type": "code",
   "execution_count": 29,
   "metadata": {},
   "outputs": [],
   "source": [
    "data_dipam_average=(y/x)*100"
   ]
  },
  {
   "cell_type": "code",
   "execution_count": 30,
   "metadata": {},
   "outputs": [
    {
     "data": {
      "text/plain": [
       "74.72222222222223"
      ]
     },
     "execution_count": 30,
     "metadata": {},
     "output_type": "execute_result"
    }
   ],
   "source": [
    "data_dipam_average"
   ]
  },
  {
   "cell_type": "code",
   "execution_count": 31,
   "metadata": {},
   "outputs": [
    {
     "data": {
      "text/plain": [
       "1"
      ]
     },
     "execution_count": 31,
     "metadata": {},
     "output_type": "execute_result"
    }
   ],
   "source": [
    "len(data_dipam[data_dipam['Task Winner']==1])"
   ]
  },
  {
   "cell_type": "code",
   "execution_count": 32,
   "metadata": {},
   "outputs": [],
   "source": [
    "data_profile=data_dipam[data_dipam['Module']=='Profile Building']"
   ]
  },
  {
   "cell_type": "code",
   "execution_count": 33,
   "metadata": {},
   "outputs": [],
   "source": [
    "data_profile_marks=(data_profile['Points'].sum()/data_profile['Total'].sum())*100"
   ]
  },
  {
   "cell_type": "code",
   "execution_count": 34,
   "metadata": {},
   "outputs": [
    {
     "data": {
      "text/plain": [
       "77.89473684210526"
      ]
     },
     "execution_count": 34,
     "metadata": {},
     "output_type": "execute_result"
    }
   ],
   "source": [
    "data_profile_marks"
   ]
  },
  {
   "cell_type": "code",
   "execution_count": 35,
   "metadata": {},
   "outputs": [],
   "source": [
    "data_consistency=data[data['id']==0]"
   ]
  },
  {
   "cell_type": "code",
   "execution_count": 36,
   "metadata": {},
   "outputs": [],
   "source": [
    "data_consistency_dipam=data_consistency[data_consistency['Student']=='Dipam']"
   ]
  },
  {
   "cell_type": "code",
   "execution_count": 37,
   "metadata": {},
   "outputs": [],
   "source": [
    "a=len(data_consistency[data_consistency['Student']=='Dipam'])"
   ]
  },
  {
   "cell_type": "code",
   "execution_count": 38,
   "metadata": {},
   "outputs": [],
   "source": [
    "b=len(data_consistency_dipam[data_consistency_dipam['Task']=='Knowledge Sharing'])"
   ]
  },
  {
   "cell_type": "code",
   "execution_count": 39,
   "metadata": {},
   "outputs": [],
   "source": [
    "knowledge=(b/a)*100"
   ]
  },
  {
   "cell_type": "code",
   "execution_count": 40,
   "metadata": {},
   "outputs": [
    {
     "data": {
      "text/plain": [
       "22.5"
      ]
     },
     "execution_count": 40,
     "metadata": {},
     "output_type": "execute_result"
    }
   ],
   "source": [
    "knowledge"
   ]
  },
  {
   "cell_type": "code",
   "execution_count": 41,
   "metadata": {},
   "outputs": [
    {
     "name": "stderr",
     "output_type": "stream",
     "text": [
      "C:\\Users\\USER\\Anaconda3\\lib\\site-packages\\scipy\\stats\\stats.py:1713: FutureWarning: Using a non-tuple sequence for multidimensional indexing is deprecated; use `arr[tuple(seq)]` instead of `arr[seq]`. In the future this will be interpreted as an array index, `arr[np.array(seq)]`, which will result either in an error or a different result.\n",
      "  return np.add.reduce(sorted[indexer] * weights, axis=axis) / sumval\n"
     ]
    },
    {
     "data": {
      "text/plain": [
       "<matplotlib.axes._subplots.AxesSubplot at 0x1f5fd67dba8>"
      ]
     },
     "execution_count": 41,
     "metadata": {},
     "output_type": "execute_result"
    },
    {
     "data": {
      "image/png": "[encoded data removed]",
      "text/plain": [
       "<Figure size 432x288 with 1 Axes>"
      ]
     },
     "metadata": {
      "needs_background": "light"
     },
     "output_type": "display_data"
    }
   ],
   "source": [
    "i=data_dipam['Points'].values\n",
    "j=data_dipam['Total'].values\n",
    "sns.barplot(x='Points',y='Total',data=data_dipam)"
   ]
  },
  {
   "cell_type": "code",
   "execution_count": 42,
   "metadata": {},
   "outputs": [],
   "source": [
    "def student(name):\n",
    "    data_tasks=data[data['id']!=0]\n",
    "    data_student=data_tasks[data_tasks['Student']==name] \n",
    "    print(\"THE NAME OF THE STUDENT: \",name)\n",
    "    x=data_student['Total'].sum()\n",
    "    print(\"TOTAL MARKS OF THE TASKS: \",x)\n",
    "    y=data_student['Points'].sum()\n",
    "    print(\"THE MARKS OBTAINED BY THE STUDENT: \",y)\n",
    "    average=(y/x)*100\n",
    "    print(\"THE PERCENTAGE: \",average,\"%\")\n",
    "    if(average>=90):\n",
    "        print(\"GRADE: 0 (OUTSTANDING)\")\n",
    "    elif(average>=80):\n",
    "        print(\"GRADE: E (EXCELLENT)\")\n",
    "    elif(average>=70):\n",
    "        print(\"GARDE: A++ (VERY GOOD)\")\n",
    "    elif(average>=60):\n",
    "        print(\"GRADE: A (GOOD)\")\n",
    "    elif(average)>=50:\n",
    "        print(\"GRADE: B (FAIR)\")\n",
    "    elif(average>=40):\n",
    "        print(\"GARDE: C (SATISFACTORY)\")\n",
    "    elif(average>=30):\n",
    "        print(\"GARDE: D (TRY TO IMPROVE)\")\n",
    "    else:\n",
    "        print(\"GRADE: F (FAIL)\")\n",
    "    m=len(data_student[data_student['Task Winner']==1])\n",
    "    print(\"TASK WINNER: \",m,\"times\")\n",
    "    data_profile=data_student[data_student['Module']=='Profile Building']\n",
    "    data_profile_marks=(data_profile['Points'].sum()/data_profile['Total'].sum())*100\n",
    "    print(\"PROFILE BULIDING PERCENTILE: \",data_profile_marks,\"%\")\n",
    "    data_consistency=data[data['id']==0]\n",
    "    data_consistency_student=data_consistency[data_consistency['Student']==name]\n",
    "    a=len(data_consistency[data_consistency['Student']==name])\n",
    "    b=len(data_consistency_student[data_consistency_student['Task']=='Knowledge Sharing'])\n",
    "    knowledge=(b/a)*100\n",
    "    print(\"KNOWLEDGE SHARING PERCENTILE: \",knowledge,\"%\")\n",
    "    sns.barplot(x='Points',y='Total',data=data_student)"
   ]
  },
  {
   "cell_type": "code",
   "execution_count": 43,
   "metadata": {},
   "outputs": [
    {
     "name": "stdout",
     "output_type": "stream",
     "text": [
      "THE NAME OF THE STUDENT:  Shakib\n",
      "TOTAL MARKS OF THE TASKS:  180.0\n",
      "THE MARKS OBTAINED BY THE STUDENT:  151.0\n",
      "THE PERCENTAGE:  83.88888888888889 %\n",
      "GRADE: E (EXCELLENT)\n",
      "TASK WINNER:  3 times\n",
      "PROFILE BULIDING PERCENTILE:  87.36842105263159 %\n",
      "KNOWLEDGE SHARING PERCENTILE:  11.76470588235294 %\n"
     ]
    },
    {
     "data": {
      "image/png": "[encoded data removed]",
      "text/plain": [
       "<Figure size 432x288 with 1 Axes>"
      ]
     },
     "metadata": {
      "needs_background": "light"
     },
     "output_type": "display_data"
    }
   ],
   "source": [
    "student('Shakib')"
   ]
  },
  {
   "cell_type": "code",
   "execution_count": 44,
   "metadata": {},
   "outputs": [
    {
     "name": "stdout",
     "output_type": "stream",
     "text": [
      "THE NAME OF THE STUDENT:  Dipam\n",
      "TOTAL MARKS OF THE TASKS:  180.0\n",
      "THE MARKS OBTAINED BY THE STUDENT:  134.5\n",
      "THE PERCENTAGE:  74.72222222222223 %\n",
      "GARDE: A++ (VERY GOOD)\n",
      "TASK WINNER:  1 times\n",
      "PROFILE BULIDING PERCENTILE:  77.89473684210526 %\n",
      "KNOWLEDGE SHARING PERCENTILE:  22.5 %\n"
     ]
    },
    {
     "data": {
      "image/png": "[encoded data removed]",
      "text/plain": [
       "<Figure size 432x288 with 1 Axes>"
      ]
     },
     "metadata": {
      "needs_background": "light"
     },
     "output_type": "display_data"
    }
   ],
   "source": [
    "student('Dipam')"
   ]
  },
  {
   "cell_type": "code",
   "execution_count": null,
   "metadata": {},
   "outputs": [],
   "source": []
  },
  {
   "cell_type": "code",
   "execution_count": null,
   "metadata": {},
   "outputs": [],
   "source": []
  },
  {
   "cell_type": "code",
   "execution_count": null,
   "metadata": {},
   "outputs": [],
   "source": []
  },
  {
   "cell_type": "code",
   "execution_count": null,
   "metadata": {},
   "outputs": [],
   "source": []
  },
  {
   "cell_type": "code",
   "execution_count": null,
   "metadata": {},
   "outputs": [],
   "source": []
  },
  {
   "cell_type": "code",
   "execution_count": null,
   "metadata": {},
   "outputs": [],
   "source": []
  },
  {
   "cell_type": "code",
   "execution_count": null,
   "metadata": {},
   "outputs": [],
   "source": []
  },
  {
   "cell_type": "code",
   "execution_count": null,
   "metadata": {},
   "outputs": [],
   "source": []
  },
  {
   "cell_type": "code",
   "execution_count": null,
   "metadata": {},
   "outputs": [],
   "source": []
  },
  {
   "cell_type": "code",
   "execution_count": null,
   "metadata": {},
   "outputs": [],
   "source": []
  },
  {
   "cell_type": "code",
   "execution_count": null,
   "metadata": {},
   "outputs": [],
   "source": []
  },
  {
   "cell_type": "code",
   "execution_count": null,
   "metadata": {},
   "outputs": [],
   "source": []
  },
  {
   "cell_type": "markdown",
   "metadata": {},
   "source": [
    "# Shakib"
   ]
  },
  {
   "cell_type": "code",
   "execution_count": null,
   "metadata": {},
   "outputs": [],
   "source": []
  },
  {
   "cell_type": "code",
   "execution_count": null,
   "metadata": {},
   "outputs": [],
   "source": []
  },
  {
   "cell_type": "code",
   "execution_count": null,
   "metadata": {},
   "outputs": [],
   "source": []
  },
  {
   "cell_type": "code",
   "execution_count": null,
   "metadata": {},
   "outputs": [],
   "source": []
  },
  {
   "cell_type": "code",
   "execution_count": null,
   "metadata": {},
   "outputs": [],
   "source": []
  },
  {
   "cell_type": "code",
   "execution_count": null,
   "metadata": {},
   "outputs": [],
   "source": []
  },
  {
   "cell_type": "code",
   "execution_count": null,
   "metadata": {},
   "outputs": [],
   "source": []
  },
  {
   "cell_type": "code",
   "execution_count": null,
   "metadata": {},
   "outputs": [],
   "source": []
  },
  {
   "cell_type": "code",
   "execution_count": null,
   "metadata": {},
   "outputs": [],
   "source": []
  },
  {
   "cell_type": "code",
   "execution_count": null,
   "metadata": {},
   "outputs": [],
   "source": []
  },
  {
   "cell_type": "code",
   "execution_count": null,
   "metadata": {},
   "outputs": [],
   "source": []
  },
  {
   "cell_type": "code",
   "execution_count": null,
   "metadata": {},
   "outputs": [],
   "source": []
  },
  {
   "cell_type": "code",
   "execution_count": null,
   "metadata": {},
   "outputs": [],
   "source": []
  },
  {
   "cell_type": "code",
   "execution_count": null,
   "metadata": {},
   "outputs": [],
   "source": []
  },
  {
   "cell_type": "markdown",
   "metadata": {},
   "source": [
    "# Sushree"
   ]
  },
  {
   "cell_type": "code",
   "execution_count": null,
   "metadata": {},
   "outputs": [],
   "source": []
  }
 ],
 "metadata": {
  "kernelspec": {
   "display_name": "Python 3",
   "language": "python",
   "name": "python3"
  },
  "language_info": {
   "codemirror_mode": {
    "name": "ipython",
    "version": 3
   },
   "file_extension": ".py",
   "mimetype": "text/x-python",
   "name": "python",
   "nbconvert_exporter": "python",
   "pygments_lexer": "ipython3",
   "version": "3.7.1"
  }
 },
 "nbformat": 4,
 "nbformat_minor": 2
}
