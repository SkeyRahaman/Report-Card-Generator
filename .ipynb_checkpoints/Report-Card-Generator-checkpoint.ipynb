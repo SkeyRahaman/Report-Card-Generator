{
 "cells": [
  {
   "cell_type": "markdown",
   "metadata": {},
   "source": [
    "# Dipam"
   ]
  },
  {
   "cell_type": "code",
   "execution_count": 71,
   "metadata": {},
   "outputs": [],
   "source": [
    "import numpy as np\n",
    "import pandas as pd\n",
    "import matplotlib.pyplot as plt\n",
    "%matplotlib inline\n",
    "import seaborn as sns\n",
    "plt.style.use('fivethirtyeight')"
   ]
  },
  {
   "cell_type": "code",
   "execution_count": null,
   "metadata": {},
   "outputs": [],
   "source": []
  },
  {
   "cell_type": "code",
   "execution_count": null,
   "metadata": {},
   "outputs": [],
   "source": []
  },
  {
   "cell_type": "code",
   "execution_count": 72,
   "metadata": {},
   "outputs": [],
   "source": [
    "#gathering data\n",
    "data=pd.read_csv('Student Gradebook - August.csv')"
   ]
  },
  {
   "cell_type": "code",
   "execution_count": 73,
   "metadata": {},
   "outputs": [
    {
     "data": {
      "text/html": [
       "<div>\n",
       "<style scoped>\n",
       "    .dataframe tbody tr th:only-of-type {\n",
       "        vertical-align: middle;\n",
       "    }\n",
       "\n",
       "    .dataframe tbody tr th {\n",
       "        vertical-align: top;\n",
       "    }\n",
       "\n",
       "    .dataframe thead th {\n",
       "        text-align: right;\n",
       "    }\n",
       "</style>\n",
       "<table border=\"1\" class=\"dataframe\">\n",
       "  <thead>\n",
       "    <tr style=\"text-align: right;\">\n",
       "      <th></th>\n",
       "      <th>id</th>\n",
       "      <th>Task</th>\n",
       "      <th>Date</th>\n",
       "      <th>Module</th>\n",
       "      <th>Type</th>\n",
       "      <th>Student</th>\n",
       "      <th>Late Submission</th>\n",
       "      <th>Points</th>\n",
       "      <th>Total</th>\n",
       "      <th>Task Winner</th>\n",
       "    </tr>\n",
       "  </thead>\n",
       "  <tbody>\n",
       "    <tr>\n",
       "      <th>0</th>\n",
       "      <td>0</td>\n",
       "      <td>AjKyaUkhada</td>\n",
       "      <td>01-08-19 13:26</td>\n",
       "      <td>Ritual</td>\n",
       "      <td>Consistency</td>\n",
       "      <td>Sonali</td>\n",
       "      <td>0</td>\n",
       "      <td>2.0</td>\n",
       "      <td>2</td>\n",
       "      <td>0</td>\n",
       "    </tr>\n",
       "    <tr>\n",
       "      <th>1</th>\n",
       "      <td>0</td>\n",
       "      <td>AjKyaUkhada</td>\n",
       "      <td>01-08-19 14:40</td>\n",
       "      <td>Ritual</td>\n",
       "      <td>Consistency</td>\n",
       "      <td>Chandrima</td>\n",
       "      <td>0</td>\n",
       "      <td>2.0</td>\n",
       "      <td>2</td>\n",
       "      <td>0</td>\n",
       "    </tr>\n",
       "    <tr>\n",
       "      <th>2</th>\n",
       "      <td>0</td>\n",
       "      <td>AjKyaUkhada</td>\n",
       "      <td>01-08-19 14:44</td>\n",
       "      <td>Ritual</td>\n",
       "      <td>Consistency</td>\n",
       "      <td>Purbita</td>\n",
       "      <td>0</td>\n",
       "      <td>2.0</td>\n",
       "      <td>2</td>\n",
       "      <td>0</td>\n",
       "    </tr>\n",
       "    <tr>\n",
       "      <th>3</th>\n",
       "      <td>0</td>\n",
       "      <td>AjKyaUkhada</td>\n",
       "      <td>01-08-19 14:47</td>\n",
       "      <td>Ritual</td>\n",
       "      <td>Consistency</td>\n",
       "      <td>Kunal</td>\n",
       "      <td>0</td>\n",
       "      <td>2.0</td>\n",
       "      <td>2</td>\n",
       "      <td>0</td>\n",
       "    </tr>\n",
       "    <tr>\n",
       "      <th>4</th>\n",
       "      <td>0</td>\n",
       "      <td>AjKyaUkhada</td>\n",
       "      <td>01-08-19 14:48</td>\n",
       "      <td>Ritual</td>\n",
       "      <td>Consistency</td>\n",
       "      <td>Kaushal</td>\n",
       "      <td>0</td>\n",
       "      <td>2.0</td>\n",
       "      <td>2</td>\n",
       "      <td>0</td>\n",
       "    </tr>\n",
       "  </tbody>\n",
       "</table>\n",
       "</div>"
      ],
      "text/plain": [
       "   id         Task            Date  Module         Type    Student  \\\n",
       "0   0  AjKyaUkhada  01-08-19 13:26  Ritual  Consistency     Sonali   \n",
       "1   0  AjKyaUkhada  01-08-19 14:40  Ritual  Consistency  Chandrima   \n",
       "2   0  AjKyaUkhada  01-08-19 14:44  Ritual  Consistency    Purbita   \n",
       "3   0  AjKyaUkhada  01-08-19 14:47  Ritual  Consistency      Kunal   \n",
       "4   0  AjKyaUkhada  01-08-19 14:48  Ritual  Consistency    Kaushal   \n",
       "\n",
       "   Late Submission  Points  Total  Task Winner  \n",
       "0                0     2.0      2            0  \n",
       "1                0     2.0      2            0  \n",
       "2                0     2.0      2            0  \n",
       "3                0     2.0      2            0  \n",
       "4                0     2.0      2            0  "
      ]
     },
     "execution_count": 73,
     "metadata": {},
     "output_type": "execute_result"
    }
   ],
   "source": [
    "data.head()"
   ]
  },
  {
   "cell_type": "code",
   "execution_count": 74,
   "metadata": {},
   "outputs": [
    {
     "data": {
      "text/plain": [
       "Student\n",
       "Surabhi      169.5\n",
       "Ujjainee     163.5\n",
       "Dipam        160.0\n",
       "Shakib       156.0\n",
       "Chandrima    155.5\n",
       "Name: Points, dtype: float64"
      ]
     },
     "execution_count": 74,
     "metadata": {},
     "output_type": "execute_result"
    }
   ],
   "source": [
    "data.groupby('Student')['Points'].sum().sort_values(ascending=False).head()"
   ]
  },
  {
   "cell_type": "code",
   "execution_count": 75,
   "metadata": {},
   "outputs": [],
   "source": [
    "data_august=data  #basically to understand that it is the dataset of august"
   ]
  },
  {
   "cell_type": "code",
   "execution_count": 76,
   "metadata": {},
   "outputs": [
    {
     "data": {
      "text/plain": [
       "(579, 10)"
      ]
     },
     "execution_count": 76,
     "metadata": {},
     "output_type": "execute_result"
    }
   ],
   "source": [
    "data_august.shape   "
   ]
  },
  {
   "cell_type": "code",
   "execution_count": 77,
   "metadata": {},
   "outputs": [],
   "source": [
    "data_july=pd.read_csv('Student Gradebook - July.csv')"
   ]
  },
  {
   "cell_type": "code",
   "execution_count": 78,
   "metadata": {},
   "outputs": [
    {
     "data": {
      "text/html": [
       "<div>\n",
       "<style scoped>\n",
       "    .dataframe tbody tr th:only-of-type {\n",
       "        vertical-align: middle;\n",
       "    }\n",
       "\n",
       "    .dataframe tbody tr th {\n",
       "        vertical-align: top;\n",
       "    }\n",
       "\n",
       "    .dataframe thead th {\n",
       "        text-align: right;\n",
       "    }\n",
       "</style>\n",
       "<table border=\"1\" class=\"dataframe\">\n",
       "  <thead>\n",
       "    <tr style=\"text-align: right;\">\n",
       "      <th></th>\n",
       "      <th>id</th>\n",
       "      <th>Task</th>\n",
       "      <th>Date</th>\n",
       "      <th>Module</th>\n",
       "      <th>Type</th>\n",
       "      <th>Student</th>\n",
       "      <th>Late Submission</th>\n",
       "      <th>Points</th>\n",
       "      <th>Total</th>\n",
       "      <th>Task Winner</th>\n",
       "      <th>...</th>\n",
       "      <th>Unnamed: 13</th>\n",
       "      <th>Unnamed: 14</th>\n",
       "      <th>Unnamed: 15</th>\n",
       "      <th>Unnamed: 16</th>\n",
       "      <th>Unnamed: 17</th>\n",
       "      <th>Unnamed: 18</th>\n",
       "      <th>Unnamed: 19</th>\n",
       "      <th>Unnamed: 20</th>\n",
       "      <th>Unnamed: 21</th>\n",
       "      <th>Unnamed: 22</th>\n",
       "    </tr>\n",
       "  </thead>\n",
       "  <tbody>\n",
       "    <tr>\n",
       "      <th>0</th>\n",
       "      <td>NaN</td>\n",
       "      <td>NaN</td>\n",
       "      <td>NaN</td>\n",
       "      <td>NaN</td>\n",
       "      <td>NaN</td>\n",
       "      <td>NaN</td>\n",
       "      <td>NaN</td>\n",
       "      <td>NaN</td>\n",
       "      <td>NaN</td>\n",
       "      <td>NaN</td>\n",
       "      <td>...</td>\n",
       "      <td>NaN</td>\n",
       "      <td>NaN</td>\n",
       "      <td>NaN</td>\n",
       "      <td>NaN</td>\n",
       "      <td>NaN</td>\n",
       "      <td>NaN</td>\n",
       "      <td>NaN</td>\n",
       "      <td>NaN</td>\n",
       "      <td>NaN</td>\n",
       "      <td>NaN</td>\n",
       "    </tr>\n",
       "    <tr>\n",
       "      <th>1</th>\n",
       "      <td>1.0</td>\n",
       "      <td>Linkedin Profile create/update</td>\n",
       "      <td>22-07-19</td>\n",
       "      <td>Profile Building</td>\n",
       "      <td>Intent, Creativity,Content</td>\n",
       "      <td>Chandrima</td>\n",
       "      <td>0.0</td>\n",
       "      <td>6.0</td>\n",
       "      <td>10.0</td>\n",
       "      <td>0.0</td>\n",
       "      <td>...</td>\n",
       "      <td>NaN</td>\n",
       "      <td>NaN</td>\n",
       "      <td>NaN</td>\n",
       "      <td>NaN</td>\n",
       "      <td>NaN</td>\n",
       "      <td>NaN</td>\n",
       "      <td>NaN</td>\n",
       "      <td>NaN</td>\n",
       "      <td>NaN</td>\n",
       "      <td>NaN</td>\n",
       "    </tr>\n",
       "    <tr>\n",
       "      <th>2</th>\n",
       "      <td>1.0</td>\n",
       "      <td>Linkedin Profile create/update</td>\n",
       "      <td>22-07-19</td>\n",
       "      <td>Profile Building</td>\n",
       "      <td>Intent, Creativity,Content</td>\n",
       "      <td>Dipam</td>\n",
       "      <td>0.0</td>\n",
       "      <td>7.0</td>\n",
       "      <td>10.0</td>\n",
       "      <td>0.0</td>\n",
       "      <td>...</td>\n",
       "      <td>NaN</td>\n",
       "      <td>NaN</td>\n",
       "      <td>NaN</td>\n",
       "      <td>NaN</td>\n",
       "      <td>NaN</td>\n",
       "      <td>NaN</td>\n",
       "      <td>NaN</td>\n",
       "      <td>NaN</td>\n",
       "      <td>NaN</td>\n",
       "      <td>NaN</td>\n",
       "    </tr>\n",
       "    <tr>\n",
       "      <th>3</th>\n",
       "      <td>1.0</td>\n",
       "      <td>Linkedin Profile create/update</td>\n",
       "      <td>22-07-19</td>\n",
       "      <td>Profile Building</td>\n",
       "      <td>Intent, Creativity,Content</td>\n",
       "      <td>Durga</td>\n",
       "      <td>0.0</td>\n",
       "      <td>6.0</td>\n",
       "      <td>10.0</td>\n",
       "      <td>0.0</td>\n",
       "      <td>...</td>\n",
       "      <td>NaN</td>\n",
       "      <td>NaN</td>\n",
       "      <td>NaN</td>\n",
       "      <td>NaN</td>\n",
       "      <td>NaN</td>\n",
       "      <td>NaN</td>\n",
       "      <td>NaN</td>\n",
       "      <td>NaN</td>\n",
       "      <td>NaN</td>\n",
       "      <td>NaN</td>\n",
       "    </tr>\n",
       "    <tr>\n",
       "      <th>4</th>\n",
       "      <td>1.0</td>\n",
       "      <td>Linkedin Profile create/update</td>\n",
       "      <td>22-07-19</td>\n",
       "      <td>Profile Building</td>\n",
       "      <td>Intent, Creativity,Content</td>\n",
       "      <td>Kaushal</td>\n",
       "      <td>0.0</td>\n",
       "      <td>7.0</td>\n",
       "      <td>10.0</td>\n",
       "      <td>0.0</td>\n",
       "      <td>...</td>\n",
       "      <td>NaN</td>\n",
       "      <td>NaN</td>\n",
       "      <td>NaN</td>\n",
       "      <td>NaN</td>\n",
       "      <td>NaN</td>\n",
       "      <td>NaN</td>\n",
       "      <td>NaN</td>\n",
       "      <td>NaN</td>\n",
       "      <td>NaN</td>\n",
       "      <td>NaN</td>\n",
       "    </tr>\n",
       "  </tbody>\n",
       "</table>\n",
       "<p>5 rows × 23 columns</p>\n",
       "</div>"
      ],
      "text/plain": [
       "    id                            Task      Date            Module  \\\n",
       "0  NaN                             NaN       NaN               NaN   \n",
       "1  1.0  Linkedin Profile create/update  22-07-19  Profile Building   \n",
       "2  1.0  Linkedin Profile create/update  22-07-19  Profile Building   \n",
       "3  1.0  Linkedin Profile create/update  22-07-19  Profile Building   \n",
       "4  1.0  Linkedin Profile create/update  22-07-19  Profile Building   \n",
       "\n",
       "                         Type    Student  Late Submission  Points  Total  \\\n",
       "0                         NaN        NaN              NaN     NaN    NaN   \n",
       "1  Intent, Creativity,Content  Chandrima              0.0     6.0   10.0   \n",
       "2  Intent, Creativity,Content      Dipam              0.0     7.0   10.0   \n",
       "3  Intent, Creativity,Content      Durga              0.0     6.0   10.0   \n",
       "4  Intent, Creativity,Content    Kaushal              0.0     7.0   10.0   \n",
       "\n",
       "   Task Winner     ...      Unnamed: 13  Unnamed: 14  Unnamed: 15  \\\n",
       "0          NaN     ...              NaN          NaN          NaN   \n",
       "1          0.0     ...              NaN          NaN          NaN   \n",
       "2          0.0     ...              NaN          NaN          NaN   \n",
       "3          0.0     ...              NaN          NaN          NaN   \n",
       "4          0.0     ...              NaN          NaN          NaN   \n",
       "\n",
       "   Unnamed: 16  Unnamed: 17  Unnamed: 18 Unnamed: 19 Unnamed: 20 Unnamed: 21  \\\n",
       "0          NaN          NaN          NaN         NaN         NaN         NaN   \n",
       "1          NaN          NaN          NaN         NaN         NaN         NaN   \n",
       "2          NaN          NaN          NaN         NaN         NaN         NaN   \n",
       "3          NaN          NaN          NaN         NaN         NaN         NaN   \n",
       "4          NaN          NaN          NaN         NaN         NaN         NaN   \n",
       "\n",
       "  Unnamed: 22  \n",
       "0         NaN  \n",
       "1         NaN  \n",
       "2         NaN  \n",
       "3         NaN  \n",
       "4         NaN  \n",
       "\n",
       "[5 rows x 23 columns]"
      ]
     },
     "execution_count": 78,
     "metadata": {},
     "output_type": "execute_result"
    }
   ],
   "source": [
    "data_july.head()"
   ]
  },
  {
   "cell_type": "code",
   "execution_count": 79,
   "metadata": {},
   "outputs": [
    {
     "data": {
      "text/plain": [
       "Index(['id', 'Task', 'Date', 'Module', 'Type', 'Student', 'Late Submission',\n",
       "       'Points', 'Total', 'Task Winner', 'Unnamed: 10', 'Unnamed: 11',\n",
       "       'Unnamed: 12', 'Unnamed: 13', 'Unnamed: 14', 'Unnamed: 15',\n",
       "       'Unnamed: 16', 'Unnamed: 17', 'Unnamed: 18', 'Unnamed: 19',\n",
       "       'Unnamed: 20', 'Unnamed: 21', 'Unnamed: 22'],\n",
       "      dtype='object')"
      ]
     },
     "execution_count": 79,
     "metadata": {},
     "output_type": "execute_result"
    }
   ],
   "source": [
    "data_july.columns"
   ]
  },
  {
   "cell_type": "code",
   "execution_count": 80,
   "metadata": {},
   "outputs": [],
   "source": [
    "#data cleaning\n",
    "data_july.drop(columns=['Unnamed: 10','Unnamed: 11','Unnamed: 12','Unnamed: 13','Unnamed: 14','Unnamed: 15','Unnamed: 16','Unnamed: 17','Unnamed: 18','Unnamed: 19','Unnamed: 20','Unnamed: 21','Unnamed: 22'],inplace=True)"
   ]
  },
  {
   "cell_type": "code",
   "execution_count": 81,
   "metadata": {},
   "outputs": [
    {
     "data": {
      "text/plain": [
       "(215, 10)"
      ]
     },
     "execution_count": 81,
     "metadata": {},
     "output_type": "execute_result"
    }
   ],
   "source": [
    "data_july.shape "
   ]
  },
  {
   "cell_type": "code",
   "execution_count": 82,
   "metadata": {},
   "outputs": [],
   "source": [
    "data=pd.concat([data_july,data_august])"
   ]
  },
  {
   "cell_type": "code",
   "execution_count": 83,
   "metadata": {},
   "outputs": [
    {
     "data": {
      "text/plain": [
       "(794, 10)"
      ]
     },
     "execution_count": 83,
     "metadata": {},
     "output_type": "execute_result"
    }
   ],
   "source": [
    "data.shape"
   ]
  },
  {
   "cell_type": "code",
   "execution_count": 84,
   "metadata": {},
   "outputs": [
    {
     "data": {
      "text/plain": [
       "(579, 10)"
      ]
     },
     "execution_count": 84,
     "metadata": {},
     "output_type": "execute_result"
    }
   ],
   "source": [
    "data_august.shape"
   ]
  },
  {
   "cell_type": "code",
   "execution_count": 85,
   "metadata": {},
   "outputs": [
    {
     "data": {
      "text/plain": [
       "Student\n",
       "Ujjainee    239.0\n",
       "Purbita     227.5\n",
       "Dipam       226.5\n",
       "Shakib      225.0\n",
       "Vishal      224.5\n",
       "Name: Points, dtype: float64"
      ]
     },
     "execution_count": 85,
     "metadata": {},
     "output_type": "execute_result"
    }
   ],
   "source": [
    "data.groupby('Student')['Points'].sum().sort_values(ascending=False).head()"
   ]
  },
  {
   "cell_type": "code",
   "execution_count": 86,
   "metadata": {},
   "outputs": [
    {
     "data": {
      "text/plain": [
       "Index(['id', 'Task', 'Date', 'Module', 'Type', 'Student', 'Late Submission',\n",
       "       'Points', 'Total', 'Task Winner'],\n",
       "      dtype='object')"
      ]
     },
     "execution_count": 86,
     "metadata": {},
     "output_type": "execute_result"
    }
   ],
   "source": [
    "data_august.columns"
   ]
  },
  {
   "cell_type": "code",
   "execution_count": 87,
   "metadata": {},
   "outputs": [],
   "source": [
    "data.fillna({'Student':'No Student'},inplace=True)\n",
    "data.fillna({'Task':'No Task'},inplace=True)\n",
    "data.fillna({'Date':'0'},inplace=True)\n",
    "data.fillna({'Module':'No Module'},inplace=True)\n",
    "data.fillna({'Type':'No Type'},inplace=True)\n",
    "data.fillna({'Late Submission':'0'},inplace=True)\n",
    "data.fillna({'Points':'0.0'},inplace=True)\n",
    "data.fillna({'Total':'0'},inplace=True)\n",
    "data.fillna({'Task Winner':'0'},inplace=True)\n",
    "data.fillna({'id':'0'},inplace=True)"
   ]
  },
  {
   "cell_type": "code",
   "execution_count": 88,
   "metadata": {},
   "outputs": [
    {
     "data": {
      "text/plain": [
       "Index(['id', 'Task', 'Date', 'Module', 'Type', 'Student', 'Late Submission',\n",
       "       'Points', 'Total', 'Task Winner'],\n",
       "      dtype='object')"
      ]
     },
     "execution_count": 88,
     "metadata": {},
     "output_type": "execute_result"
    }
   ],
   "source": [
    "data.columns"
   ]
  },
  {
   "cell_type": "code",
   "execution_count": 89,
   "metadata": {},
   "outputs": [],
   "source": [
    "data['Points']=data['Points'].astype(float)"
   ]
  },
  {
   "cell_type": "code",
   "execution_count": 90,
   "metadata": {},
   "outputs": [],
   "source": [
    "data=data.drop(0)"
   ]
  },
  {
   "cell_type": "code",
   "execution_count": 91,
   "metadata": {},
   "outputs": [
    {
     "name": "stdout",
     "output_type": "stream",
     "text": [
      "<class 'pandas.core.frame.DataFrame'>\n",
      "Int64Index: 792 entries, 1 to 578\n",
      "Data columns (total 10 columns):\n",
      "id                 792 non-null object\n",
      "Task               792 non-null object\n",
      "Date               792 non-null object\n",
      "Module             792 non-null object\n",
      "Type               792 non-null object\n",
      "Student            792 non-null object\n",
      "Late Submission    792 non-null object\n",
      "Points             792 non-null float64\n",
      "Total              792 non-null object\n",
      "Task Winner        792 non-null object\n",
      "dtypes: float64(1), object(9)\n",
      "memory usage: 68.1+ KB\n"
     ]
    }
   ],
   "source": [
    "data.info()"
   ]
  },
  {
   "cell_type": "code",
   "execution_count": 92,
   "metadata": {},
   "outputs": [],
   "source": [
    "data_tasks=data[data['id']!=0]"
   ]
  },
  {
   "cell_type": "code",
   "execution_count": 93,
   "metadata": {},
   "outputs": [],
   "source": [
    "data_tasks\n",
    "data_dipam=data_tasks[data_tasks['Student']=='Dipam']  "
   ]
  },
  {
   "cell_type": "code",
   "execution_count": 94,
   "metadata": {},
   "outputs": [],
   "source": [
    "x=data_dipam['Total'].sum()"
   ]
  },
  {
   "cell_type": "code",
   "execution_count": 95,
   "metadata": {},
   "outputs": [],
   "source": [
    "y=data_dipam['Points'].sum()"
   ]
  },
  {
   "cell_type": "code",
   "execution_count": 96,
   "metadata": {},
   "outputs": [],
   "source": [
    "data_dipam_average=(y/x)*100"
   ]
  },
  {
   "cell_type": "code",
   "execution_count": 97,
   "metadata": {},
   "outputs": [
    {
     "data": {
      "text/plain": [
       "74.72222222222223"
      ]
     },
     "execution_count": 97,
     "metadata": {},
     "output_type": "execute_result"
    }
   ],
   "source": [
    "data_dipam_average"
   ]
  },
  {
   "cell_type": "code",
   "execution_count": 98,
   "metadata": {},
   "outputs": [
    {
     "data": {
      "text/plain": [
       "1"
      ]
     },
     "execution_count": 98,
     "metadata": {},
     "output_type": "execute_result"
    }
   ],
   "source": [
    "len(data_dipam[data_dipam['Task Winner']==1])"
   ]
  },
  {
   "cell_type": "code",
   "execution_count": 99,
   "metadata": {},
   "outputs": [],
   "source": [
    "data_profile=data_dipam[data_dipam['Module']=='Profile Building']"
   ]
  },
  {
   "cell_type": "code",
   "execution_count": 100,
   "metadata": {},
   "outputs": [],
   "source": [
    "data_profile_marks=(data_profile['Points'].sum()/data_profile['Total'].sum())*100"
   ]
  },
  {
   "cell_type": "code",
   "execution_count": 101,
   "metadata": {},
   "outputs": [
    {
     "data": {
      "text/plain": [
       "77.89473684210526"
      ]
     },
     "execution_count": 101,
     "metadata": {},
     "output_type": "execute_result"
    }
   ],
   "source": [
    "data_profile_marks"
   ]
  },
  {
   "cell_type": "code",
   "execution_count": 102,
   "metadata": {},
   "outputs": [],
   "source": [
    "data_consistency=data[data['id']==0]"
   ]
  },
  {
   "cell_type": "code",
   "execution_count": 103,
   "metadata": {},
   "outputs": [],
   "source": [
    "data_consistency_dipam=data_consistency[data_consistency['Student']=='Dipam']"
   ]
  },
  {
   "cell_type": "code",
   "execution_count": 104,
   "metadata": {},
   "outputs": [],
   "source": [
    "a=len(data_consistency[data_consistency['Student']=='Dipam'])"
   ]
  },
  {
   "cell_type": "code",
   "execution_count": 105,
   "metadata": {},
   "outputs": [],
   "source": [
    "b=len(data_consistency_dipam[data_consistency_dipam['Task']=='Knowledge Sharing'])"
   ]
  },
  {
   "cell_type": "code",
   "execution_count": 106,
   "metadata": {},
   "outputs": [],
   "source": [
    "knowledge=(b/a)*100"
   ]
  },
  {
   "cell_type": "code",
   "execution_count": 107,
   "metadata": {},
   "outputs": [
    {
     "data": {
      "text/plain": [
       "22.5"
      ]
     },
     "execution_count": 107,
     "metadata": {},
     "output_type": "execute_result"
    }
   ],
   "source": [
    "knowledge"
   ]
  },
  {
   "cell_type": "code",
   "execution_count": 108,
   "metadata": {},
   "outputs": [
    {
     "name": "stderr",
     "output_type": "stream",
     "text": [
      "C:\\Users\\Shakib\\Anaconda3\\lib\\site-packages\\scipy\\stats\\stats.py:1713: FutureWarning: Using a non-tuple sequence for multidimensional indexing is deprecated; use `arr[tuple(seq)]` instead of `arr[seq]`. In the future this will be interpreted as an array index, `arr[np.array(seq)]`, which will result either in an error or a different result.\n",
      "  return np.add.reduce(sorted[indexer] * weights, axis=axis) / sumval\n"
     ]
    },
    {
     "data": {
      "text/plain": [
       "<matplotlib.axes._subplots.AxesSubplot at 0x1d4c4385470>"
      ]
     },
     "execution_count": 108,
     "metadata": {},
     "output_type": "execute_result"
    },
    {
     "data": {
      "image/png": "[encoded data removed]",
      "text/plain": [
       "<Figure size 432x288 with 1 Axes>"
      ]
     },
     "metadata": {
      "needs_background": "light"
     },
     "output_type": "display_data"
    }
   ],
   "source": [
    "i=data_dipam['Points'].values\n",
    "j=data_dipam['Total'].values\n",
    "sns.barplot(x='Points',y='Total',data=data_dipam)"
   ]
  },
  {
   "cell_type": "code",
   "execution_count": 109,
   "metadata": {},
   "outputs": [],
   "source": [
    "def student(name):\n",
    "    data_tasks=data\n",
    "    data_student=data_tasks[data_tasks['Student']==name] \n",
    "    print(\"THE NAME OF THE STUDENT: \",name)\n",
    "    x=data_student['Total'].sum()\n",
    "    print(\"TOTAL MARKS OF THE TASKS: \",x)\n",
    "    y=data_student['Points'].sum()\n",
    "    print(\"THE MARKS OBTAINED BY THE STUDENT: \",y)\n",
    "    average=(y/x)*100\n",
    "    print(\"THE PERCENTAGE: \",average,\"%\")\n",
    "    if(average>=90):\n",
    "        print(\"GRADE: 0 (OUTSTANDING)\")\n",
    "    elif(average>=80):\n",
    "        print(\"GRADE: E (EXCELLENT)\")\n",
    "    elif(average>=70):\n",
    "        print(\"GARDE: A++ (VERY GOOD)\")\n",
    "    elif(average>=60):\n",
    "        print(\"GRADE: A (GOOD)\")\n",
    "    elif(average)>=50:\n",
    "        print(\"GRADE: B (FAIR)\")\n",
    "    elif(average>=40):\n",
    "        print(\"GARDE: C (SATISFACTORY)\")\n",
    "    elif(average>=30):\n",
    "        print(\"GARDE: D (TRY TO IMPROVE)\")\n",
    "    else:\n",
    "        print(\"GRADE: F (FAIL)\")\n",
    "    m=len(data_student[data_student['Task Winner']==1])\n",
    "    print(\"TASK WINNER: \",m,\"times\")\n",
    "    data_profile=data_student[data_student['Module']=='Profile Building']\n",
    "    data_profile_marks=(data_profile['Points'].sum()/data_profile['Total'].sum())*100\n",
    "    print(\"PROFILE BULIDING PERCENTILE: \",data_profile_marks,\"%\")\n",
    "    data_consistency=data[data['id']==0]\n",
    "    data_consistency_student=data_consistency[data_consistency['Student']==name]\n",
    "    a=len(data_consistency[data_consistency['Student']==name])\n",
    "    b=len(data_consistency_student[data_consistency_student['Task']=='Knowledge Sharing'])\n",
    "    knowledge=(b/a)*100\n",
    "    print(\"KNOWLEDGE SHARING PERCENTILE: \",knowledge,\"%\")\n",
    "    print(\"Result Analysis\")\n",
    "    x1=data_student.pivot_table(index='Module',values='Points',aggfunc='sum')\n",
    "    y1=data_student.pivot_table(index='Module',values='Total',aggfunc='sum')\n",
    "    z1=pd.concat([x1,y1],axis=1)\n",
    "    data_highest=data[data['Task Winner']==1]\n",
    "    data_highest=data_highest.drop_duplicates(subset=['Task'],keep='last')\n",
    "    highest_mask=data_highest.pivot_table(index='Module',values='Points',aggfunc='sum')\n",
    "    highest_mask.rename(columns={'Points':'Highest'},inplace=True)\n",
    "    z_total=pd.concat([z1,highest_mask],axis=1)\n",
    "    print(z_total)\n",
    "    print(type(z_total))"
   ]
  },
  {
   "cell_type": "code",
   "execution_count": null,
   "metadata": {},
   "outputs": [],
   "source": []
  },
  {
   "cell_type": "code",
   "execution_count": 110,
   "metadata": {},
   "outputs": [
    {
     "name": "stdout",
     "output_type": "stream",
     "text": [
      "THE NAME OF THE STUDENT:  Shakib\n",
      "TOTAL MARKS OF THE TASKS:  254.0\n",
      "THE MARKS OBTAINED BY THE STUDENT:  225.0\n",
      "THE PERCENTAGE:  88.58267716535433 %\n",
      "GRADE: E (EXCELLENT)\n",
      "TASK WINNER:  3 times\n",
      "PROFILE BULIDING PERCENTILE:  87.36842105263159 %\n",
      "KNOWLEDGE SHARING PERCENTILE:  11.76470588235294 %\n",
      "Result Analysis\n",
      "                              Points  Total  Highest\n",
      "Data Analytics                  25.5   30.0     26.0\n",
      "Introduction to Data Science    37.5   50.0     41.5\n",
      "Machine Learning                 5.0    5.0      5.0\n",
      "Profile Building                83.0   95.0     89.0\n",
      "Ritual                          74.0   74.0      NaN\n",
      "<class 'pandas.core.frame.DataFrame'>\n"
     ]
    },
    {
     "name": "stderr",
     "output_type": "stream",
     "text": [
      "C:\\Users\\Shakib\\Anaconda3\\lib\\site-packages\\ipykernel_launcher.py:46: FutureWarning: Sorting because non-concatenation axis is not aligned. A future version\n",
      "of pandas will change to not sort by default.\n",
      "\n",
      "To accept the future behavior, pass 'sort=False'.\n",
      "\n",
      "To retain the current behavior and silence the warning, pass 'sort=True'.\n",
      "\n"
     ]
    }
   ],
   "source": [
    "student('Shakib')"
   ]
  },
  {
   "cell_type": "code",
   "execution_count": 111,
   "metadata": {},
   "outputs": [
    {
     "name": "stdout",
     "output_type": "stream",
     "text": [
      "THE NAME OF THE STUDENT:  Dipam\n",
      "TOTAL MARKS OF THE TASKS:  272.0\n",
      "THE MARKS OBTAINED BY THE STUDENT:  226.5\n",
      "THE PERCENTAGE:  83.27205882352942 %\n",
      "GRADE: E (EXCELLENT)\n",
      "TASK WINNER:  1 times\n",
      "PROFILE BULIDING PERCENTILE:  77.89473684210526 %\n",
      "KNOWLEDGE SHARING PERCENTILE:  22.5 %\n",
      "Result Analysis\n",
      "                              Points  Total  Highest\n",
      "Data Analytics                  23.0   30.0     26.0\n",
      "Introduction to Data Science    32.5   50.0     41.5\n",
      "Machine Learning                 5.0    5.0      5.0\n",
      "Profile Building                74.0   95.0     89.0\n",
      "Ritual                          92.0   92.0      NaN\n",
      "<class 'pandas.core.frame.DataFrame'>\n"
     ]
    },
    {
     "name": "stderr",
     "output_type": "stream",
     "text": [
      "C:\\Users\\Shakib\\Anaconda3\\lib\\site-packages\\ipykernel_launcher.py:46: FutureWarning: Sorting because non-concatenation axis is not aligned. A future version\n",
      "of pandas will change to not sort by default.\n",
      "\n",
      "To accept the future behavior, pass 'sort=False'.\n",
      "\n",
      "To retain the current behavior and silence the warning, pass 'sort=True'.\n",
      "\n"
     ]
    }
   ],
   "source": [
    "student('Dipam')"
   ]
  },
  {
   "cell_type": "code",
   "execution_count": 112,
   "metadata": {},
   "outputs": [],
   "source": [
    "data_dipam_full=data[data['Student']=='Dipam']"
   ]
  },
  {
   "cell_type": "code",
   "execution_count": 113,
   "metadata": {},
   "outputs": [],
   "source": [
    "a=data_dipam_full['Module'].value_counts().index.tolist()"
   ]
  },
  {
   "cell_type": "code",
   "execution_count": 114,
   "metadata": {},
   "outputs": [],
   "source": [
    "x=data_dipam_full.pivot_table(index='Module',values='Points',aggfunc='sum')"
   ]
  },
  {
   "cell_type": "code",
   "execution_count": 115,
   "metadata": {},
   "outputs": [],
   "source": [
    "y=data_dipam_full.pivot_table(index='Module',values='Total',aggfunc='sum')"
   ]
  },
  {
   "cell_type": "code",
   "execution_count": 116,
   "metadata": {},
   "outputs": [],
   "source": [
    "z=pd.concat([x,y],axis=1)"
   ]
  },
  {
   "cell_type": "code",
   "execution_count": 117,
   "metadata": {},
   "outputs": [
    {
     "name": "stdout",
     "output_type": "stream",
     "text": [
      "                              Points  Total\n",
      "Module                                     \n",
      "Data Analytics                  23.0   30.0\n",
      "Introduction to Data Science    32.5   50.0\n",
      "Machine Learning                 5.0    5.0\n",
      "Profile Building                74.0   95.0\n",
      "Ritual                          92.0   92.0\n"
     ]
    }
   ],
   "source": [
    "print(z)"
   ]
  },
  {
   "cell_type": "code",
   "execution_count": 118,
   "metadata": {},
   "outputs": [],
   "source": [
    "data_highest=data[data['Task Winner']==1]"
   ]
  },
  {
   "cell_type": "code",
   "execution_count": 119,
   "metadata": {},
   "outputs": [],
   "source": [
    "data_highest=data_highest.drop_duplicates(subset=['Task'],keep='last')"
   ]
  },
  {
   "cell_type": "code",
   "execution_count": 120,
   "metadata": {},
   "outputs": [],
   "source": [
    "highest_mask=data_highest.pivot_table(index='Module',values='Points',aggfunc='sum')"
   ]
  },
  {
   "cell_type": "code",
   "execution_count": 121,
   "metadata": {},
   "outputs": [],
   "source": [
    "highest_mask.rename(columns={'Points':'Highest'},inplace=True)"
   ]
  },
  {
   "cell_type": "code",
   "execution_count": 122,
   "metadata": {},
   "outputs": [
    {
     "data": {
      "text/html": [
       "<div>\n",
       "<style scoped>\n",
       "    .dataframe tbody tr th:only-of-type {\n",
       "        vertical-align: middle;\n",
       "    }\n",
       "\n",
       "    .dataframe tbody tr th {\n",
       "        vertical-align: top;\n",
       "    }\n",
       "\n",
       "    .dataframe thead th {\n",
       "        text-align: right;\n",
       "    }\n",
       "</style>\n",
       "<table border=\"1\" class=\"dataframe\">\n",
       "  <thead>\n",
       "    <tr style=\"text-align: right;\">\n",
       "      <th></th>\n",
       "      <th>Highest</th>\n",
       "    </tr>\n",
       "    <tr>\n",
       "      <th>Module</th>\n",
       "      <th></th>\n",
       "    </tr>\n",
       "  </thead>\n",
       "  <tbody>\n",
       "    <tr>\n",
       "      <th>Data Analytics</th>\n",
       "      <td>26.0</td>\n",
       "    </tr>\n",
       "    <tr>\n",
       "      <th>Introduction to Data Science</th>\n",
       "      <td>41.5</td>\n",
       "    </tr>\n",
       "    <tr>\n",
       "      <th>Machine Learning</th>\n",
       "      <td>5.0</td>\n",
       "    </tr>\n",
       "    <tr>\n",
       "      <th>Profile Building</th>\n",
       "      <td>89.0</td>\n",
       "    </tr>\n",
       "  </tbody>\n",
       "</table>\n",
       "</div>"
      ],
      "text/plain": [
       "                              Highest\n",
       "Module                               \n",
       "Data Analytics                   26.0\n",
       "Introduction to Data Science     41.5\n",
       "Machine Learning                  5.0\n",
       "Profile Building                 89.0"
      ]
     },
     "execution_count": 122,
     "metadata": {},
     "output_type": "execute_result"
    }
   ],
   "source": [
    "highest_mask"
   ]
  },
  {
   "cell_type": "code",
   "execution_count": 123,
   "metadata": {},
   "outputs": [
    {
     "name": "stderr",
     "output_type": "stream",
     "text": [
      "C:\\Users\\Shakib\\Anaconda3\\lib\\site-packages\\ipykernel_launcher.py:1: FutureWarning: Sorting because non-concatenation axis is not aligned. A future version\n",
      "of pandas will change to not sort by default.\n",
      "\n",
      "To accept the future behavior, pass 'sort=False'.\n",
      "\n",
      "To retain the current behavior and silence the warning, pass 'sort=True'.\n",
      "\n",
      "  \"\"\"Entry point for launching an IPython kernel.\n"
     ]
    },
    {
     "data": {
      "text/html": [
       "<div>\n",
       "<style scoped>\n",
       "    .dataframe tbody tr th:only-of-type {\n",
       "        vertical-align: middle;\n",
       "    }\n",
       "\n",
       "    .dataframe tbody tr th {\n",
       "        vertical-align: top;\n",
       "    }\n",
       "\n",
       "    .dataframe thead th {\n",
       "        text-align: right;\n",
       "    }\n",
       "</style>\n",
       "<table border=\"1\" class=\"dataframe\">\n",
       "  <thead>\n",
       "    <tr style=\"text-align: right;\">\n",
       "      <th></th>\n",
       "      <th>Subject</th>\n",
       "      <th>Points</th>\n",
       "      <th>Total</th>\n",
       "      <th>Highest</th>\n",
       "    </tr>\n",
       "  </thead>\n",
       "  <tbody>\n",
       "    <tr>\n",
       "      <th>0</th>\n",
       "      <td>Data Analytics</td>\n",
       "      <td>23.0</td>\n",
       "      <td>30.0</td>\n",
       "      <td>26.0</td>\n",
       "    </tr>\n",
       "    <tr>\n",
       "      <th>1</th>\n",
       "      <td>Introduction to Data Science</td>\n",
       "      <td>32.5</td>\n",
       "      <td>50.0</td>\n",
       "      <td>41.5</td>\n",
       "    </tr>\n",
       "    <tr>\n",
       "      <th>2</th>\n",
       "      <td>Machine Learning</td>\n",
       "      <td>5.0</td>\n",
       "      <td>5.0</td>\n",
       "      <td>5.0</td>\n",
       "    </tr>\n",
       "    <tr>\n",
       "      <th>3</th>\n",
       "      <td>Profile Building</td>\n",
       "      <td>74.0</td>\n",
       "      <td>95.0</td>\n",
       "      <td>89.0</td>\n",
       "    </tr>\n",
       "    <tr>\n",
       "      <th>4</th>\n",
       "      <td>Ritual</td>\n",
       "      <td>92.0</td>\n",
       "      <td>92.0</td>\n",
       "      <td>NaN</td>\n",
       "    </tr>\n",
       "  </tbody>\n",
       "</table>\n",
       "</div>"
      ],
      "text/plain": [
       "                        Subject  Points  Total  Highest\n",
       "0                Data Analytics    23.0   30.0     26.0\n",
       "1  Introduction to Data Science    32.5   50.0     41.5\n",
       "2              Machine Learning     5.0    5.0      5.0\n",
       "3              Profile Building    74.0   95.0     89.0\n",
       "4                        Ritual    92.0   92.0      NaN"
      ]
     },
     "execution_count": 123,
     "metadata": {},
     "output_type": "execute_result"
    }
   ],
   "source": [
    "z_total=pd.concat([z,highest_mask],axis=1)\n",
    "z_total= z_total.reset_index()\n",
    "z_total.rename(columns = {'index':'Subject'},inplace = True)\n",
    "z_total"
   ]
  },
  {
   "cell_type": "code",
   "execution_count": null,
   "metadata": {},
   "outputs": [],
   "source": []
  },
  {
   "cell_type": "code",
   "execution_count": null,
   "metadata": {},
   "outputs": [],
   "source": []
  },
  {
   "cell_type": "code",
   "execution_count": null,
   "metadata": {},
   "outputs": [],
   "source": []
  },
  {
   "cell_type": "markdown",
   "metadata": {},
   "source": [
    "# Shakib"
   ]
  },
  {
   "cell_type": "code",
   "execution_count": 124,
   "metadata": {},
   "outputs": [],
   "source": [
    "from datetime import date\n",
    "today = date.today()\n",
    "#595.27,841.89\n",
    "from reportlab.pdfgen import canvas\n",
    "from reportlab.lib.units import inch\n",
    "from reportlab.lib.pagesizes import A4"
   ]
  },
  {
   "cell_type": "code",
   "execution_count": 149,
   "metadata": {
    "scrolled": false
   },
   "outputs": [],
   "source": [
    "class info_of_student():\n",
    "    name = \" Md Shakib Mondal hahahaha\"\n",
    "    College = \" GCELT\"\n",
    "    Year = \" First\"\n",
    "    Month = \"September\"\n",
    "    Date = str(today.strftime(\"%d/%m/%Y\"))\n",
    "    Sem = \"Second\"\n",
    "    Number_of_task_wins = str(5)\n",
    "    Rank_among_the_class = str(5)\n",
    "    Number_of_late_submitions = str(5)\n",
    "    Table_elements = [[\"Data Analytics\",30.0,26.0,23.0,89],\n",
    "                      [\"Introduction to Data Science\",30.0,26.0,23.0,89],\n",
    "                      [\"Data Analytics\",30.0,26.0,23.0,89]]"
   ]
  },
  {
   "cell_type": "code",
   "execution_count": 126,
   "metadata": {},
   "outputs": [],
   "source": [
    "def draw_intro(c,Spacing,info):\n",
    "    c.setFont('Times-Roman',18)\n",
    "    c.drawString(45,680,('NAME:-' + info.name))\n",
    "    c.drawString(45,680-Spacing,'COLLEGE:-'+info.College)\n",
    "    c.drawString(345,680-2*Spacing,'YEAR:-'+info.Year)\n",
    "    c.drawString(45,680-2*Spacing,'MONTH:-'+info.Month)\n",
    "    c.drawString(345,680-3*Spacing,'DATE:-'+info.Date)\n",
    "    c.drawString(45,680-3*Spacing,'SEMISTER:-' + info.Sem)\n",
    "    c.line(35,600,560.27,600)"
   ]
  },
  {
   "cell_type": "code",
   "execution_count": 127,
   "metadata": {},
   "outputs": [],
   "source": [
    "def draw_border(c,m):\n",
    "    c.line(m,m,595.27-m,m)\n",
    "    c.line(m,841.89-m,595.27-m,841.89-m)\n",
    "    c.line(m,m,m,841.89-m)\n",
    "    c.line(595.27-m,m,595.27-m,841.89-m)"
   ]
  },
  {
   "cell_type": "code",
   "execution_count": 153,
   "metadata": {},
   "outputs": [],
   "source": [
    "def draw_table(c):\n",
    "    c.drawInlineImage(image=\"TABLE_MODULES.jpg\",x=45,y=410,width=500,height=180)\n",
    "    c.setFont('Times-Bold',15)\n",
    "    Heading = ['MODULE','Full Marks','Heighest Marks',\"Your Marks\",'Percentyle']\n",
    "    for i in range(len(Heading)):\n",
    "        c.drawCentredString(95+i*100,575,Heading[i])\n",
    "    writing_row = 575\n",
    "    for i in range(len(info.Table_elements)):\n",
    "        for j in range(len(info.Table_elements[i])):\n",
    "            c.drawCentredString(95+j*100,wri)   \n",
    "        writing_row += 20"
   ]
  },
  {
   "cell_type": "code",
   "execution_count": 147,
   "metadata": {},
   "outputs": [],
   "source": [
    "def draw_acknowledgement(c,Spacing,info):\n",
    "    c.setFont('Times-Roman',18)\n",
    "    c.drawString(45,45+4*Spacing,'Number of task wins:-'+info.Number_of_task_wins)\n",
    "    c.drawString(45,45+3*Spacing,'Rank among the class:-'+ info.Rank_among_the_class)\n",
    "    c.drawString(45,45+2*Spacing,'Number of late submitions:-'+ info.Number_of_late_submitions)\n",
    "    c.drawString(45,45+Spacing,'Teacher’s signature:-')\n",
    "    c.drawString(45,45,'Remark:-')\n",
    "    c.line(35,45+5*Spacing,560.27,45+5*Spacing)"
   ]
  },
  {
   "cell_type": "code",
   "execution_count": 154,
   "metadata": {},
   "outputs": [],
   "source": [
    "info = info_of_student\n",
    "c = canvas.Canvas(\"hello.pdf\",bottomup=1,pagesize=A4)\n",
    "draw_border(c,35)\n",
    "draw_border(c,32.5)\n",
    "draw_border(c,30)\n",
    "\n",
    "c.setFont('Times-Bold',33)\n",
    "c.drawCentredString(595.27/2,750,text='CampusX Mentorship Programme')\n",
    "c.setFont('Times-Roman',20)\n",
    "c.drawCentredString(595.27/2,720,text='Machine Learning')\n",
    "draw_intro(c,25,info)\n",
    "draw_table(c)\n",
    "draw_acknowledgement(c,25,info)\n",
    "c.showPage()\n",
    "c.save()"
   ]
  },
  {
   "cell_type": "code",
   "execution_count": null,
   "metadata": {},
   "outputs": [],
   "source": []
  },
  {
   "cell_type": "code",
   "execution_count": null,
   "metadata": {},
   "outputs": [],
   "source": []
  },
  {
   "cell_type": "code",
   "execution_count": null,
   "metadata": {},
   "outputs": [],
   "source": []
  },
  {
   "cell_type": "code",
   "execution_count": null,
   "metadata": {},
   "outputs": [],
   "source": []
  },
  {
   "cell_type": "code",
   "execution_count": null,
   "metadata": {},
   "outputs": [],
   "source": []
  },
  {
   "cell_type": "code",
   "execution_count": null,
   "metadata": {},
   "outputs": [],
   "source": []
  },
  {
   "cell_type": "code",
   "execution_count": null,
   "metadata": {},
   "outputs": [],
   "source": []
  },
  {
   "cell_type": "code",
   "execution_count": null,
   "metadata": {},
   "outputs": [],
   "source": []
  },
  {
   "cell_type": "code",
   "execution_count": null,
   "metadata": {},
   "outputs": [],
   "source": []
  },
  {
   "cell_type": "markdown",
   "metadata": {},
   "source": [
    "# Sushree"
   ]
  },
  {
   "cell_type": "code",
   "execution_count": null,
   "metadata": {},
   "outputs": [],
   "source": []
  }
 ],
 "metadata": {
  "kernelspec": {
   "display_name": "Python 3",
   "language": "python",
   "name": "python3"
  },
  "language_info": {
   "codemirror_mode": {
    "name": "ipython",
    "version": 3
   },
   "file_extension": ".py",
   "mimetype": "text/x-python",
   "name": "python",
   "nbconvert_exporter": "python",
   "pygments_lexer": "ipython3",
   "version": "3.7.1"
  }
 },
 "nbformat": 4,
 "nbformat_minor": 2
}
