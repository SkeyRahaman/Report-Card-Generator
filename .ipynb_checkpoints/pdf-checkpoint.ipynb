{
 "cells": [
  {
   "cell_type": "code",
   "execution_count": 3,
   "metadata": {},
   "outputs": [
    {
     "name": "stdout",
     "output_type": "stream",
     "text": [
      "Collecting reportlab\n",
      "  Downloading https://files.pythonhosted.org/packages/72/a7/5c88a2c9c3b82ba177ee8a1bfddb3a9c6ca80fa80a80e197afdaf04b1579/reportlab-3.5.23-cp37-cp37m-win_amd64.whl (2.2MB)\n",
      "Requirement already satisfied: pillow>=4.0.0 in c:\\users\\shakib\\anaconda3\\lib\\site-packages (from reportlab) (5.3.0)\n",
      "Installing collected packages: reportlab\n",
      "Successfully installed reportlab-3.5.23\n"
     ]
    }
   ],
   "source": [
    "!pip install reportlab"
   ]
  },
  {
   "cell_type": "code",
   "execution_count": 19,
   "metadata": {},
   "outputs": [],
   "source": [
    "#595.27,841.89\n",
    "from reportlab.pdfgen import canvas\n",
    "from reportlab.lib.units import inch\n",
    "c = canvas.Canvas(\"hello.pdf\",bottomup=1)\n",
    "c.drawString(100,100,\"Hello World\")\n",
    "draw_border(c,40)\n",
    "c.showPage()\n",
    "c.save()"
   ]
  },
  {
   "cell_type": "code",
   "execution_count": 1,
   "metadata": {},
   "outputs": [],
   "source": [
    "import csv"
   ]
  },
  {
   "cell_type": "code",
   "execution_count": 18,
   "metadata": {},
   "outputs": [],
   "source": [
    "def draw_border(c,m):\n",
    "    c.line(m,m,595.27-m,m)\n",
    "    c.line(m,841.89-m,595.27-m,841.89-m)\n",
    "    c.line(m,m,m,841.89-m)\n",
    "    c.line(595.27-m,m,595.27-m,841.89-m)"
   ]
  },
  {
   "cell_type": "code",
   "execution_count": null,
   "metadata": {},
   "outputs": [],
   "source": []
  }
 ],
 "metadata": {
  "kernelspec": {
   "display_name": "Python 3",
   "language": "python",
   "name": "python3"
  },
  "language_info": {
   "codemirror_mode": {
    "name": "ipython",
    "version": 3
   },
   "file_extension": ".py",
   "mimetype": "text/x-python",
   "name": "python",
   "nbconvert_exporter": "python",
   "pygments_lexer": "ipython3",
   "version": "3.7.1"
  }
 },
 "nbformat": 4,
 "nbformat_minor": 2
}
