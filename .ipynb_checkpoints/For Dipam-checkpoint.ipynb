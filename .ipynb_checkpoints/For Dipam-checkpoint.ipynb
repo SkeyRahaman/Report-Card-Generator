{
 "cells": [
  {
   "cell_type": "code",
   "execution_count": 6,
   "metadata": {},
   "outputs": [],
   "source": [
    "from datetime import date\n",
    "from datetime import datetime\n",
    "from reportlab.pdfgen import canvas\n",
    "from reportlab.lib.units import inch\n",
    "from reportlab.lib.pagesizes import A4\n",
    "import pandas as pd\n",
    "import numpy as np\n",
    "import openpyxl\n",
    "import requests\n",
    "import seaborn as sns\n",
    "import matplotlib.pyplot as plt\n",
    "from math import pi\n",
    "import os"
   ]
  },
  {
   "cell_type": "code",
   "execution_count": 7,
   "metadata": {},
   "outputs": [],
   "source": [
    "class Main:\n",
    "    def main(self):\n",
    "        self.url = \"https://docs.google.com/spreadsheets/d/1HYjfEe3aCbufbqIXKs0Xz-gfoQNztGhCN1ivx0gZXnc/export?format = xlsx\"    \n",
    "        self.Clone_the_dataset_to_this_machine(self.url)\n",
    "        self.data = self.creat_data(\"Student Gradebook.xlsx\")\n",
    "        self.data = self.Add_Month_column(self.data)\n",
    "        return self.data\n",
    "                \n",
    "    def Clone_the_dataset_to_this_machine(self, url):\n",
    "        a = requests.get(url)\n",
    "        resp = requests.get(url)\n",
    "        output = open('Student Gradebook.xlsx',  'wb')\n",
    "        output.write(resp.content)\n",
    "        output.close()\n",
    "        \n",
    "        \n",
    "    def creat_data(self, file):\n",
    "        wb = openpyxl.load_workbook(file) \n",
    "        Number_of_sheets = len(wb.sheetnames)\n",
    "        for i in range(len(wb.sheetnames)):\n",
    "            try:\n",
    "                data = pd.concat([data,  pd.read_excel(file, sheet_name = i)])\n",
    "            except:\n",
    "                data = pd.read_excel(file, sheet_name = 0)\n",
    "            #print(data.shape)\n",
    "        return data\n",
    "\n",
    "        \n",
    "    def Add_Month_column(self, data):\n",
    "        date_list = []\n",
    "        day_list = []\n",
    "        year_list = []\n",
    "        a = 0\n",
    "        for i in data[\"Date\"]:\n",
    "            try:\n",
    "                date_list.append(i.strftime(\"%B\"))\n",
    "                day_list.append(i.strftime(\"%d\"))\n",
    "                year_list.append(i.strftime(\"%Y\"))\n",
    "                a  += 1\n",
    "            except:\n",
    "                try:\n",
    "                    date_list.append(datetime.strptime(str(i), \"%d/%m/%Y\").strftime(\"%B\"))\n",
    "                    day_list.append(datetime.strptime(str(i), \"%d/%m/%Y\").strftime(\"%d\"))\n",
    "                    year_list.append(datetime.strptime(str(i), \"%d/%m/%Y\").strftime(\"%Y\"))\n",
    "                    a += 1\n",
    "                except:\n",
    "                    print(\"Interrupt in a line number : - \", a, \"which is having a entry of:-\", i)\n",
    "                    break\n",
    "        data[\"Date(only)\"] = day_list\n",
    "        data[\"Month\"] = date_list\n",
    "        data[\"Year\"] = year_list\n",
    "        return data"
   ]
  },
  {
   "cell_type": "code",
   "execution_count": 8,
   "metadata": {},
   "outputs": [],
   "source": [
    "Call = Main()"
   ]
  },
  {
   "cell_type": "code",
   "execution_count": 9,
   "metadata": {},
   "outputs": [],
   "source": [
    "data = Call.main()"
   ]
  },
  {
   "cell_type": "code",
   "execution_count": 10,
   "metadata": {},
   "outputs": [
    {
     "data": {
      "text/html": [
       "<div>\n",
       "<style scoped>\n",
       "    .dataframe tbody tr th:only-of-type {\n",
       "        vertical-align: middle;\n",
       "    }\n",
       "\n",
       "    .dataframe tbody tr th {\n",
       "        vertical-align: top;\n",
       "    }\n",
       "\n",
       "    .dataframe thead th {\n",
       "        text-align: right;\n",
       "    }\n",
       "</style>\n",
       "<table border=\"1\" class=\"dataframe\">\n",
       "  <thead>\n",
       "    <tr style=\"text-align: right;\">\n",
       "      <th></th>\n",
       "      <th>id</th>\n",
       "      <th>Task</th>\n",
       "      <th>Date</th>\n",
       "      <th>Module</th>\n",
       "      <th>Type</th>\n",
       "      <th>Student</th>\n",
       "      <th>Late Submission</th>\n",
       "      <th>Points</th>\n",
       "      <th>Total</th>\n",
       "      <th>Task Winner</th>\n",
       "      <th>Date(only)</th>\n",
       "      <th>Month</th>\n",
       "      <th>Year</th>\n",
       "    </tr>\n",
       "  </thead>\n",
       "  <tbody>\n",
       "    <tr>\n",
       "      <th>0</th>\n",
       "      <td>1</td>\n",
       "      <td>Linkedin Profile create/update</td>\n",
       "      <td>2019-07-22 00:00:00</td>\n",
       "      <td>Profile Building</td>\n",
       "      <td>Intent, Creativity,Content</td>\n",
       "      <td>Chandrima</td>\n",
       "      <td>0</td>\n",
       "      <td>6.0</td>\n",
       "      <td>10</td>\n",
       "      <td>0</td>\n",
       "      <td>22</td>\n",
       "      <td>July</td>\n",
       "      <td>2019</td>\n",
       "    </tr>\n",
       "    <tr>\n",
       "      <th>1</th>\n",
       "      <td>1</td>\n",
       "      <td>Linkedin Profile create/update</td>\n",
       "      <td>2019-07-22 00:00:00</td>\n",
       "      <td>Profile Building</td>\n",
       "      <td>Intent, Creativity,Content</td>\n",
       "      <td>Dipam</td>\n",
       "      <td>0</td>\n",
       "      <td>7.0</td>\n",
       "      <td>10</td>\n",
       "      <td>0</td>\n",
       "      <td>22</td>\n",
       "      <td>July</td>\n",
       "      <td>2019</td>\n",
       "    </tr>\n",
       "    <tr>\n",
       "      <th>2</th>\n",
       "      <td>1</td>\n",
       "      <td>Linkedin Profile create/update</td>\n",
       "      <td>2019-07-22 00:00:00</td>\n",
       "      <td>Profile Building</td>\n",
       "      <td>Intent, Creativity,Content</td>\n",
       "      <td>Durga</td>\n",
       "      <td>0</td>\n",
       "      <td>6.0</td>\n",
       "      <td>10</td>\n",
       "      <td>0</td>\n",
       "      <td>22</td>\n",
       "      <td>July</td>\n",
       "      <td>2019</td>\n",
       "    </tr>\n",
       "    <tr>\n",
       "      <th>3</th>\n",
       "      <td>1</td>\n",
       "      <td>Linkedin Profile create/update</td>\n",
       "      <td>2019-07-22 00:00:00</td>\n",
       "      <td>Profile Building</td>\n",
       "      <td>Intent, Creativity,Content</td>\n",
       "      <td>Kaushal</td>\n",
       "      <td>0</td>\n",
       "      <td>7.0</td>\n",
       "      <td>10</td>\n",
       "      <td>0</td>\n",
       "      <td>22</td>\n",
       "      <td>July</td>\n",
       "      <td>2019</td>\n",
       "    </tr>\n",
       "    <tr>\n",
       "      <th>4</th>\n",
       "      <td>1</td>\n",
       "      <td>Linkedin Profile create/update</td>\n",
       "      <td>2019-07-22 00:00:00</td>\n",
       "      <td>Profile Building</td>\n",
       "      <td>Intent, Creativity,Content</td>\n",
       "      <td>Arya</td>\n",
       "      <td>0</td>\n",
       "      <td>6.0</td>\n",
       "      <td>10</td>\n",
       "      <td>0</td>\n",
       "      <td>22</td>\n",
       "      <td>July</td>\n",
       "      <td>2019</td>\n",
       "    </tr>\n",
       "  </tbody>\n",
       "</table>\n",
       "</div>"
      ],
      "text/plain": [
       "   id                            Task                 Date            Module  \\\n",
       "0   1  Linkedin Profile create/update  2019-07-22 00:00:00  Profile Building   \n",
       "1   1  Linkedin Profile create/update  2019-07-22 00:00:00  Profile Building   \n",
       "2   1  Linkedin Profile create/update  2019-07-22 00:00:00  Profile Building   \n",
       "3   1  Linkedin Profile create/update  2019-07-22 00:00:00  Profile Building   \n",
       "4   1  Linkedin Profile create/update  2019-07-22 00:00:00  Profile Building   \n",
       "\n",
       "                         Type    Student  Late Submission  Points  Total  \\\n",
       "0  Intent, Creativity,Content  Chandrima                0     6.0     10   \n",
       "1  Intent, Creativity,Content      Dipam                0     7.0     10   \n",
       "2  Intent, Creativity,Content      Durga                0     6.0     10   \n",
       "3  Intent, Creativity,Content    Kaushal                0     7.0     10   \n",
       "4  Intent, Creativity,Content       Arya                0     6.0     10   \n",
       "\n",
       "   Task Winner Date(only) Month  Year  \n",
       "0            0         22  July  2019  \n",
       "1            0         22  July  2019  \n",
       "2            0         22  July  2019  \n",
       "3            0         22  July  2019  \n",
       "4            0         22  July  2019  "
      ]
     },
     "execution_count": 10,
     "metadata": {},
     "output_type": "execute_result"
    }
   ],
   "source": [
    "data.head()"
   ]
  },
  {
   "cell_type": "code",
   "execution_count": null,
   "metadata": {},
   "outputs": [],
   "source": []
  },
  {
   "cell_type": "code",
   "execution_count": null,
   "metadata": {},
   "outputs": [],
   "source": []
  },
  {
   "cell_type": "code",
   "execution_count": null,
   "metadata": {},
   "outputs": [],
   "source": []
  },
  {
   "cell_type": "code",
   "execution_count": null,
   "metadata": {},
   "outputs": [],
   "source": []
  },
  {
   "cell_type": "code",
   "execution_count": null,
   "metadata": {},
   "outputs": [],
   "source": []
  },
  {
   "cell_type": "code",
   "execution_count": null,
   "metadata": {},
   "outputs": [],
   "source": []
  },
  {
   "cell_type": "code",
   "execution_count": null,
   "metadata": {},
   "outputs": [],
   "source": []
  },
  {
   "cell_type": "code",
   "execution_count": null,
   "metadata": {},
   "outputs": [],
   "source": []
  },
  {
   "cell_type": "code",
   "execution_count": null,
   "metadata": {},
   "outputs": [],
   "source": [
    "def rank_of_the_student(self, name, month):\n",
    "    working_data = self.data\n",
    "    return str(5)"
   ]
  },
  {
   "cell_type": "code",
   "execution_count": null,
   "metadata": {},
   "outputs": [],
   "source": [
    "def late_Submition_Ratio(self, name, month):\n",
    "    working_data = self.data\n",
    "    return str(0.5)"
   ]
  },
  {
   "cell_type": "code",
   "execution_count": null,
   "metadata": {},
   "outputs": [],
   "source": [
    "def percentage_of_the_student(self, name, month):\n",
    "    working_data = self.data\n",
    "    return str(88)"
   ]
  },
  {
   "cell_type": "code",
   "execution_count": null,
   "metadata": {},
   "outputs": [],
   "source": [
    "def percentile_of_the_student(self, name, month):\n",
    "    working_data = self.data\n",
    "    return str(95)"
   ]
  },
  {
   "cell_type": "code",
   "execution_count": null,
   "metadata": {},
   "outputs": [],
   "source": [
    "def table_Content(self, name, month):\n",
    "    working_data = self.data\n",
    "    a = [[\"1Data Analytics\", 30.0, 26.0, 23.0, 89], \n",
    "         [\"2Introduction to\", 30.0, 26.0, 23.0, 89], \n",
    "         [\"3Data Analytics\", 30.0, 26.0, 23.0, 89], \n",
    "         [\"4Data Analytics\", 30.0, 26.0, 23.0, 89], \n",
    "         [\"5Introduction to\", 30.0, 26.0, 23.0, 89]]\n",
    "    return a"
   ]
  },
  {
   "cell_type": "code",
   "execution_count": null,
   "metadata": {},
   "outputs": [],
   "source": [
    "def table_summary(self, name, month):\n",
    "    working_data = self.data\n",
    "    return [\"TOTAL\", 89, 26.0, 23.0, None]"
   ]
  }
 ],
 "metadata": {
  "kernelspec": {
   "display_name": "Python 3",
   "language": "python",
   "name": "python3"
  },
  "language_info": {
   "codemirror_mode": {
    "name": "ipython",
    "version": 3
   },
   "file_extension": ".py",
   "mimetype": "text/x-python",
   "name": "python",
   "nbconvert_exporter": "python",
   "pygments_lexer": "ipython3",
   "version": "3.7.1"
  }
 },
 "nbformat": 4,
 "nbformat_minor": 2
}
