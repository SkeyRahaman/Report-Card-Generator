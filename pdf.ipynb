{
 "cells": [
  {
   "cell_type": "code",
   "execution_count": 1,
   "metadata": {},
   "outputs": [],
   "source": [
    "\n",
    "from datetime import date\n",
    "today = date.today()"
   ]
  },
  {
   "cell_type": "code",
   "execution_count": 2,
   "metadata": {},
   "outputs": [],
   "source": [
    "class info_of_student():\n",
    "    name = \" Md Shakib Mondal hahahaha\"\n",
    "    College = \" GCELT\"\n",
    "    Year = \" First\"\n",
    "    Month = \"September\"\n",
    "    Date = str(today.strftime(\"%d/%m/%Y\"))\n",
    "    Sem = \"Second\""
   ]
  },
  {
   "cell_type": "code",
   "execution_count": null,
   "metadata": {},
   "outputs": [],
   "source": []
  },
  {
   "cell_type": "code",
   "execution_count": null,
   "metadata": {},
   "outputs": [],
   "source": []
  },
  {
   "cell_type": "code",
   "execution_count": 3,
   "metadata": {},
   "outputs": [],
   "source": [
    "def draw_intro(c,Spacing):\n",
    "    info = info_of_student\n",
    "    c.setFont('Times-Roman',18)\n",
    "    c.drawString(45,680,('NAME:-' + info.name))\n",
    "    c.drawString(45,680-Spacing,'COLLEGE:-'+info.College)\n",
    "    c.drawString(345,680-2*Spacing,'YEAR:-'+info.Year)\n",
    "    c.drawString(45,680-2*Spacing,'MONTH:-'+info.Month)\n",
    "    c.drawString(345,680-3*Spacing,'DATE:-'+info.Date)\n",
    "    c.drawString(45,680-3*Spacing,'SEMISTER:-' + info.Sem)"
   ]
  },
  {
   "cell_type": "code",
   "execution_count": 4,
   "metadata": {},
   "outputs": [],
   "source": [
    "def draw_border(c,m):\n",
    "    c.line(m,m,595.27-m,m)\n",
    "    c.line(m,841.89-m,595.27-m,841.89-m)\n",
    "    c.line(m,m,m,841.89-m)\n",
    "    c.line(595.27-m,m,595.27-m,841.89-m)"
   ]
  },
  {
   "cell_type": "code",
   "execution_count": 5,
   "metadata": {},
   "outputs": [],
   "source": [
    "#c.drawInlineImage(image=\"LanguageWorkedWith.png\",x=0,y=0)"
   ]
  },
  {
   "cell_type": "code",
   "execution_count": 6,
   "metadata": {},
   "outputs": [],
   "source": [
    "#LanguageDesireNextYear.png"
   ]
  },
  {
   "cell_type": "code",
   "execution_count": 7,
   "metadata": {},
   "outputs": [],
   "source": [
    "#595.27,841.89\n",
    "from reportlab.pdfgen import canvas\n",
    "from reportlab.lib.units import inch\n",
    "from reportlab.lib.pagesizes import A4\n",
    "c = canvas.Canvas(\"hello.pdf\",bottomup=1,pagesize=A4)\n",
    "c.setFont('Times-Bold',33)\n",
    "#c.drawString(50,741,\"CampusX Mentorship Programme\")\n",
    "c.drawCentredString(595.27/2,750,text='CampusX Mentorship Programme')\n",
    "c.setFont('Times-Roman',20)\n",
    "c.drawCentredString(595.27/2,720,text='Machine Learning')\n",
    "draw_intro(c,25)\n",
    "draw_border(c,35)\n",
    "draw_border(c,32.5)\n",
    "draw_border(c,30)\n",
    "c.line(35,600,560.27,600)\n",
    "c.drawInlineImage(image=\"LanguageWorkedWith.png\",x=0,y=0,width=200,height=200)\n",
    "c.showPage()\n",
    "c.save()"
   ]
  },
  {
   "cell_type": "code",
   "execution_count": 8,
   "metadata": {},
   "outputs": [],
   "source": [
    "from reportlab.lib import colors\n",
    "from reportlab.platypus import SimpleDocTemplate, Table, TableStyle\n",
    "LIST_STYLE = TableStyle(\n",
    "    [('LINEABOVE', (0,0), (-1,0), 2, colors.green),\n",
    "    ('LINEABOVE', (0,1), (-1,-1), 0.25, colors.black),\n",
    "    ('LINEBELOW', (0,-1), (-1,-1), 2, colors.green),\n",
    "    ('ALIGN', (1,1), (-1,-1), 'RIGHT')]\n",
    ")"
   ]
  },
  {
   "cell_type": "code",
   "execution_count": 9,
   "metadata": {},
   "outputs": [],
   "source": [
    "list_data_for_table = [[\"\",\"Points\",\"Total\",\"Highest\"],\n",
    "                       [\"Data Analytics\",25.5,30.0,26.0],\n",
    "                       [\"Introduction to Data Science\",37.5,50.0,41.5],\n",
    "                       [\"Machine Learning\",5.0,5.0,5.0],\n",
    "                       [\"Profile Building\",83.0,95.0,89.0],\n",
    "                       [\"Ritual\",74.0,74.0,\"NaN\"]]"
   ]
  },
  {
   "cell_type": "code",
   "execution_count": 10,
   "metadata": {},
   "outputs": [],
   "source": [
    "t = Table(list_data_for_table)"
   ]
  },
  {
   "cell_type": "code",
   "execution_count": 11,
   "metadata": {},
   "outputs": [
    {
     "data": {
      "text/plain": [
       "Table(\n",
       " rowHeights=[None, None, None, None, None, None],\n",
       " colWidths=[None, None, None, None],\n",
       "[['', 'Points', 'Total', 'Highest'],\n",
       "   ['Data Analytics', 25.5, 30.0, 26.0],\n",
       "   ['Introduction to Data Science', 37.5, 50.0, 41.5],\n",
       "   ['Machine Learning', 5.0, 5.0, 5.0],\n",
       "   ['Profile Building', 83.0, 95.0, 89.0],\n",
       "   ['Ritual', 74.0, 74.0, 'NaN']]\n",
       ") # end table"
      ]
     },
     "execution_count": 11,
     "metadata": {},
     "output_type": "execute_result"
    }
   ],
   "source": [
    "t"
   ]
  },
  {
   "cell_type": "code",
   "execution_count": null,
   "metadata": {},
   "outputs": [],
   "source": []
  },
  {
   "cell_type": "code",
   "execution_count": 13,
   "metadata": {},
   "outputs": [
    {
     "data": {
      "text/plain": [
       "'from reportlab.lib import colors\\nfrom reportlab.lib.pagesizes import letter\\nfrom reportlab.platypus import SimpleDocTemplate, Table, TableStyle\\n \\ndoc = SimpleDocTemplate(\"simple_table.pdf\", pagesize=letter)\\n# container for the \\'Flowable\\' objects\\nelements = []\\n \\ndata= [[\\'00\\', \\'01\\', \\'02\\', \\'03\\', \\'04\\'],\\n       [\\'10\\', \\'11\\', \\'12\\', \\'13\\', \\'14\\'],\\n       [\\'20\\', \\'21\\', \\'22\\', \\'23\\', \\'24\\'],\\n       [\\'30\\', \\'31\\', \\'32\\', \\'33\\', \\'34\\']]\\nt=Table(data)\\nt.setStyle(TableStyle([(\\'BACKGROUND\\',(1,1),(-2,-2),colors.green),\\n                       (\\'TEXTCOLOR\\',(0,0),(1,-1),colors.red)]))\\nelements.append(t)\\n# write the document to disk\\ndoc.build(elements)'"
      ]
     },
     "execution_count": 13,
     "metadata": {},
     "output_type": "execute_result"
    }
   ],
   "source": [
    "'''from reportlab.lib import colors\n",
    "from reportlab.lib.pagesizes import letter\n",
    "from reportlab.platypus import SimpleDocTemplate, Table, TableStyle\n",
    " \n",
    "doc = SimpleDocTemplate(\"simple_table.pdf\", pagesize=letter)\n",
    "# container for the 'Flowable' objects\n",
    "elements = []\n",
    " \n",
    "data= [['00', '01', '02', '03', '04'],\n",
    "       ['10', '11', '12', '13', '14'],\n",
    "       ['20', '21', '22', '23', '24'],\n",
    "       ['30', '31', '32', '33', '34']]\n",
    "t=Table(data)\n",
    "t.setStyle(TableStyle([('BACKGROUND',(1,1),(-2,-2),colors.green),\n",
    "                       ('TEXTCOLOR',(0,0),(1,-1),colors.red)]))\n",
    "elements.append(t)\n",
    "# write the document to disk\n",
    "doc.build(elements)'''"
   ]
  },
  {
   "cell_type": "code",
   "execution_count": null,
   "metadata": {},
   "outputs": [],
   "source": []
  },
  {
   "cell_type": "code",
   "execution_count": null,
   "metadata": {},
   "outputs": [],
   "source": []
  },
  {
   "cell_type": "code",
   "execution_count": null,
   "metadata": {},
   "outputs": [],
   "source": []
  },
  {
   "cell_type": "code",
   "execution_count": null,
   "metadata": {},
   "outputs": [],
   "source": []
  }
 ],
 "metadata": {
  "kernelspec": {
   "display_name": "Python 3",
   "language": "python",
   "name": "python3"
  },
  "language_info": {
   "codemirror_mode": {
    "name": "ipython",
    "version": 3
   },
   "file_extension": ".py",
   "mimetype": "text/x-python",
   "name": "python",
   "nbconvert_exporter": "python",
   "pygments_lexer": "ipython3",
   "version": "3.7.1"
  }
 },
 "nbformat": 4,
 "nbformat_minor": 2
}
