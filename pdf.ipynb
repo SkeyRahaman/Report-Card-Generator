{
 "cells": [
  {
   "cell_type": "code",
   "execution_count": 3,
   "metadata": {},
   "outputs": [
    {
     "name": "stdout",
     "output_type": "stream",
     "text": [
      "Collecting reportlab\n",
      "  Downloading https://files.pythonhosted.org/packages/72/a7/5c88a2c9c3b82ba177ee8a1bfddb3a9c6ca80fa80a80e197afdaf04b1579/reportlab-3.5.23-cp37-cp37m-win_amd64.whl (2.2MB)\n",
      "Requirement already satisfied: pillow>=4.0.0 in c:\\users\\shakib\\anaconda3\\lib\\site-packages (from reportlab) (5.3.0)\n",
      "Installing collected packages: reportlab\n",
      "Successfully installed reportlab-3.5.23\n"
     ]
    }
   ],
   "source": [
    "!pip install reportlab"
   ]
  },
  {
   "cell_type": "code",
   "execution_count": 57,
   "metadata": {},
   "outputs": [],
   "source": [
    "#595.27,841.89\n",
    "from reportlab.pdfgen import canvas\n",
    "from reportlab.lib.units import inch\n",
    "from reportlab.lib.pagesizes import A4\n",
    "c = canvas.Canvas(\"hello.pdf\",bottomup=1,pagesize=A4)\n",
    "c.setFont('Times-Bold',33)\n",
    "#c.drawString(50,741,\"CampusX Mentorship Programme\")\n",
    "c.drawCentredString(595.27/2,750,text='CampusX Mentorship Programme')\n",
    "c.setFont('Times-Roman',20)\n",
    "c.drawCentredString(595.27/2,720,text='Machine Learning')\n",
    "draw_intro(c,30)\n",
    "draw_border(c,35)\n",
    "c.showPage()\n",
    "c.save()"
   ]
  },
  {
   "cell_type": "code",
   "execution_count": 56,
   "metadata": {},
   "outputs": [],
   "source": [
    "def draw_intro(c,a):\n",
    "    c.drawString(45,680,'NAME:-')\n",
    "    c.drawString(45,680-a,'COLLEGE:-')\n",
    "    c.drawString(345,680-2*a,'YEAR:-')\n",
    "    c.drawString(45,680-2*a,'MONTH:-')\n",
    "    c.drawString(345,680-3*a,'DATE:-')\n",
    "    c.drawString(45,680-3*a,'SEMISTER:-')"
   ]
  },
  {
   "cell_type": "code",
   "execution_count": 2,
   "metadata": {},
   "outputs": [],
   "source": [
    "def draw_border(c,m):\n",
    "    c.line(m,m,595.27-m,m)\n",
    "    c.line(m,841.89-m,595.27-m,841.89-m)\n",
    "    c.line(m,m,m,841.89-m)\n",
    "    c.line(595.27-m,m,595.27-m,841.89-m)"
   ]
  },
  {
   "cell_type": "code",
   "execution_count": 40,
   "metadata": {},
   "outputs": [
    {
     "data": {
      "text/plain": [
       "['Courier',\n",
       " 'Courier-Bold',\n",
       " 'Courier-BoldOblique',\n",
       " 'Courier-Oblique',\n",
       " 'Helvetica',\n",
       " 'Helvetica-Bold',\n",
       " 'Helvetica-BoldOblique',\n",
       " 'Helvetica-Oblique',\n",
       " 'Symbol',\n",
       " 'Times-Bold',\n",
       " 'Times-BoldItalic',\n",
       " 'Times-Italic',\n",
       " 'Times-Roman',\n",
       " 'ZapfDingbats']"
      ]
     },
     "execution_count": 40,
     "metadata": {},
     "output_type": "execute_result"
    }
   ],
   "source": [
    "c.getAvailableFonts()"
   ]
  },
  {
   "cell_type": "code",
   "execution_count": null,
   "metadata": {},
   "outputs": [],
   "source": []
  }
 ],
 "metadata": {
  "kernelspec": {
   "display_name": "Python 3",
   "language": "python",
   "name": "python3"
  },
  "language_info": {
   "codemirror_mode": {
    "name": "ipython",
    "version": 3
   },
   "file_extension": ".py",
   "mimetype": "text/x-python",
   "name": "python",
   "nbconvert_exporter": "python",
   "pygments_lexer": "ipython3",
   "version": "3.7.1"
  }
 },
 "nbformat": 4,
 "nbformat_minor": 2
}
