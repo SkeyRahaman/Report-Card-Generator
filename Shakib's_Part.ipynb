{
 "cells": [
  {
   "cell_type": "code",
   "execution_count": 22,
   "metadata": {},
   "outputs": [],
   "source": [
    "from datetime import date\n",
    "from datetime import datetime\n",
    "today = date.today()\n",
    "#size of the page = 595.27,841.89\n",
    "from reportlab.pdfgen import canvas\n",
    "from reportlab.lib.units import inch\n",
    "from reportlab.lib.pagesizes import A4\n",
    "import pandas as pd\n",
    "import openpyxl\n",
    "import requests\n",
    "from datetime import datetime"
   ]
  },
  {
   "cell_type": "code",
   "execution_count": 2,
   "metadata": {},
   "outputs": [
    {
     "data": {
      "text/plain": [
       "'09 - December'"
      ]
     },
     "execution_count": 2,
     "metadata": {},
     "output_type": "execute_result"
    }
   ],
   "source": [
    "d = date(2016, 12, 9)\n",
    "d.strftime(\"%d - %B\")"
   ]
  },
  {
   "cell_type": "code",
   "execution_count": 3,
   "metadata": {},
   "outputs": [],
   "source": [
    "class info_of_student:\n",
    "    def __init__(self):\n",
    "        print(\"name of student\")\n",
    "    Name = \"Ki Hba Nam Jana\"\n",
    "    College = \" GCELT\"\n",
    "    Year = \" First\"\n",
    "    Month = str(today.strftime(\"%B\"))\n",
    "    Date = str(today.strftime(\"%d/%m/%Y\"))\n",
    "    Email = \"sakibmondal7@gmail.com\"\n",
    "    Number_of_task_wins = str(5)\n",
    "    Rank_among_the_class = str(5)\n",
    "    Late_submition_ratio = str(.5)\n",
    "    Percentage = str(100)\n",
    "    Percentyle  = str(90)\n",
    "    Table_elements = [[\"1Data Analytics\",30.0,26.0,23.0,89],\n",
    "                      [\"2Introduction to\",30.0,26.0,23.0,89],\n",
    "                      [\"3Data Analytics\",30.0,26.0,23.0,89],\n",
    "                      [\"4Data Analytics\",30.0,26.0,23.0,89],\n",
    "                      [\"5Introduction to\",30.0,26.0,23.0,89]]\n",
    "    Table_one_total = [\"TOTAL\",89,26.0,23.0,None]"
   ]
  },
  {
   "cell_type": "code",
   "execution_count": 4,
   "metadata": {},
   "outputs": [],
   "source": [
    "def draw_intro(c,Spacing,info):\n",
    "    c.setFont('Times-Bold',28)\n",
    "    c.setFillColorRGB(0,0,0.77)\n",
    "    c.drawCentredString(595.27/2+50,750,text='CampusX Mentorship Programme')\n",
    "    c.setFillColorRGB(0,0,0)\n",
    "    c.setFont('Times-Roman',22)\n",
    "    c.drawCentredString(320,720,text='Machine Learning')\n",
    "    c.setFont('Times-Roman',18)\n",
    "    c.drawString(45,680,('NAME:-' + info.Name))\n",
    "    c.drawString(45,680-Spacing,'COLLEGE:-'+info.College)\n",
    "    #c.drawString(285,680-2*Spacing,'YEAR:-'+info.Year)\n",
    "    c.drawString(45,680-2*Spacing,'MONTH:-'+info.Month)\n",
    "    c.drawString(45,680-3*Spacing,'Email Address:- ' + info.Email)\n",
    "\n",
    "    c.line(35,680-3.5*Spacing,560.27,680-3.5*Spacing)\n",
    "    c.drawInlineImage(image=\"campusX_false_logo.png\",x=45,y=700,width=85,height=100)\n",
    "    c.drawInlineImage(image=\"Photo_InkedcampusX_false_logo_LI.jpg\",x=440,y=600,width=100,height=115)\n",
    "    return c\n",
    "\n",
    "def draw_border(c,m):\n",
    "    c.line(m,m,595.27-m,m)\n",
    "    c.line(m,841.89-m,595.27-m,841.89-m)\n",
    "    c.line(m,m,m,841.89-m)\n",
    "    c.line(595.27-m,m,595.27-m,841.89-m)\n",
    "    return c\n",
    "\n",
    "def draw_table(info,c):\n",
    "    c.drawInlineImage(image=\"TABLE_MODULES.jpg\",x=45,y=410,width=500,height=180)\n",
    "    c.setFont('Times-Bold',10)\n",
    "    Heading = ['MODULE','Full Marks','Heighest Marks',\"Your Marks\",'Percentyle']\n",
    "    for i in range(len(Heading)):\n",
    "        c.drawCentredString(95+i*100,575,Heading[i])\n",
    "    writing_row = 555\n",
    "    data = info.Table_elements\n",
    "    for i in range(len(info.Table_elements)):\n",
    "        for j in range(len(info.Table_elements[i])):\n",
    "            c.drawCentredString(95+j*100,writing_row,str(data[i][j]))   \n",
    "        writing_row -= 20\n",
    "    for i in range(len(info.Table_one_total)):\n",
    "        if(str(info.Table_one_total[i]) == \"None\"):\n",
    "            continue\n",
    "        c.drawCentredString(95+i*100,415,str(info.Table_one_total[i])) \n",
    "    return c\n",
    "\n",
    "\n",
    "def draw_acknowledgement(c,Spacing,info):\n",
    "    c.line(35,45+5*Spacing,560.27,45+5*Spacing)\n",
    "\n",
    "    c.setFont('Times-Roman',18)\n",
    "    c.drawString(45,45+4*Spacing,'Number of task wins:-'+info.Number_of_task_wins)\n",
    "    c.drawString(45,45+3*Spacing,'Rank among the class:-'+ info.Rank_among_the_class)\n",
    "    c.drawString(45,45+2*Spacing,'Late submition ratio:-'+ info.Late_submition_ratio)\n",
    "    c.drawString(45,45+Spacing,'Teacher’s signature:-')\n",
    "    c.drawString(45,45,'Remark:-')\n",
    "\n",
    "\n",
    "    c.drawString(300,45+4*Spacing,'Overall percentage :-'+ info.Percentage + \"%\")\n",
    "    c.drawString(300,45+3*Spacing,'Overall1 percentyle:-'+ info.Percentyle + \"%\")\n",
    "    c.drawString(300,45+2*Spacing,'Generated on:-'+info.Date)\n",
    "    return c\n",
    "\n",
    "\n",
    "def draw_comparison_table(c):\n",
    "    #print(c)\n",
    "\n",
    "    Y=160     #Y scale of the second and third graph\n",
    "    c.drawInlineImage(image=\"Sample_compair_bar_graph.jpg\",x=45,y=Y,width=290,height=180)\n",
    "    c.drawInlineImage(image=\"391_Several_indiv_Radarchart.png\",x=350,y=Y,width=200,height=180)\n",
    "    c.setFont('Times-Roman',19)\n",
    "    c.drawString(45,390,'Comparison between this month and averagen till now on the ')\n",
    "    c.drawString(55,370,'basic of:')\n",
    "    c.drawString(65,350,'1. Task Subject:')\n",
    "    c.drawString(355,350,'2. Task Value:')\n",
    "    return c\n",
    "\n",
    "def main():\n",
    "    info = info_of_student\n",
    "    c = canvas.Canvas(\"hello.pdf\",bottomup=1,pagesize=A4)\n",
    "    c=draw_border(c,35)\n",
    "    c=draw_border(c,32.5)\n",
    "    c=draw_border(c,30)\n",
    "\n",
    "    c = draw_intro(c,25,info)\n",
    "    c=draw_table(info,c)\n",
    "    c=draw_comparison_table(c)\n",
    "    c=draw_acknowledgement(c,22,info)\n",
    "    c.showPage()\n",
    "    c.save()\n",
    "    #return c"
   ]
  },
  {
   "cell_type": "code",
   "execution_count": 5,
   "metadata": {},
   "outputs": [],
   "source": [
    "main()"
   ]
  },
  {
   "cell_type": "code",
   "execution_count": null,
   "metadata": {},
   "outputs": [],
   "source": []
  },
  {
   "cell_type": "code",
   "execution_count": null,
   "metadata": {},
   "outputs": [],
   "source": []
  },
  {
   "cell_type": "code",
   "execution_count": null,
   "metadata": {},
   "outputs": [],
   "source": []
  },
  {
   "cell_type": "code",
   "execution_count": null,
   "metadata": {},
   "outputs": [],
   "source": []
  },
  {
   "cell_type": "code",
   "execution_count": null,
   "metadata": {},
   "outputs": [],
   "source": []
  },
  {
   "cell_type": "code",
   "execution_count": null,
   "metadata": {},
   "outputs": [],
   "source": []
  },
  {
   "cell_type": "code",
   "execution_count": null,
   "metadata": {},
   "outputs": [],
   "source": []
  },
  {
   "cell_type": "code",
   "execution_count": null,
   "metadata": {},
   "outputs": [],
   "source": []
  },
  {
   "cell_type": "code",
   "execution_count": null,
   "metadata": {},
   "outputs": [],
   "source": []
  },
  {
   "cell_type": "code",
   "execution_count": 3,
   "metadata": {},
   "outputs": [],
   "source": [
    "def creat_data(file):\n",
    "    wb = openpyxl.load_workbook(file) \n",
    "    Number_of_sheets = len(wb.sheetnames)\n",
    "    for i in range(len(wb.sheetnames)):\n",
    "        try:\n",
    "            data = pd.concat([data, pd.read_excel(file,sheet_name=i)])\n",
    "        except:\n",
    "            data = pd.read_excel(file,sheet_name=0)\n",
    "        #print(data.shape)\n",
    "    return data\n",
    "def Clone_the_dataset_to_this_machine():\n",
    "    a = requests.get(url)\n",
    "    resp = requests.get(url)\n",
    "    output = open('Student Gradebook.xlsx', 'wb')\n",
    "    output.write(resp.content)\n",
    "    output.close()\n",
    "    \n",
    "def Add_Month_column(data):\n",
    "    date_list = []\n",
    "    a=0\n",
    "    for i in data[\"Date\"]:\n",
    "        try:\n",
    "            date_list.append(i.strftime(\"%B\"))\n",
    "            a  += 1\n",
    "        except:\n",
    "            try:\n",
    "                date_list.append(datetime.strptime(str(i),\"%d/%m/%Y\").strftime(\"%B\"))\n",
    "                a  += 1\n",
    "            except:\n",
    "                print(\"Interrupt in a line number : - \",a,\"which is having a entry of:-\",i)\n",
    "                break\n",
    "\n",
    "    data[\"Month\"] = date_list\n",
    "    return data"
   ]
  },
  {
   "cell_type": "code",
   "execution_count": 4,
   "metadata": {},
   "outputs": [],
   "source": [
    "url = \"https://docs.google.com/spreadsheets/d/1HYjfEe3aCbufbqIXKs0Xz-gfoQNztGhCN1ivx0gZXnc/export?format=xlsx\"    \n",
    "Clone_the_dataset_to_this_machine()\n",
    "data = creat_data(\"Student Gradebook.xlsx\")\n",
    "data = Add_Month_column(data)\n",
    "#data.to_csv(\"lol.csv\")"
   ]
  },
  {
   "cell_type": "code",
   "execution_count": 60,
   "metadata": {},
   "outputs": [],
   "source": []
  },
  {
   "cell_type": "code",
   "execution_count": null,
   "metadata": {},
   "outputs": [],
   "source": []
  },
  {
   "cell_type": "code",
   "execution_count": null,
   "metadata": {},
   "outputs": [],
   "source": []
  },
  {
   "cell_type": "code",
   "execution_count": null,
   "metadata": {},
   "outputs": [],
   "source": []
  },
  {
   "cell_type": "code",
   "execution_count": null,
   "metadata": {},
   "outputs": [],
   "source": []
  },
  {
   "cell_type": "code",
   "execution_count": 26,
   "metadata": {},
   "outputs": [],
   "source": [
    "\n"
   ]
  },
  {
   "cell_type": "code",
   "execution_count": 32,
   "metadata": {},
   "outputs": [],
   "source": []
  }
 ],
 "metadata": {
  "kernelspec": {
   "display_name": "Python 3",
   "language": "python",
   "name": "python3"
  },
  "language_info": {
   "codemirror_mode": {
    "name": "ipython",
    "version": 3
   },
   "file_extension": ".py",
   "mimetype": "text/x-python",
   "name": "python",
   "nbconvert_exporter": "python",
   "pygments_lexer": "ipython3",
   "version": "3.7.1"
  }
 },
 "nbformat": 4,
 "nbformat_minor": 2
}
