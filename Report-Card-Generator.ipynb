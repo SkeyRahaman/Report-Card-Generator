{
 "cells": [
  {
   "cell_type": "markdown",
   "metadata": {},
   "source": [
    "# Dipam"
   ]
  },
  {
   "cell_type": "code",
   "execution_count": 71,
   "metadata": {},
   "outputs": [],
   "source": [
    "import numpy as np\n",
    "import pandas as pd\n",
    "import matplotlib.pyplot as plt\n",
    "%matplotlib inline\n",
    "import seaborn as sns\n",
    "plt.style.use('fivethirtyeight')"
   ]
  },
  {
   "cell_type": "code",
<<<<<<< HEAD
   "execution_count": 3,
=======
   "execution_count": null,
   "metadata": {},
   "outputs": [],
   "source": []
  },
  {
   "cell_type": "code",
   "execution_count": null,
   "metadata": {},
   "outputs": [],
   "source": []
  },
  {
   "cell_type": "code",
   "execution_count": 72,
>>>>>>> 475d98cfe091f021a29e711a58e6466f0f57d4da
   "metadata": {},
   "outputs": [],
   "source": [
    "#gathering data\n",
    "data=pd.read_csv('Student Gradebook - August.csv')"
   ]
  },
  {
   "cell_type": "code",
   "execution_count": 73,
   "metadata": {},
   "outputs": [
    {
     "data": {
      "text/html": [
       "<div>\n",
       "<style scoped>\n",
       "    .dataframe tbody tr th:only-of-type {\n",
       "        vertical-align: middle;\n",
       "    }\n",
       "\n",
       "    .dataframe tbody tr th {\n",
       "        vertical-align: top;\n",
       "    }\n",
       "\n",
       "    .dataframe thead th {\n",
       "        text-align: right;\n",
       "    }\n",
       "</style>\n",
       "<table border=\"1\" class=\"dataframe\">\n",
       "  <thead>\n",
       "    <tr style=\"text-align: right;\">\n",
       "      <th></th>\n",
       "      <th>id</th>\n",
       "      <th>Task</th>\n",
       "      <th>Date</th>\n",
       "      <th>Module</th>\n",
       "      <th>Type</th>\n",
       "      <th>Student</th>\n",
       "      <th>Late Submission</th>\n",
       "      <th>Points</th>\n",
       "      <th>Total</th>\n",
       "      <th>Task Winner</th>\n",
       "    </tr>\n",
       "  </thead>\n",
       "  <tbody>\n",
       "    <tr>\n",
       "      <th>0</th>\n",
       "      <td>0</td>\n",
       "      <td>AjKyaUkhada</td>\n",
       "      <td>01-08-19 13:26</td>\n",
       "      <td>Ritual</td>\n",
       "      <td>Consistency</td>\n",
       "      <td>Sonali</td>\n",
       "      <td>0</td>\n",
       "      <td>2.0</td>\n",
       "      <td>2</td>\n",
       "      <td>0</td>\n",
       "    </tr>\n",
       "    <tr>\n",
       "      <th>1</th>\n",
       "      <td>0</td>\n",
       "      <td>AjKyaUkhada</td>\n",
       "      <td>01-08-19 14:40</td>\n",
       "      <td>Ritual</td>\n",
       "      <td>Consistency</td>\n",
       "      <td>Chandrima</td>\n",
       "      <td>0</td>\n",
       "      <td>2.0</td>\n",
       "      <td>2</td>\n",
       "      <td>0</td>\n",
       "    </tr>\n",
       "    <tr>\n",
       "      <th>2</th>\n",
       "      <td>0</td>\n",
       "      <td>AjKyaUkhada</td>\n",
       "      <td>01-08-19 14:44</td>\n",
       "      <td>Ritual</td>\n",
       "      <td>Consistency</td>\n",
       "      <td>Purbita</td>\n",
       "      <td>0</td>\n",
       "      <td>2.0</td>\n",
       "      <td>2</td>\n",
       "      <td>0</td>\n",
       "    </tr>\n",
       "    <tr>\n",
       "      <th>3</th>\n",
       "      <td>0</td>\n",
       "      <td>AjKyaUkhada</td>\n",
       "      <td>01-08-19 14:47</td>\n",
       "      <td>Ritual</td>\n",
       "      <td>Consistency</td>\n",
       "      <td>Kunal</td>\n",
       "      <td>0</td>\n",
       "      <td>2.0</td>\n",
       "      <td>2</td>\n",
       "      <td>0</td>\n",
       "    </tr>\n",
       "    <tr>\n",
       "      <th>4</th>\n",
       "      <td>0</td>\n",
       "      <td>AjKyaUkhada</td>\n",
       "      <td>01-08-19 14:48</td>\n",
       "      <td>Ritual</td>\n",
       "      <td>Consistency</td>\n",
       "      <td>Kaushal</td>\n",
       "      <td>0</td>\n",
       "      <td>2.0</td>\n",
       "      <td>2</td>\n",
       "      <td>0</td>\n",
       "    </tr>\n",
       "  </tbody>\n",
       "</table>\n",
       "</div>"
      ],
      "text/plain": [
       "   id         Task            Date  Module         Type    Student  \\\n",
       "0   0  AjKyaUkhada  01-08-19 13:26  Ritual  Consistency     Sonali   \n",
       "1   0  AjKyaUkhada  01-08-19 14:40  Ritual  Consistency  Chandrima   \n",
       "2   0  AjKyaUkhada  01-08-19 14:44  Ritual  Consistency    Purbita   \n",
       "3   0  AjKyaUkhada  01-08-19 14:47  Ritual  Consistency      Kunal   \n",
       "4   0  AjKyaUkhada  01-08-19 14:48  Ritual  Consistency    Kaushal   \n",
       "\n",
       "   Late Submission  Points  Total  Task Winner  \n",
       "0                0     2.0      2            0  \n",
       "1                0     2.0      2            0  \n",
       "2                0     2.0      2            0  \n",
       "3                0     2.0      2            0  \n",
       "4                0     2.0      2            0  "
      ]
     },
     "execution_count": 73,
     "metadata": {},
     "output_type": "execute_result"
    }
   ],
   "source": [
    "data.head()"
   ]
  },
  {
   "cell_type": "code",
   "execution_count": 74,
   "metadata": {},
   "outputs": [
    {
     "data": {
      "text/plain": [
       "Student\n",
       "Dipam       187.0\n",
       "Surabhi     185.0\n",
       "Kunal       184.0\n",
       "Ujjainee    181.0\n",
       "Shakib      180.5\n",
       "Name: Points, dtype: float64"
      ]
     },
     "execution_count": 74,
     "metadata": {},
     "output_type": "execute_result"
    }
   ],
   "source": [
    "data.groupby('Student')['Points'].sum().sort_values(ascending=False).head()"
   ]
  },
  {
   "cell_type": "code",
   "execution_count": 75,
   "metadata": {},
   "outputs": [],
   "source": [
    "data_august=data  #basically to understand that it is the dataset of august"
   ]
  },
  {
   "cell_type": "code",
   "execution_count": 76,
   "metadata": {},
   "outputs": [
    {
     "data": {
      "text/plain": [
       "(911, 10)"
      ]
     },
     "execution_count": 76,
     "metadata": {},
     "output_type": "execute_result"
    }
   ],
   "source": [
    "data_august.shape   "
   ]
  },
  {
   "cell_type": "code",
   "execution_count": 77,
   "metadata": {},
   "outputs": [],
   "source": [
    "data_july=pd.read_csv('Student Gradebook - July.csv')"
   ]
  },
  {
   "cell_type": "code",
   "execution_count": 78,
   "metadata": {},
   "outputs": [
    {
     "data": {
      "text/html": [
       "<div>\n",
       "<style scoped>\n",
       "    .dataframe tbody tr th:only-of-type {\n",
       "        vertical-align: middle;\n",
       "    }\n",
       "\n",
       "    .dataframe tbody tr th {\n",
       "        vertical-align: top;\n",
       "    }\n",
       "\n",
       "    .dataframe thead th {\n",
       "        text-align: right;\n",
       "    }\n",
       "</style>\n",
       "<table border=\"1\" class=\"dataframe\">\n",
       "  <thead>\n",
       "    <tr style=\"text-align: right;\">\n",
       "      <th></th>\n",
       "      <th>id</th>\n",
       "      <th>Task</th>\n",
       "      <th>Date</th>\n",
       "      <th>Module</th>\n",
       "      <th>Type</th>\n",
       "      <th>Student</th>\n",
       "      <th>Late Submission</th>\n",
       "      <th>Points</th>\n",
       "      <th>Total</th>\n",
       "      <th>Task Winner</th>\n",
       "      <th>...</th>\n",
       "      <th>Unnamed: 13</th>\n",
       "      <th>Unnamed: 14</th>\n",
       "      <th>Unnamed: 15</th>\n",
       "      <th>Unnamed: 16</th>\n",
       "      <th>Unnamed: 17</th>\n",
       "      <th>Unnamed: 18</th>\n",
       "      <th>Unnamed: 19</th>\n",
       "      <th>Unnamed: 20</th>\n",
       "      <th>Unnamed: 21</th>\n",
       "      <th>Unnamed: 22</th>\n",
       "    </tr>\n",
       "  </thead>\n",
       "  <tbody>\n",
       "    <tr>\n",
       "      <th>0</th>\n",
       "      <td>1</td>\n",
       "      <td>Linkedin Profile create/update</td>\n",
       "      <td>7/22/2019</td>\n",
       "      <td>Profile Building</td>\n",
       "      <td>Intent, Creativity,Content</td>\n",
       "      <td>Chandrima</td>\n",
       "      <td>0</td>\n",
       "      <td>6.0</td>\n",
       "      <td>10</td>\n",
       "      <td>0</td>\n",
       "      <td>...</td>\n",
       "      <td>NaN</td>\n",
       "      <td>NaN</td>\n",
       "      <td>NaN</td>\n",
       "      <td>NaN</td>\n",
       "      <td>NaN</td>\n",
       "      <td>NaN</td>\n",
       "      <td>NaN</td>\n",
       "      <td>NaN</td>\n",
       "      <td>NaN</td>\n",
       "      <td>NaN</td>\n",
       "    </tr>\n",
       "    <tr>\n",
       "      <th>1</th>\n",
       "      <td>1</td>\n",
       "      <td>Linkedin Profile create/update</td>\n",
<<<<<<< HEAD
       "      <td>7/22/2019</td>\n",
=======
       "      <td>22-07-19</td>\n",
>>>>>>> 475d98cfe091f021a29e711a58e6466f0f57d4da
       "      <td>Profile Building</td>\n",
       "      <td>Intent, Creativity,Content</td>\n",
       "      <td>Dipam</td>\n",
       "      <td>0</td>\n",
       "      <td>7.0</td>\n",
       "      <td>10</td>\n",
       "      <td>0</td>\n",
       "      <td>...</td>\n",
       "      <td>NaN</td>\n",
       "      <td>NaN</td>\n",
       "      <td>NaN</td>\n",
       "      <td>NaN</td>\n",
       "      <td>NaN</td>\n",
       "      <td>NaN</td>\n",
       "      <td>NaN</td>\n",
       "      <td>NaN</td>\n",
       "      <td>NaN</td>\n",
       "      <td>NaN</td>\n",
       "    </tr>\n",
       "    <tr>\n",
       "      <th>2</th>\n",
       "      <td>1</td>\n",
       "      <td>Linkedin Profile create/update</td>\n",
<<<<<<< HEAD
       "      <td>7/22/2019</td>\n",
=======
       "      <td>22-07-19</td>\n",
>>>>>>> 475d98cfe091f021a29e711a58e6466f0f57d4da
       "      <td>Profile Building</td>\n",
       "      <td>Intent, Creativity,Content</td>\n",
       "      <td>Durga</td>\n",
       "      <td>0</td>\n",
       "      <td>6.0</td>\n",
       "      <td>10</td>\n",
       "      <td>0</td>\n",
       "      <td>...</td>\n",
       "      <td>NaN</td>\n",
       "      <td>NaN</td>\n",
       "      <td>NaN</td>\n",
       "      <td>NaN</td>\n",
       "      <td>NaN</td>\n",
       "      <td>NaN</td>\n",
       "      <td>NaN</td>\n",
       "      <td>NaN</td>\n",
       "      <td>NaN</td>\n",
       "      <td>NaN</td>\n",
       "    </tr>\n",
       "    <tr>\n",
       "      <th>3</th>\n",
       "      <td>1</td>\n",
       "      <td>Linkedin Profile create/update</td>\n",
<<<<<<< HEAD
       "      <td>7/22/2019</td>\n",
=======
       "      <td>22-07-19</td>\n",
>>>>>>> 475d98cfe091f021a29e711a58e6466f0f57d4da
       "      <td>Profile Building</td>\n",
       "      <td>Intent, Creativity,Content</td>\n",
       "      <td>Kaushal</td>\n",
       "      <td>0</td>\n",
       "      <td>7.0</td>\n",
       "      <td>10</td>\n",
       "      <td>0</td>\n",
       "      <td>...</td>\n",
       "      <td>NaN</td>\n",
       "      <td>NaN</td>\n",
       "      <td>NaN</td>\n",
       "      <td>NaN</td>\n",
       "      <td>NaN</td>\n",
       "      <td>NaN</td>\n",
       "      <td>NaN</td>\n",
       "      <td>NaN</td>\n",
       "      <td>NaN</td>\n",
       "      <td>NaN</td>\n",
       "    </tr>\n",
       "    <tr>\n",
       "      <th>4</th>\n",
       "      <td>1</td>\n",
       "      <td>Linkedin Profile create/update</td>\n",
<<<<<<< HEAD
       "      <td>7/22/2019</td>\n",
=======
       "      <td>22-07-19</td>\n",
>>>>>>> 475d98cfe091f021a29e711a58e6466f0f57d4da
       "      <td>Profile Building</td>\n",
       "      <td>Intent, Creativity,Content</td>\n",
       "      <td>Arya</td>\n",
       "      <td>0</td>\n",
       "      <td>6.0</td>\n",
       "      <td>10</td>\n",
       "      <td>0</td>\n",
       "      <td>...</td>\n",
       "      <td>NaN</td>\n",
       "      <td>NaN</td>\n",
       "      <td>NaN</td>\n",
       "      <td>NaN</td>\n",
       "      <td>NaN</td>\n",
       "      <td>NaN</td>\n",
       "      <td>NaN</td>\n",
       "      <td>NaN</td>\n",
       "      <td>NaN</td>\n",
       "      <td>NaN</td>\n",
       "    </tr>\n",
       "  </tbody>\n",
       "</table>\n",
       "<p>5 rows × 23 columns</p>\n",
       "</div>"
      ],
      "text/plain": [
<<<<<<< HEAD
       "   id                            Task       Date            Module  \\\n",
       "0   1  Linkedin Profile create/update  7/22/2019  Profile Building   \n",
       "1   1  Linkedin Profile create/update  7/22/2019  Profile Building   \n",
       "2   1  Linkedin Profile create/update  7/22/2019  Profile Building   \n",
       "3   1  Linkedin Profile create/update  7/22/2019  Profile Building   \n",
       "4   1  Linkedin Profile create/update  7/22/2019  Profile Building   \n",
=======
       "    id                            Task      Date            Module  \\\n",
       "0  NaN                             NaN       NaN               NaN   \n",
       "1  1.0  Linkedin Profile create/update  22-07-19  Profile Building   \n",
       "2  1.0  Linkedin Profile create/update  22-07-19  Profile Building   \n",
       "3  1.0  Linkedin Profile create/update  22-07-19  Profile Building   \n",
       "4  1.0  Linkedin Profile create/update  22-07-19  Profile Building   \n",
>>>>>>> 475d98cfe091f021a29e711a58e6466f0f57d4da
       "\n",
       "                         Type    Student  Late Submission  Points  Total  \\\n",
       "0  Intent, Creativity,Content  Chandrima                0     6.0     10   \n",
       "1  Intent, Creativity,Content      Dipam                0     7.0     10   \n",
       "2  Intent, Creativity,Content      Durga                0     6.0     10   \n",
       "3  Intent, Creativity,Content    Kaushal                0     7.0     10   \n",
       "4  Intent, Creativity,Content       Arya                0     6.0     10   \n",
       "\n",
       "   Task Winner     ...      Unnamed: 13  Unnamed: 14  Unnamed: 15  \\\n",
       "0            0     ...              NaN          NaN          NaN   \n",
       "1            0     ...              NaN          NaN          NaN   \n",
       "2            0     ...              NaN          NaN          NaN   \n",
       "3            0     ...              NaN          NaN          NaN   \n",
       "4            0     ...              NaN          NaN          NaN   \n",
       "\n",
       "   Unnamed: 16  Unnamed: 17  Unnamed: 18 Unnamed: 19 Unnamed: 20 Unnamed: 21  \\\n",
       "0          NaN          NaN          NaN         NaN         NaN         NaN   \n",
       "1          NaN          NaN          NaN         NaN         NaN         NaN   \n",
       "2          NaN          NaN          NaN         NaN         NaN         NaN   \n",
       "3          NaN          NaN          NaN         NaN         NaN         NaN   \n",
       "4          NaN          NaN          NaN         NaN         NaN         NaN   \n",
       "\n",
       "  Unnamed: 22  \n",
       "0         NaN  \n",
       "1         NaN  \n",
       "2         NaN  \n",
       "3         NaN  \n",
       "4         NaN  \n",
       "\n",
       "[5 rows x 23 columns]"
      ]
     },
     "execution_count": 78,
     "metadata": {},
     "output_type": "execute_result"
    }
   ],
   "source": [
    "data_july.head()"
   ]
  },
  {
   "cell_type": "code",
   "execution_count": 79,
   "metadata": {},
   "outputs": [
    {
     "data": {
      "text/plain": [
       "Index(['id', 'Task', 'Date', 'Module', 'Type', 'Student', 'Late Submission',\n",
       "       'Points', 'Total', 'Task Winner', 'Unnamed: 10', 'Unnamed: 11',\n",
       "       'Unnamed: 12', 'Unnamed: 13', 'Unnamed: 14', 'Unnamed: 15',\n",
       "       'Unnamed: 16', 'Unnamed: 17', 'Unnamed: 18', 'Unnamed: 19',\n",
       "       'Unnamed: 20', 'Unnamed: 21', 'Unnamed: 22'],\n",
       "      dtype='object')"
      ]
     },
     "execution_count": 79,
     "metadata": {},
     "output_type": "execute_result"
    }
   ],
   "source": [
    "data_july.columns"
   ]
  },
  {
   "cell_type": "code",
   "execution_count": 80,
   "metadata": {},
   "outputs": [],
   "source": [
    "#data cleaning\n",
    "data_july.drop(columns=['Unnamed: 10','Unnamed: 11','Unnamed: 12','Unnamed: 13','Unnamed: 14','Unnamed: 15','Unnamed: 16','Unnamed: 17','Unnamed: 18','Unnamed: 19','Unnamed: 20','Unnamed: 21','Unnamed: 22'],inplace=True)"
   ]
  },
  {
   "cell_type": "code",
   "execution_count": 81,
   "metadata": {},
   "outputs": [
    {
     "data": {
      "text/plain": [
       "(225, 10)"
      ]
     },
     "execution_count": 81,
     "metadata": {},
     "output_type": "execute_result"
    }
   ],
   "source": [
    "data_july.shape"
   ]
  },
  {
   "cell_type": "code",
   "execution_count": 82,
   "metadata": {},
   "outputs": [],
   "source": [
    "data_september=pd.read_csv('Student Gradebook - September.csv')"
   ]
  },
  {
   "cell_type": "code",
   "execution_count": 83,
   "metadata": {},
   "outputs": [
    {
     "data": {
      "text/html": [
       "<div>\n",
       "<style scoped>\n",
       "    .dataframe tbody tr th:only-of-type {\n",
       "        vertical-align: middle;\n",
       "    }\n",
       "\n",
       "    .dataframe tbody tr th {\n",
       "        vertical-align: top;\n",
       "    }\n",
       "\n",
       "    .dataframe thead th {\n",
       "        text-align: right;\n",
       "    }\n",
       "</style>\n",
       "<table border=\"1\" class=\"dataframe\">\n",
       "  <thead>\n",
       "    <tr style=\"text-align: right;\">\n",
       "      <th></th>\n",
       "      <th>id</th>\n",
       "      <th>Task</th>\n",
       "      <th>Date</th>\n",
       "      <th>Module</th>\n",
       "      <th>Type</th>\n",
       "      <th>Student</th>\n",
       "      <th>Late Submission</th>\n",
       "      <th>Points</th>\n",
       "      <th>Total</th>\n",
       "      <th>Task Winner</th>\n",
       "    </tr>\n",
       "  </thead>\n",
       "  <tbody>\n",
       "    <tr>\n",
       "      <th>0</th>\n",
       "      <td>0</td>\n",
       "      <td>AjKyaUkhada</td>\n",
       "      <td>9/10/2019</td>\n",
       "      <td>Ritual</td>\n",
       "      <td>Consistency</td>\n",
       "      <td>Sonali</td>\n",
       "      <td>0</td>\n",
       "      <td>1.0</td>\n",
       "      <td>1</td>\n",
       "      <td>0</td>\n",
       "    </tr>\n",
       "    <tr>\n",
       "      <th>1</th>\n",
       "      <td>0</td>\n",
       "      <td>Knowledge Sharing</td>\n",
       "      <td>2019-09-10 1:27:50</td>\n",
       "      <td>Ritual</td>\n",
       "      <td>Consistency,Curiosity</td>\n",
       "      <td>Prasoon</td>\n",
       "      <td>0</td>\n",
       "      <td>1.0</td>\n",
       "      <td>1</td>\n",
       "      <td>0</td>\n",
       "    </tr>\n",
       "    <tr>\n",
       "      <th>2</th>\n",
       "      <td>0</td>\n",
       "      <td>AjKyaUkhada</td>\n",
       "      <td>9/10/2019</td>\n",
       "      <td>Ritual</td>\n",
       "      <td>Consistency</td>\n",
       "      <td>Durga</td>\n",
       "      <td>0</td>\n",
       "      <td>1.0</td>\n",
       "      <td>1</td>\n",
       "      <td>0</td>\n",
       "    </tr>\n",
       "    <tr>\n",
       "      <th>3</th>\n",
       "      <td>0</td>\n",
       "      <td>AjKyaUkhada</td>\n",
       "      <td>9/10/2019</td>\n",
       "      <td>Ritual</td>\n",
       "      <td>Consistency</td>\n",
       "      <td>Purbita</td>\n",
       "      <td>0</td>\n",
       "      <td>1.0</td>\n",
       "      <td>1</td>\n",
       "      <td>0</td>\n",
       "    </tr>\n",
       "    <tr>\n",
       "      <th>4</th>\n",
       "      <td>0</td>\n",
       "      <td>AjKyaUkhada</td>\n",
       "      <td>9/10/2019</td>\n",
       "      <td>Ritual</td>\n",
       "      <td>Consistency</td>\n",
       "      <td>Ujjainee</td>\n",
       "      <td>0</td>\n",
       "      <td>1.0</td>\n",
       "      <td>1</td>\n",
       "      <td>0</td>\n",
       "    </tr>\n",
       "  </tbody>\n",
       "</table>\n",
       "</div>"
      ],
      "text/plain": [
       "   id               Task                Date  Module                   Type  \\\n",
       "0   0        AjKyaUkhada           9/10/2019  Ritual            Consistency   \n",
       "1   0  Knowledge Sharing  2019-09-10 1:27:50  Ritual  Consistency,Curiosity   \n",
       "2   0        AjKyaUkhada           9/10/2019  Ritual            Consistency   \n",
       "3   0        AjKyaUkhada           9/10/2019  Ritual            Consistency   \n",
       "4   0        AjKyaUkhada           9/10/2019  Ritual            Consistency   \n",
       "\n",
       "    Student  Late Submission  Points  Total  Task Winner  \n",
       "0    Sonali                0     1.0      1            0  \n",
       "1   Prasoon                0     1.0      1            0  \n",
       "2     Durga                0     1.0      1            0  \n",
       "3   Purbita                0     1.0      1            0  \n",
       "4  Ujjainee                0     1.0      1            0  "
      ]
     },
     "execution_count": 83,
     "metadata": {},
     "output_type": "execute_result"
    }
   ],
   "source": [
    "data_september.head()"
   ]
  },
  {
   "cell_type": "code",
   "execution_count": 84,
   "metadata": {},
   "outputs": [],
   "source": [
    "data=pd.concat([data_july,data_august,data_september])"
   ]
  },
  {
   "cell_type": "code",
   "execution_count": 16,
   "metadata": {},
   "outputs": [
    {
     "data": {
      "text/plain": [
       "(1438, 10)"
      ]
     },
     "execution_count": 16,
     "metadata": {},
     "output_type": "execute_result"
    }
   ],
   "source": [
    "data.shape"
   ]
  },
  {
   "cell_type": "code",
   "execution_count": 17,
   "metadata": {},
   "outputs": [
    {
     "data": {
      "text/plain": [
       "(911, 10)"
      ]
     },
<<<<<<< HEAD
     "execution_count": 17,
=======
     "execution_count": 84,
>>>>>>> 475d98cfe091f021a29e711a58e6466f0f57d4da
     "metadata": {},
     "output_type": "execute_result"
    }
   ],
   "source": [
    "data_august.shape"
   ]
  },
  {
   "cell_type": "code",
<<<<<<< HEAD
   "execution_count": 18,
=======
   "execution_count": 85,
>>>>>>> 475d98cfe091f021a29e711a58e6466f0f57d4da
   "metadata": {},
   "outputs": [
    {
     "data": {
      "text/plain": [
       "Student\n",
       "Kunal       364.5\n",
       "Surabhi     359.0\n",
       "Dipam       358.5\n",
       "Ujjainee    356.0\n",
       "Shakib      353.0\n",
       "Name: Points, dtype: float64"
      ]
     },
<<<<<<< HEAD
     "execution_count": 18,
=======
     "execution_count": 85,
>>>>>>> 475d98cfe091f021a29e711a58e6466f0f57d4da
     "metadata": {},
     "output_type": "execute_result"
    }
   ],
   "source": [
    "data.groupby('Student')['Points'].sum().sort_values(ascending=False).head()"
   ]
  },
  {
   "cell_type": "code",
<<<<<<< HEAD
   "execution_count": 19,
=======
   "execution_count": 86,
>>>>>>> 475d98cfe091f021a29e711a58e6466f0f57d4da
   "metadata": {},
   "outputs": [
    {
     "data": {
      "text/plain": [
       "Index(['id', 'Task', 'Date', 'Module', 'Type', 'Student', 'Late Submission',\n",
       "       'Points', 'Total', 'Task Winner'],\n",
       "      dtype='object')"
      ]
     },
<<<<<<< HEAD
     "execution_count": 19,
=======
     "execution_count": 86,
>>>>>>> 475d98cfe091f021a29e711a58e6466f0f57d4da
     "metadata": {},
     "output_type": "execute_result"
    }
   ],
   "source": [
    "data_august.columns"
   ]
  },
  {
   "cell_type": "code",
<<<<<<< HEAD
   "execution_count": 20,
=======
   "execution_count": 87,
>>>>>>> 475d98cfe091f021a29e711a58e6466f0f57d4da
   "metadata": {},
   "outputs": [],
   "source": [
    "data.fillna({'Student':'No Student'},inplace=True)\n",
    "data.fillna({'Task':'No Task'},inplace=True)\n",
    "data.fillna({'Date':'0'},inplace=True)\n",
    "data.fillna({'Module':'No Module'},inplace=True)\n",
    "data.fillna({'Type':'No Type'},inplace=True)\n",
    "data.fillna({'Late Submission':'0'},inplace=True)\n",
    "data.fillna({'Points':'0.0'},inplace=True)\n",
    "data.fillna({'Total':'0'},inplace=True)\n",
    "data.fillna({'Task Winner':'0'},inplace=True)\n",
    "data.fillna({'id':'0'},inplace=True)"
   ]
  },
  {
   "cell_type": "code",
<<<<<<< HEAD
   "execution_count": 21,
=======
   "execution_count": 88,
>>>>>>> 475d98cfe091f021a29e711a58e6466f0f57d4da
   "metadata": {},
   "outputs": [
    {
     "data": {
      "text/plain": [
       "Index(['id', 'Task', 'Date', 'Module', 'Type', 'Student', 'Late Submission',\n",
       "       'Points', 'Total', 'Task Winner'],\n",
       "      dtype='object')"
      ]
     },
<<<<<<< HEAD
     "execution_count": 21,
=======
     "execution_count": 88,
>>>>>>> 475d98cfe091f021a29e711a58e6466f0f57d4da
     "metadata": {},
     "output_type": "execute_result"
    }
   ],
   "source": [
    "data.columns"
   ]
  },
  {
   "cell_type": "code",
<<<<<<< HEAD
   "execution_count": 22,
=======
   "execution_count": 89,
>>>>>>> 475d98cfe091f021a29e711a58e6466f0f57d4da
   "metadata": {},
   "outputs": [],
   "source": [
    "data['Points']=data['Points'].astype(float)"
   ]
  },
  {
   "cell_type": "code",
<<<<<<< HEAD
   "execution_count": 23,
=======
   "execution_count": 90,
>>>>>>> 475d98cfe091f021a29e711a58e6466f0f57d4da
   "metadata": {},
   "outputs": [],
   "source": [
    "data=data.drop(0)"
   ]
  },
  {
   "cell_type": "code",
<<<<<<< HEAD
   "execution_count": 24,
=======
   "execution_count": 91,
>>>>>>> 475d98cfe091f021a29e711a58e6466f0f57d4da
   "metadata": {},
   "outputs": [
    {
     "name": "stdout",
     "output_type": "stream",
     "text": [
      "<class 'pandas.core.frame.DataFrame'>\n",
      "Int64Index: 1435 entries, 1 to 301\n",
      "Data columns (total 10 columns):\n",
      "id                 1435 non-null int64\n",
      "Task               1435 non-null object\n",
      "Date               1435 non-null object\n",
      "Module             1435 non-null object\n",
      "Type               1435 non-null object\n",
      "Student            1435 non-null object\n",
      "Late Submission    1435 non-null int64\n",
      "Points             1435 non-null float64\n",
      "Total              1435 non-null int64\n",
      "Task Winner        1435 non-null int64\n",
      "dtypes: float64(1), int64(4), object(5)\n",
      "memory usage: 123.3+ KB\n"
     ]
    }
   ],
   "source": [
    "data.info()"
   ]
  },
  {
   "cell_type": "code",
<<<<<<< HEAD
   "execution_count": 25,
=======
   "execution_count": 92,
>>>>>>> 475d98cfe091f021a29e711a58e6466f0f57d4da
   "metadata": {},
   "outputs": [],
   "source": [
    "data_tasks=data[data['id']!=0]"
   ]
  },
  {
   "cell_type": "code",
<<<<<<< HEAD
   "execution_count": 26,
=======
   "execution_count": 93,
>>>>>>> 475d98cfe091f021a29e711a58e6466f0f57d4da
   "metadata": {},
   "outputs": [],
   "source": [
    "data_tasks\n",
    "data_dipam=data_tasks[data_tasks['Student']=='Dipam']  "
   ]
  },
  {
   "cell_type": "code",
<<<<<<< HEAD
   "execution_count": 27,
=======
   "execution_count": 94,
>>>>>>> 475d98cfe091f021a29e711a58e6466f0f57d4da
   "metadata": {},
   "outputs": [],
   "source": [
    "x=data_dipam['Total'].sum()"
   ]
  },
  {
   "cell_type": "code",
<<<<<<< HEAD
   "execution_count": 28,
=======
   "execution_count": 95,
>>>>>>> 475d98cfe091f021a29e711a58e6466f0f57d4da
   "metadata": {},
   "outputs": [],
   "source": [
    "y=data_dipam['Points'].sum()"
   ]
  },
  {
   "cell_type": "code",
<<<<<<< HEAD
   "execution_count": 29,
=======
   "execution_count": 96,
>>>>>>> 475d98cfe091f021a29e711a58e6466f0f57d4da
   "metadata": {},
   "outputs": [],
   "source": [
    "data_dipam_average=(y/x)*100"
   ]
  },
  {
   "cell_type": "code",
<<<<<<< HEAD
   "execution_count": 30,
=======
   "execution_count": 97,
>>>>>>> 475d98cfe091f021a29e711a58e6466f0f57d4da
   "metadata": {},
   "outputs": [
    {
     "data": {
      "text/plain": [
       "82.0754716981132"
      ]
     },
<<<<<<< HEAD
     "execution_count": 30,
=======
     "execution_count": 97,
>>>>>>> 475d98cfe091f021a29e711a58e6466f0f57d4da
     "metadata": {},
     "output_type": "execute_result"
    }
   ],
   "source": [
    "data_dipam_average"
   ]
  },
  {
   "cell_type": "code",
<<<<<<< HEAD
   "execution_count": 31,
=======
   "execution_count": 98,
>>>>>>> 475d98cfe091f021a29e711a58e6466f0f57d4da
   "metadata": {},
   "outputs": [
    {
     "data": {
      "text/plain": [
       "1"
      ]
     },
<<<<<<< HEAD
     "execution_count": 31,
=======
     "execution_count": 98,
>>>>>>> 475d98cfe091f021a29e711a58e6466f0f57d4da
     "metadata": {},
     "output_type": "execute_result"
    }
   ],
   "source": [
    "len(data_dipam[data_dipam['Task Winner']==1])"
   ]
  },
  {
   "cell_type": "code",
<<<<<<< HEAD
   "execution_count": 32,
=======
   "execution_count": 99,
>>>>>>> 475d98cfe091f021a29e711a58e6466f0f57d4da
   "metadata": {},
   "outputs": [],
   "source": [
    "data_profile=data_dipam[data_dipam['Module']=='Profile Building']"
   ]
  },
  {
   "cell_type": "code",
<<<<<<< HEAD
   "execution_count": 33,
=======
   "execution_count": 100,
>>>>>>> 475d98cfe091f021a29e711a58e6466f0f57d4da
   "metadata": {},
   "outputs": [],
   "source": [
    "data_profile_marks=(data_profile['Points'].sum()/data_profile['Total'].sum())*100"
   ]
  },
  {
   "cell_type": "code",
<<<<<<< HEAD
   "execution_count": 34,
=======
   "execution_count": 101,
>>>>>>> 475d98cfe091f021a29e711a58e6466f0f57d4da
   "metadata": {},
   "outputs": [
    {
     "data": {
      "text/plain": [
       "76.47058823529412"
      ]
     },
<<<<<<< HEAD
     "execution_count": 34,
=======
     "execution_count": 101,
>>>>>>> 475d98cfe091f021a29e711a58e6466f0f57d4da
     "metadata": {},
     "output_type": "execute_result"
    }
   ],
   "source": [
    "data_profile_marks"
   ]
  },
  {
   "cell_type": "code",
<<<<<<< HEAD
   "execution_count": 35,
=======
   "execution_count": 102,
>>>>>>> 475d98cfe091f021a29e711a58e6466f0f57d4da
   "metadata": {},
   "outputs": [],
   "source": [
    "data_consistency=data[data['id']==0]"
   ]
  },
  {
   "cell_type": "code",
<<<<<<< HEAD
   "execution_count": 36,
=======
   "execution_count": 103,
>>>>>>> 475d98cfe091f021a29e711a58e6466f0f57d4da
   "metadata": {},
   "outputs": [],
   "source": [
    "data_consistency_dipam=data_consistency[data_consistency['Student']=='Dipam']"
   ]
  },
  {
   "cell_type": "code",
<<<<<<< HEAD
   "execution_count": 37,
=======
   "execution_count": 104,
>>>>>>> 475d98cfe091f021a29e711a58e6466f0f57d4da
   "metadata": {},
   "outputs": [],
   "source": [
    "a=len(data_consistency[data_consistency['Student']=='Dipam'])"
   ]
  },
  {
   "cell_type": "code",
<<<<<<< HEAD
   "execution_count": 38,
=======
   "execution_count": 105,
>>>>>>> 475d98cfe091f021a29e711a58e6466f0f57d4da
   "metadata": {},
   "outputs": [],
   "source": [
    "b=len(data_consistency_dipam[data_consistency_dipam['Task']=='Knowledge Sharing'])"
   ]
  },
  {
   "cell_type": "code",
<<<<<<< HEAD
   "execution_count": 39,
=======
   "execution_count": 106,
>>>>>>> 475d98cfe091f021a29e711a58e6466f0f57d4da
   "metadata": {},
   "outputs": [],
   "source": [
    "knowledge=(b/a)*100"
   ]
  },
  {
   "cell_type": "code",
<<<<<<< HEAD
   "execution_count": 40,
=======
   "execution_count": 107,
>>>>>>> 475d98cfe091f021a29e711a58e6466f0f57d4da
   "metadata": {},
   "outputs": [
    {
     "data": {
      "text/plain": [
       "22.07792207792208"
      ]
     },
<<<<<<< HEAD
     "execution_count": 40,
=======
     "execution_count": 107,
>>>>>>> 475d98cfe091f021a29e711a58e6466f0f57d4da
     "metadata": {},
     "output_type": "execute_result"
    }
   ],
   "source": [
    "knowledge"
   ]
  },
  {
   "cell_type": "code",
<<<<<<< HEAD
   "execution_count": 41,
=======
   "execution_count": 108,
>>>>>>> 475d98cfe091f021a29e711a58e6466f0f57d4da
   "metadata": {},
   "outputs": [
    {
     "name": "stderr",
     "output_type": "stream",
     "text": [
      "C:\\Users\\Shakib\\Anaconda3\\lib\\site-packages\\scipy\\stats\\stats.py:1713: FutureWarning: Using a non-tuple sequence for multidimensional indexing is deprecated; use `arr[tuple(seq)]` instead of `arr[seq]`. In the future this will be interpreted as an array index, `arr[np.array(seq)]`, which will result either in an error or a different result.\n",
      "  return np.add.reduce(sorted[indexer] * weights, axis=axis) / sumval\n"
     ]
    },
    {
     "data": {
      "text/plain": [
<<<<<<< HEAD
       "<matplotlib.axes._subplots.AxesSubplot at 0x1fcbf18cb38>"
      ]
     },
     "execution_count": 41,
=======
       "<matplotlib.axes._subplots.AxesSubplot at 0x1d4c4385470>"
      ]
     },
     "execution_count": 108,
>>>>>>> 475d98cfe091f021a29e711a58e6466f0f57d4da
     "metadata": {},
     "output_type": "execute_result"
    },
    {
     "data": {
      "image/png": "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\n",
      "text/plain": [
       "<Figure size 432x288 with 1 Axes>"
      ]
     },
     "metadata": {
      "needs_background": "light"
     },
     "output_type": "display_data"
    }
   ],
   "source": [
    "i=data_dipam['Points'].values\n",
    "j=data_dipam['Total'].values\n",
    "sns.barplot(x='Points',y='Total',data=data_dipam)"
   ]
  },
  {
   "cell_type": "code",
<<<<<<< HEAD
   "execution_count": 118,
=======
   "execution_count": 109,
>>>>>>> 475d98cfe091f021a29e711a58e6466f0f57d4da
   "metadata": {},
   "outputs": [],
   "source": [
    "def student(name):\n",
    "    data_tasks=data\n",
    "    data_student=data_tasks[data_tasks['Student']==name] \n",
    "    print(\"THE NAME OF THE STUDENT: \",name)\n",
    "    x=data_student['Total'].sum()\n",
    "    print(\"TOTAL MARKS OF THE TASKS: \",x)\n",
    "    y=data_student['Points'].sum()\n",
    "    print(\"THE MARKS OBTAINED BY THE STUDENT: \",y)\n",
    "    average=(y/x)*100\n",
    "    print(\"THE PERCENTAGE: \",average,\"%\")\n",
    "    if(average>=90):\n",
    "        print(\"GRADE: 0 (OUTSTANDING)\")\n",
    "    elif(average>=80):\n",
    "        print(\"GRADE: E (EXCELLENT)\")\n",
    "    elif(average>=70):\n",
    "        print(\"GARDE: A++ (VERY GOOD)\")\n",
    "    elif(average>=60):\n",
    "        print(\"GRADE: A (GOOD)\")\n",
    "    elif(average)>=50:\n",
    "        print(\"GRADE: B (FAIR)\")\n",
    "    elif(average>=40):\n",
    "        print(\"GARDE: C (SATISFACTORY)\")\n",
    "    elif(average>=30):\n",
    "        print(\"GARDE: D (TRY TO IMPROVE)\")\n",
    "    else:\n",
    "        print(\"GRADE: F (FAIL)\")\n",
    "    m=len(data_student[data_student['Task Winner']==1])\n",
    "    print(\"TASK WINNER: \",m,\"times\")\n",
    "    data_profile=data_student[data_student['Module']=='Profile Building']\n",
    "    data_profile_marks=(data_profile['Points'].sum()/data_profile['Total'].sum())*100\n",
    "    print(\"PROFILE BULIDING PERCENTILE: \",data_profile_marks,\"%\")\n",
    "    data_consistency=data[data['id']==0]\n",
    "    data_consistency_student=data_consistency[data_consistency['Student']==name]\n",
    "    a=len(data_consistency[data_consistency['Student']==name])\n",
    "    b=len(data_consistency_student[data_consistency_student['Task']=='Knowledge Sharing'])\n",
    "    knowledge=(b/a)*100\n",
    "    print(\"KNOWLEDGE SHARING PERCENTILE: \",knowledge,\"%\")\n",
    "    print(\"Result Analysis\")\n",
    "    x1=data_student.pivot_table(index='Module',values='Points',aggfunc='sum')\n",
    "    y1=data_student.pivot_table(index='Module',values='Total',aggfunc='sum')\n",
    "    z1=pd.concat([x1,y1],axis=1)\n",
    "    subject_percentile=[x1['Points']/y1['Total']*100]\n",
    "    z1['Percentile']=\" \"\n",
    "    for i in range(len(z1)):\n",
    "        z1['Percentile'][i]=subject_percentile[0][i]\n",
    "    data_highest=data[data['Task Winner']==1]\n",
    "    data_highest=data_highest.drop_duplicates(subset=['Task'],keep='last')\n",
    "    highest_mask=data_highest.pivot_table(index='Module',values='Points',aggfunc='sum')\n",
    "    highest_mask.rename(columns={'Points':'Highest'},inplace=True)\n",
    "    z_total=pd.concat([z1,highest_mask],axis=1)\n",
    "    print(z_total)\n",
    "    print(type(z_total))"
   ]
  },
  {
   "cell_type": "code",
<<<<<<< HEAD
   "execution_count": 119,
=======
   "execution_count": null,
   "metadata": {},
   "outputs": [],
   "source": []
  },
  {
   "cell_type": "code",
   "execution_count": 110,
>>>>>>> 475d98cfe091f021a29e711a58e6466f0f57d4da
   "metadata": {},
   "outputs": [
    {
     "name": "stdout",
     "output_type": "stream",
     "text": [
      "THE NAME OF THE STUDENT:  Shakib\n",
      "TOTAL MARKS OF THE TASKS:  386\n",
      "THE MARKS OBTAINED BY THE STUDENT:  353.0\n",
      "THE PERCENTAGE:  91.45077720207254 %\n",
      "GRADE: 0 (OUTSTANDING)\n",
      "TASK WINNER:  3 times\n",
      "PROFILE BULIDING PERCENTILE:  86.47058823529412 %\n",
      "KNOWLEDGE SHARING PERCENTILE:  13.432835820895523 %\n",
      "Result Analysis\n",
<<<<<<< HEAD
      "                              Points  Total Percentile  Highest\n",
      "Data Analytics                 116.0    125       92.8    118.0\n",
      "Introduction to Data Science    37.5     50         75     41.5\n",
      "Machine Learning                 5.0      5        100      5.0\n",
      "Profile Building                73.5     85    86.4706     79.0\n",
      "Ritual                         121.0    121        100      NaN\n"
=======
      "                              Points  Total  Highest\n",
      "Data Analytics                  25.5   30.0     26.0\n",
      "Introduction to Data Science    37.5   50.0     41.5\n",
      "Machine Learning                 5.0    5.0      5.0\n",
      "Profile Building                83.0   95.0     89.0\n",
      "Ritual                          74.0   74.0      NaN\n",
      "<class 'pandas.core.frame.DataFrame'>\n"
>>>>>>> 475d98cfe091f021a29e711a58e6466f0f57d4da
     ]
    },
    {
     "name": "stderr",
     "output_type": "stream",
     "text": [
<<<<<<< HEAD
      "C:\\Users\\USER\\Anaconda3\\lib\\site-packages\\ipykernel_launcher.py:45: SettingWithCopyWarning: \n",
      "A value is trying to be set on a copy of a slice from a DataFrame\n",
      "\n",
      "See the caveats in the documentation: http://pandas.pydata.org/pandas-docs/stable/indexing.html#indexing-view-versus-copy\n",
      "C:\\Users\\USER\\Anaconda3\\lib\\site-packages\\ipykernel_launcher.py:50: FutureWarning: Sorting because non-concatenation axis is not aligned. A future version\n",
=======
      "C:\\Users\\Shakib\\Anaconda3\\lib\\site-packages\\ipykernel_launcher.py:46: FutureWarning: Sorting because non-concatenation axis is not aligned. A future version\n",
>>>>>>> 475d98cfe091f021a29e711a58e6466f0f57d4da
      "of pandas will change to not sort by default.\n",
      "\n",
      "To accept the future behavior, pass 'sort=False'.\n",
      "\n",
      "To retain the current behavior and silence the warning, pass 'sort=True'.\n",
      "\n"
     ]
    }
   ],
   "source": [
    "student('Shakib')"
   ]
  },
  {
   "cell_type": "code",
<<<<<<< HEAD
   "execution_count": 44,
=======
   "execution_count": 111,
>>>>>>> 475d98cfe091f021a29e711a58e6466f0f57d4da
   "metadata": {},
   "outputs": [
    {
     "name": "stdout",
     "output_type": "stream",
     "text": [
      "THE NAME OF THE STUDENT:  Dipam\n",
      "TOTAL MARKS OF THE TASKS:  406\n",
      "THE MARKS OBTAINED BY THE STUDENT:  358.5\n",
      "THE PERCENTAGE:  88.30049261083744 %\n",
      "GRADE: E (EXCELLENT)\n",
      "TASK WINNER:  1 times\n",
      "PROFILE BULIDING PERCENTILE:  76.47058823529412 %\n",
      "KNOWLEDGE SHARING PERCENTILE:  22.07792207792208 %\n",
      "Result Analysis\n",
      "                              Points  Total  Highest\n",
<<<<<<< HEAD
      "Data Analytics                 115.0    125    118.0\n",
      "Introduction to Data Science    32.5     50     41.5\n",
      "Machine Learning                 5.0      5      5.0\n",
      "Profile Building                65.0     85     79.0\n",
      "Ritual                         141.0    141      NaN\n"
=======
      "Data Analytics                  23.0   30.0     26.0\n",
      "Introduction to Data Science    32.5   50.0     41.5\n",
      "Machine Learning                 5.0    5.0      5.0\n",
      "Profile Building                74.0   95.0     89.0\n",
      "Ritual                          92.0   92.0      NaN\n",
      "<class 'pandas.core.frame.DataFrame'>\n"
>>>>>>> 475d98cfe091f021a29e711a58e6466f0f57d4da
     ]
    },
    {
     "name": "stderr",
     "output_type": "stream",
     "text": [
<<<<<<< HEAD
      "C:\\Users\\USER\\Anaconda3\\lib\\site-packages\\ipykernel_launcher.py:46: FutureWarning: Sorting because non-concatenation axis is not aligned. A future version\n",
=======
      "C:\\Users\\Shakib\\Anaconda3\\lib\\site-packages\\ipykernel_launcher.py:46: FutureWarning: Sorting because non-concatenation axis is not aligned. A future version\n",
>>>>>>> 475d98cfe091f021a29e711a58e6466f0f57d4da
      "of pandas will change to not sort by default.\n",
      "\n",
      "To accept the future behavior, pass 'sort=False'.\n",
      "\n",
      "To retain the current behavior and silence the warning, pass 'sort=True'.\n",
      "\n"
     ]
    }
   ],
   "source": [
    "student('Dipam')"
   ]
  },
  {
   "cell_type": "code",
<<<<<<< HEAD
   "execution_count": 45,
=======
   "execution_count": 112,
>>>>>>> 475d98cfe091f021a29e711a58e6466f0f57d4da
   "metadata": {},
   "outputs": [],
   "source": [
    "data_dipam_full=data[data['Student']=='Dipam']"
   ]
  },
  {
   "cell_type": "code",
<<<<<<< HEAD
   "execution_count": 46,
=======
   "execution_count": 113,
>>>>>>> 475d98cfe091f021a29e711a58e6466f0f57d4da
   "metadata": {},
   "outputs": [],
   "source": [
    "a=data_dipam_full['Module'].value_counts().index.tolist()"
   ]
  },
  {
   "cell_type": "code",
<<<<<<< HEAD
   "execution_count": 47,
=======
   "execution_count": 114,
>>>>>>> 475d98cfe091f021a29e711a58e6466f0f57d4da
   "metadata": {},
   "outputs": [],
   "source": [
    "x=data_dipam_full.pivot_table(index='Module',values='Points',aggfunc='sum')"
   ]
  },
  {
   "cell_type": "code",
<<<<<<< HEAD
   "execution_count": 48,
=======
   "execution_count": 115,
>>>>>>> 475d98cfe091f021a29e711a58e6466f0f57d4da
   "metadata": {},
   "outputs": [],
   "source": [
    "y=data_dipam_full.pivot_table(index='Module',values='Total',aggfunc='sum')"
   ]
  },
  {
   "cell_type": "code",
<<<<<<< HEAD
   "execution_count": 49,
=======
   "execution_count": 116,
>>>>>>> 475d98cfe091f021a29e711a58e6466f0f57d4da
   "metadata": {},
   "outputs": [],
   "source": [
    "z=pd.concat([x,y],axis=1)"
   ]
  },
  {
   "cell_type": "code",
<<<<<<< HEAD
   "execution_count": 95,
=======
   "execution_count": 117,
>>>>>>> 475d98cfe091f021a29e711a58e6466f0f57d4da
   "metadata": {},
   "outputs": [],
   "source": [
    "subject_percentile=[x['Points']/y['Total']*100]"
   ]
  },
  {
   "cell_type": "code",
<<<<<<< HEAD
   "execution_count": 115,
=======
   "execution_count": 118,
>>>>>>> 475d98cfe091f021a29e711a58e6466f0f57d4da
   "metadata": {},
   "outputs": [
    {
     "data": {
      "text/plain": [
       "65.0"
      ]
     },
     "execution_count": 115,
     "metadata": {},
     "output_type": "execute_result"
    }
   ],
   "source": [
    "subject_percentile[0][1]"
   ]
  },
  {
   "cell_type": "code",
   "execution_count": 116,
   "metadata": {},
   "outputs": [
    {
     "name": "stderr",
     "output_type": "stream",
     "text": [
      "C:\\Users\\USER\\Anaconda3\\lib\\site-packages\\ipykernel_launcher.py:3: SettingWithCopyWarning: \n",
      "A value is trying to be set on a copy of a slice from a DataFrame\n",
      "\n",
      "See the caveats in the documentation: http://pandas.pydata.org/pandas-docs/stable/indexing.html#indexing-view-versus-copy\n",
      "  This is separate from the ipykernel package so we can avoid doing imports until\n"
     ]
    }
   ],
   "source": [
    "z['Percentile']=\" \"\n",
    "for i in range(len(z)):\n",
    "    z['Percentile'][i]=subject_percentile[0][i]"
   ]
  },
  {
   "cell_type": "code",
   "execution_count": 117,
   "metadata": {},
   "outputs": [
    {
     "data": {
      "text/html": [
       "<div>\n",
       "<style scoped>\n",
       "    .dataframe tbody tr th:only-of-type {\n",
       "        vertical-align: middle;\n",
       "    }\n",
       "\n",
       "    .dataframe tbody tr th {\n",
       "        vertical-align: top;\n",
       "    }\n",
       "\n",
       "    .dataframe thead th {\n",
       "        text-align: right;\n",
       "    }\n",
       "</style>\n",
       "<table border=\"1\" class=\"dataframe\">\n",
       "  <thead>\n",
       "    <tr style=\"text-align: right;\">\n",
       "      <th></th>\n",
       "      <th>Points</th>\n",
       "      <th>Total</th>\n",
       "      <th>Percentile</th>\n",
       "    </tr>\n",
       "    <tr>\n",
       "      <th>Module</th>\n",
       "      <th></th>\n",
       "      <th></th>\n",
       "      <th></th>\n",
       "    </tr>\n",
       "  </thead>\n",
       "  <tbody>\n",
       "    <tr>\n",
       "      <th>Data Analytics</th>\n",
       "      <td>115.0</td>\n",
       "      <td>125</td>\n",
       "      <td>92</td>\n",
       "    </tr>\n",
       "    <tr>\n",
       "      <th>Introduction to Data Science</th>\n",
       "      <td>32.5</td>\n",
       "      <td>50</td>\n",
       "      <td>65</td>\n",
       "    </tr>\n",
       "    <tr>\n",
       "      <th>Machine Learning</th>\n",
       "      <td>5.0</td>\n",
       "      <td>5</td>\n",
       "      <td>100</td>\n",
       "    </tr>\n",
       "    <tr>\n",
       "      <th>Profile Building</th>\n",
       "      <td>65.0</td>\n",
       "      <td>85</td>\n",
       "      <td>76.4706</td>\n",
       "    </tr>\n",
       "    <tr>\n",
       "      <th>Ritual</th>\n",
       "      <td>141.0</td>\n",
       "      <td>141</td>\n",
       "      <td>100</td>\n",
       "    </tr>\n",
       "  </tbody>\n",
       "</table>\n",
       "</div>"
      ],
      "text/plain": [
       "                              Points  Total Percentile\n",
       "Module                                                \n",
       "Data Analytics                 115.0    125         92\n",
       "Introduction to Data Science    32.5     50         65\n",
       "Machine Learning                 5.0      5        100\n",
       "Profile Building                65.0     85    76.4706\n",
       "Ritual                         141.0    141        100"
      ]
     },
     "execution_count": 117,
     "metadata": {},
     "output_type": "execute_result"
    }
   ],
   "source": [
    "z"
   ]
  },
  {
   "cell_type": "code",
   "execution_count": 121,
   "metadata": {},
   "outputs": [
    {
     "name": "stdout",
     "output_type": "stream",
     "text": [
      "                              Points  Total Percentile\n",
      "Module                                                \n",
      "Data Analytics                 115.0    125         92\n",
      "Introduction to Data Science    32.5     50         65\n",
      "Machine Learning                 5.0      5        100\n",
      "Profile Building                65.0     85    76.4706\n",
      "Ritual                         141.0    141        100\n"
     ]
    }
   ],
   "source": [
    "print(z)"
   ]
  },
  {
   "cell_type": "code",
   "execution_count": 122,
   "metadata": {},
   "outputs": [],
   "source": [
    "data_highest=data[data['Task Winner']==1]\n",
    "data_highest=data_highest.drop_duplicates(subset=['Task'],keep='last')"
   ]
  },
  {
   "cell_type": "code",
   "execution_count": 123,
   "metadata": {},
   "outputs": [],
   "source": [
    "highest_mask=data_highest.pivot_table(index='Module',values='Points',aggfunc='sum')"
   ]
  },
  {
   "cell_type": "code",
   "execution_count": 124,
   "metadata": {},
   "outputs": [
    {
     "data": {
      "text/html": [
       "<div>\n",
       "<style scoped>\n",
       "    .dataframe tbody tr th:only-of-type {\n",
       "        vertical-align: middle;\n",
       "    }\n",
       "\n",
       "    .dataframe tbody tr th {\n",
       "        vertical-align: top;\n",
       "    }\n",
       "\n",
       "    .dataframe thead th {\n",
       "        text-align: right;\n",
       "    }\n",
       "</style>\n",
       "<table border=\"1\" class=\"dataframe\">\n",
       "  <thead>\n",
       "    <tr style=\"text-align: right;\">\n",
       "      <th></th>\n",
       "      <th>Points</th>\n",
       "    </tr>\n",
       "    <tr>\n",
       "      <th>Module</th>\n",
       "      <th></th>\n",
       "    </tr>\n",
       "  </thead>\n",
       "  <tbody>\n",
       "    <tr>\n",
       "      <th>Data Analytics</th>\n",
       "      <td>118.0</td>\n",
       "    </tr>\n",
       "    <tr>\n",
       "      <th>Introduction to Data Science</th>\n",
       "      <td>41.5</td>\n",
       "    </tr>\n",
       "    <tr>\n",
       "      <th>Machine Learning</th>\n",
       "      <td>5.0</td>\n",
       "    </tr>\n",
       "    <tr>\n",
       "      <th>Profile Building</th>\n",
       "      <td>79.0</td>\n",
       "    </tr>\n",
       "  </tbody>\n",
       "</table>\n",
       "</div>"
      ],
      "text/plain": [
       "                              Points\n",
       "Module                              \n",
       "Data Analytics                 118.0\n",
       "Introduction to Data Science    41.5\n",
       "Machine Learning                 5.0\n",
       "Profile Building                79.0"
      ]
     },
     "execution_count": 124,
     "metadata": {},
     "output_type": "execute_result"
    }
   ],
   "source": [
    "highest_mask"
   ]
  },
  {
   "cell_type": "code",
   "execution_count": 125,
   "metadata": {},
   "outputs": [],
   "source": [
    "highest_mask.rename(columns={'Points':'Highest'},inplace=True)"
   ]
  },
  {
   "cell_type": "code",
   "execution_count": 126,
   "metadata": {},
   "outputs": [
    {
     "name": "stderr",
     "output_type": "stream",
     "text": [
      "C:\\Users\\USER\\Anaconda3\\lib\\site-packages\\ipykernel_launcher.py:1: FutureWarning: Sorting because non-concatenation axis is not aligned. A future version\n",
      "of pandas will change to not sort by default.\n",
      "\n",
      "To accept the future behavior, pass 'sort=False'.\n",
      "\n",
      "To retain the current behavior and silence the warning, pass 'sort=True'.\n",
      "\n",
      "  \"\"\"Entry point for launching an IPython kernel.\n"
     ]
    }
   ],
   "source": [
    "z_total=pd.concat([z,highest_mask],axis=1)"
   ]
  },
  {
   "cell_type": "code",
   "execution_count": 127,
   "metadata": {},
   "outputs": [],
   "source": [
    "z_total.to_html('z_total.html')"
   ]
  },
  {
   "cell_type": "code",
   "execution_count": 57,
   "metadata": {},
   "outputs": [],
   "source": [
    "z.to_html('z.html')"
   ]
  },
  {
   "cell_type": "code",
   "execution_count": 58,
   "metadata": {},
   "outputs": [],
   "source": [
    "from datetime import datetime\n",
    "from datetime import date\n",
    "from datetime import time"
   ]
  },
  {
   "cell_type": "code",
   "execution_count": 59,
   "metadata": {},
   "outputs": [
    {
     "name": "stdout",
     "output_type": "stream",
     "text": [
      "THE NAME OF THE STUDENT:  Kunal\n",
      "TOTAL MARKS OF THE TASKS:  388\n",
      "THE MARKS OBTAINED BY THE STUDENT:  364.5\n",
      "THE PERCENTAGE:  93.94329896907216 %\n",
      "GRADE: 0 (OUTSTANDING)\n",
      "TASK WINNER:  4 times\n",
      "PROFILE BULIDING PERCENTILE:  90.58823529411765 %\n",
      "KNOWLEDGE SHARING PERCENTILE:  10.44776119402985 %\n",
      "Result Analysis\n",
      "                              Points  Total  Highest\n",
      "Data Analytics                 117.0    125    118.0\n",
      "Introduction to Data Science    42.5     50     41.5\n",
      "Machine Learning                 5.0      5      5.0\n",
      "Profile Building                77.0     85     79.0\n",
      "Ritual                         123.0    123      NaN\n"
     ]
    },
    {
     "name": "stderr",
     "output_type": "stream",
     "text": [
      "C:\\Users\\USER\\Anaconda3\\lib\\site-packages\\ipykernel_launcher.py:46: FutureWarning: Sorting because non-concatenation axis is not aligned. A future version\n",
      "of pandas will change to not sort by default.\n",
      "\n",
      "To accept the future behavior, pass 'sort=False'.\n",
      "\n",
      "To retain the current behavior and silence the warning, pass 'sort=True'.\n",
      "\n"
     ]
    }
   ],
   "source": [
    "student('Kunal')"
   ]
  },
  {
   "cell_type": "code",
   "execution_count": 60,
   "metadata": {},
   "outputs": [],
   "source": [
    "data_datascience=data[data['Module']=='Introduction to Data Science']"
   ]
  },
  {
   "cell_type": "code",
   "execution_count": 61,
   "metadata": {},
   "outputs": [
    {
     "data": {
      "text/html": [
       "<div>\n",
       "<style scoped>\n",
       "    .dataframe tbody tr th:only-of-type {\n",
       "        vertical-align: middle;\n",
       "    }\n",
       "\n",
       "    .dataframe tbody tr th {\n",
       "        vertical-align: top;\n",
       "    }\n",
       "\n",
       "    .dataframe thead th {\n",
       "        text-align: right;\n",
       "    }\n",
       "</style>\n",
       "<table border=\"1\" class=\"dataframe\">\n",
       "  <thead>\n",
       "    <tr style=\"text-align: right;\">\n",
       "      <th></th>\n",
       "      <th>id</th>\n",
       "      <th>Task</th>\n",
       "      <th>Date</th>\n",
       "      <th>Module</th>\n",
       "      <th>Type</th>\n",
       "      <th>Student</th>\n",
       "      <th>Late Submission</th>\n",
       "      <th>Points</th>\n",
       "      <th>Total</th>\n",
       "      <th>Task Winner</th>\n",
       "    </tr>\n",
       "  </thead>\n",
       "  <tbody>\n",
       "    <tr>\n",
       "      <th>48</th>\n",
       "      <td>2</td>\n",
       "      <td>Blog on Machine Learning and it's impact</td>\n",
       "      <td>7/23/2019</td>\n",
       "      <td>Introduction to Data Science</td>\n",
       "      <td>Knowledge,Understanding,Communication,Analytic...</td>\n",
       "      <td>Purbita</td>\n",
       "      <td>0</td>\n",
       "      <td>20.0</td>\n",
       "      <td>25</td>\n",
       "      <td>1</td>\n",
       "    </tr>\n",
       "    <tr>\n",
       "      <th>155</th>\n",
       "      <td>3</td>\n",
       "      <td>Blog on Different data based job roles</td>\n",
       "      <td>7/30/2019</td>\n",
       "      <td>Introduction to Data Science</td>\n",
       "      <td>Knowledge,Understanding,Communication,Analytic...</td>\n",
       "      <td>Kunal</td>\n",
       "      <td>1</td>\n",
       "      <td>21.5</td>\n",
       "      <td>25</td>\n",
       "      <td>1</td>\n",
       "    </tr>\n",
       "  </tbody>\n",
       "</table>\n",
       "</div>"
      ],
      "text/plain": [
       "     id                                      Task       Date  \\\n",
       "48    2  Blog on Machine Learning and it's impact  7/23/2019   \n",
       "155   3    Blog on Different data based job roles  7/30/2019   \n",
       "\n",
       "                           Module  \\\n",
       "48   Introduction to Data Science   \n",
       "155  Introduction to Data Science   \n",
       "\n",
       "                                                  Type  Student  \\\n",
       "48   Knowledge,Understanding,Communication,Analytic...  Purbita   \n",
       "155  Knowledge,Understanding,Communication,Analytic...    Kunal   \n",
       "\n",
       "     Late Submission  Points  Total  Task Winner  \n",
       "48                 0    20.0     25            1  \n",
       "155                1    21.5     25            1  "
      ]
     },
     "execution_count": 61,
     "metadata": {},
     "output_type": "execute_result"
    }
   ],
   "source": [
    "data_datascience[data_datascience['Task Winner']==1]"
   ]
  },
  {
   "cell_type": "code",
   "execution_count": 62,
   "metadata": {},
   "outputs": [
    {
     "data": {
      "text/plain": [
       "22.0"
      ]
     },
     "execution_count": 62,
     "metadata": {},
     "output_type": "execute_result"
    }
   ],
   "source": [
    "max(data_datascience['Points'])"
   ]
  },
  {
   "cell_type": "code",
   "execution_count": 63,
   "metadata": {},
   "outputs": [
    {
     "data": {
      "text/plain": [
       "22.0"
      ]
     },
     "execution_count": 63,
     "metadata": {},
     "output_type": "execute_result"
    }
   ],
   "source": [
    "max(data_datascience['Points'])"
   ]
  },
  {
   "cell_type": "code",
   "execution_count": 64,
   "metadata": {},
   "outputs": [],
   "source": [
    "highest=[]\n",
    "for i in range(1,15):\n",
    "    highest.append(max(data[data['id']==i]['Points']))"
   ]
  },
  {
   "cell_type": "code",
   "execution_count": 65,
   "metadata": {},
   "outputs": [
    {
     "data": {
      "text/plain": [
       "[9.0,\n",
       " 21.0,\n",
       " 22.0,\n",
       " 13.5,\n",
       " 20.0,\n",
       " 19.0,\n",
       " 10.0,\n",
       " 9.5,\n",
       " 28.5,\n",
       " 5.0,\n",
       " 50.0,\n",
       " 10.0,\n",
       " 15.0,\n",
       " 20.0]"
      ]
     },
     "execution_count": 65,
     "metadata": {},
     "output_type": "execute_result"
    }
   ],
   "source": [
    "highest"
   ]
  },
  {
   "cell_type": "code",
   "execution_count": 66,
   "metadata": {},
   "outputs": [],
   "source": [
    "highest_table=pd.DataFrame(highest)"
   ]
  },
  {
   "cell_type": "code",
   "execution_count": 67,
   "metadata": {},
   "outputs": [
    {
     "name": "stderr",
     "output_type": "stream",
     "text": [
      "C:\\Users\\USER\\Anaconda3\\lib\\site-packages\\ipykernel_launcher.py:3: SettingWithCopyWarning: \n",
      "A value is trying to be set on a copy of a slice from a DataFrame\n",
      "\n",
      "See the caveats in the documentation: http://pandas.pydata.org/pandas-docs/stable/indexing.html#indexing-view-versus-copy\n",
      "  This is separate from the ipykernel package so we can avoid doing imports until\n"
     ]
    }
   ],
   "source": [
    "highest_table['id']=\"\"\n",
    "for i in range(len(highest_table)):\n",
    "    highest_table['id'][i]=i+1"
   ]
  },
  {
   "cell_type": "code",
   "execution_count": 68,
   "metadata": {},
   "outputs": [],
   "source": [
    "highest_table.rename(columns={0:'highest marks'},inplace=True)"
   ]
  },
  {
   "cell_type": "code",
   "execution_count": 91,
   "metadata": {},
   "outputs": [
    {
     "data": {
      "text/html": [
       "<div>\n",
       "<style scoped>\n",
       "    .dataframe tbody tr th:only-of-type {\n",
       "        vertical-align: middle;\n",
       "    }\n",
       "\n",
       "    .dataframe tbody tr th {\n",
       "        vertical-align: top;\n",
       "    }\n",
       "\n",
       "    .dataframe thead th {\n",
       "        text-align: right;\n",
       "    }\n",
       "</style>\n",
       "<table border=\"1\" class=\"dataframe\">\n",
       "  <thead>\n",
       "    <tr style=\"text-align: right;\">\n",
       "      <th></th>\n",
       "      <th>highest marks</th>\n",
       "      <th>id</th>\n",
       "    </tr>\n",
       "  </thead>\n",
       "  <tbody>\n",
       "    <tr>\n",
       "      <th>0</th>\n",
       "      <td>9.0</td>\n",
       "      <td>1</td>\n",
       "    </tr>\n",
       "    <tr>\n",
       "      <th>1</th>\n",
       "      <td>21.0</td>\n",
       "      <td>2</td>\n",
       "    </tr>\n",
       "    <tr>\n",
       "      <th>2</th>\n",
       "      <td>22.0</td>\n",
       "      <td>3</td>\n",
       "    </tr>\n",
       "    <tr>\n",
       "      <th>3</th>\n",
       "      <td>13.5</td>\n",
       "      <td>4</td>\n",
       "    </tr>\n",
       "    <tr>\n",
       "      <th>4</th>\n",
       "      <td>20.0</td>\n",
       "      <td>5</td>\n",
       "    </tr>\n",
       "  </tbody>\n",
       "</table>\n",
       "</div>"
      ],
      "text/plain": [
       "   highest marks id\n",
       "0            9.0  1\n",
       "1           21.0  2\n",
       "2           22.0  3\n",
       "3           13.5  4\n",
       "4           20.0  5"
      ]
     },
     "execution_count": 91,
     "metadata": {},
     "output_type": "execute_result"
    }
   ],
   "source": [
    "highest_table.head()"
   ]
  },
  {
   "cell_type": "code",
<<<<<<< HEAD
   "execution_count": 70,
=======
   "execution_count": 119,
>>>>>>> 475d98cfe091f021a29e711a58e6466f0f57d4da
   "metadata": {},
   "outputs": [],
   "source": [
    "user=pd.read_csv('users - users.csv')"
   ]
  },
  {
   "cell_type": "code",
<<<<<<< HEAD
   "execution_count": 74,
=======
   "execution_count": 120,
>>>>>>> 475d98cfe091f021a29e711a58e6466f0f57d4da
   "metadata": {},
   "outputs": [],
   "source": [
    "def user_info(student):\n",
    "    data=user[user['fname']==student]\n",
    "    print(\"EMAIL: \",data['email'])\n",
    "    print(\"COLLEGE: \",data['college'])\n",
    "    print(\"STREAM: \",data['branch'])\n",
    "    print(\"GITHUB LINK: \",data['github'])"
   ]
  },
  {
   "cell_type": "code",
<<<<<<< HEAD
   "execution_count": 75,
=======
   "execution_count": 121,
>>>>>>> 475d98cfe091f021a29e711a58e6466f0f57d4da
   "metadata": {},
   "outputs": [
    {
     "name": "stdout",
     "output_type": "stream",
     "text": [
      "EMAIL:  5    dipamhazra1999@gmail.com\n",
      "Name: email, dtype: object\n",
      "COLLEGE:  5    St. Thomas' College of Engineering and Technology\n",
      "Name: college, dtype: object\n",
      "STREAM:  5    CSE\n",
      "Name: branch, dtype: object\n",
      "GITHUB LINK:  5    https://github.com/DIPAM9\n",
      "Name: github, dtype: object\n"
     ]
    }
   ],
   "source": [
    "user_info('Dipam')"
   ]
  },
  {
   "cell_type": "code",
   "execution_count": 77,
   "metadata": {},
   "outputs": [
    {
     "name": "stdout",
     "output_type": "stream",
     "text": [
      "THE NAME OF THE STUDENT:  Dipam\n",
      "TOTAL MARKS OF THE TASKS:  406\n",
      "THE MARKS OBTAINED BY THE STUDENT:  358.5\n",
      "THE PERCENTAGE:  88.30049261083744 %\n",
      "GRADE: E (EXCELLENT)\n",
      "TASK WINNER:  1 times\n",
      "PROFILE BULIDING PERCENTILE:  76.47058823529412 %\n",
      "KNOWLEDGE SHARING PERCENTILE:  22.07792207792208 %\n",
      "Result Analysis\n",
      "                              Points  Total  Highest\n",
      "Data Analytics                 115.0    125    118.0\n",
      "Introduction to Data Science    32.5     50     41.5\n",
      "Machine Learning                 5.0      5      5.0\n",
      "Profile Building                65.0     85     79.0\n",
      "Ritual                         141.0    141      NaN\n"
     ]
    },
    {
     "name": "stderr",
     "output_type": "stream",
     "text": [
      "C:\\Users\\USER\\Anaconda3\\lib\\site-packages\\ipykernel_launcher.py:46: FutureWarning: Sorting because non-concatenation axis is not aligned. A future version\n",
      "of pandas will change to not sort by default.\n",
      "\n",
      "To accept the future behavior, pass 'sort=False'.\n",
      "\n",
      "To retain the current behavior and silence the warning, pass 'sort=True'.\n",
      "\n"
     ]
    }
   ],
   "source": [
    "student('Dipam')"
   ]
  },
  {
   "cell_type": "code",
<<<<<<< HEAD
   "execution_count": null,
   "metadata": {},
   "outputs": [],
   "source": []
  },
  {
   "cell_type": "code",
   "execution_count": 81,
=======
   "execution_count": 122,
>>>>>>> 475d98cfe091f021a29e711a58e6466f0f57d4da
   "metadata": {},
   "outputs": [
    {
     "data": {
      "text/html": [
       "<div>\n",
       "<style scoped>\n",
       "    .dataframe tbody tr th:only-of-type {\n",
       "        vertical-align: middle;\n",
       "    }\n",
       "\n",
       "    .dataframe tbody tr th {\n",
       "        vertical-align: top;\n",
       "    }\n",
       "\n",
       "    .dataframe thead th {\n",
       "        text-align: right;\n",
       "    }\n",
       "</style>\n",
       "<table border=\"1\" class=\"dataframe\">\n",
       "  <thead>\n",
       "    <tr style=\"text-align: right;\">\n",
       "      <th></th>\n",
       "      <th>user_id</th>\n",
       "      <th>batch_id</th>\n",
       "      <th>fname</th>\n",
       "      <th>lname</th>\n",
       "      <th>email</th>\n",
       "      <th>password</th>\n",
       "      <th>dp</th>\n",
       "      <th>college</th>\n",
       "      <th>passing_year</th>\n",
       "      <th>branch</th>\n",
       "      <th>github</th>\n",
       "      <th>medium</th>\n",
       "      <th>portfolio</th>\n",
       "      <th>linkedin</th>\n",
       "    </tr>\n",
       "  </thead>\n",
       "  <tbody>\n",
       "    <tr>\n",
       "      <th>0</th>\n",
       "      <td>1</td>\n",
       "      <td>1</td>\n",
       "      <td>Durga</td>\n",
       "      <td>Agarwal</td>\n",
       "      <td>durgaa219@gmail.com</td>\n",
       "      <td>NaN</td>\n",
       "      <td>avatar.jpg</td>\n",
       "      <td>UEM, Kolkata</td>\n",
       "      <td>2021</td>\n",
       "      <td>CSE</td>\n",
       "      <td>https://github.com/durgaag</td>\n",
       "      <td>https://medium.com/@durgaa219</td>\n",
       "      <td>https://sites.google.com/view/durgaag-portfoli...</td>\n",
       "      <td>https://www.linkedin.com/in/durga-agarwal-5282...</td>\n",
       "    </tr>\n",
       "    <tr>\n",
       "      <th>1</th>\n",
       "      <td>2</td>\n",
       "      <td>1</td>\n",
       "      <td>Sharika</td>\n",
       "      <td>Anjum Mondal</td>\n",
       "      <td>sharikaanjumm@gmail.com</td>\n",
       "      <td>NaN</td>\n",
       "      <td>avatar.jpg</td>\n",
       "      <td>Amity University, Kolkata</td>\n",
       "      <td>2022</td>\n",
       "      <td>ECE</td>\n",
       "      <td>https://github.com/sharika-anjum</td>\n",
       "      <td>https://medium.com/@sharikaanjumm</td>\n",
       "      <td>https://sites.google.com/view/sharikas-portfolio</td>\n",
       "      <td>https://www.linkedin.com/in/sharika-anjum-mond...</td>\n",
       "    </tr>\n",
       "    <tr>\n",
       "      <th>2</th>\n",
       "      <td>3</td>\n",
       "      <td>1</td>\n",
       "      <td>Swaastick</td>\n",
       "      <td>Singh</td>\n",
       "      <td>meightpc@gmail.com</td>\n",
       "      <td>NaN</td>\n",
       "      <td>avatar.jpg</td>\n",
       "      <td>Amity University, Kolkata</td>\n",
       "      <td>2022</td>\n",
       "      <td>CSE</td>\n",
       "      <td>https://github.com/mightomi</td>\n",
       "      <td>https://medium.com/@meightpc_14421</td>\n",
       "      <td>https://sites.google.com/view/meight/home</td>\n",
       "      <td>https://www.linkedin.com/in/swaastick/</td>\n",
       "    </tr>\n",
       "    <tr>\n",
       "      <th>3</th>\n",
       "      <td>4</td>\n",
       "      <td>1</td>\n",
       "      <td>Apurwa</td>\n",
       "      <td>Arya</td>\n",
       "      <td>aryaapurwa08@gmail.com</td>\n",
       "      <td>NaN</td>\n",
       "      <td>avatar.jpg</td>\n",
       "      <td>UEM, Kolkata</td>\n",
       "      <td>2021</td>\n",
       "      <td>CSE</td>\n",
       "      <td>https://github.com/aryaapurwa08</td>\n",
       "      <td>https://medium.com/@aryaapurwa08</td>\n",
       "      <td>https://sites.google.com/view/apurwaaryaeportf...</td>\n",
       "      <td>https://www.linkedin.com/in/apurwa-arya-2b9988157</td>\n",
       "    </tr>\n",
       "    <tr>\n",
       "      <th>4</th>\n",
       "      <td>5</td>\n",
       "      <td>1</td>\n",
       "      <td>Purbita</td>\n",
       "      <td>Sur</td>\n",
       "      <td>purbita1998@gmail.com</td>\n",
       "      <td>NaN</td>\n",
       "      <td>avatar.jpg</td>\n",
       "      <td>Amity University, Kolkata</td>\n",
       "      <td>2021</td>\n",
       "      <td>CSE</td>\n",
       "      <td>https://github.com/purbita-sur</td>\n",
       "      <td>https://medium.com/@purbita1998</td>\n",
       "      <td>https://sites.google.com/view/purbitasur/home</td>\n",
       "      <td>https://www.linkedin.com/in/purbita-sur</td>\n",
       "    </tr>\n",
       "  </tbody>\n",
       "</table>\n",
       "</div>"
      ],
      "text/plain": [
       "   user_id  batch_id      fname         lname                    email  \\\n",
       "0        1         1      Durga       Agarwal      durgaa219@gmail.com   \n",
       "1        2         1    Sharika  Anjum Mondal  sharikaanjumm@gmail.com   \n",
       "2        3         1  Swaastick         Singh       meightpc@gmail.com   \n",
       "3        4         1     Apurwa          Arya   aryaapurwa08@gmail.com   \n",
       "4        5         1    Purbita           Sur    purbita1998@gmail.com   \n",
       "\n",
       "   password          dp                    college  passing_year branch  \\\n",
       "0       NaN  avatar.jpg               UEM, Kolkata          2021    CSE   \n",
       "1       NaN  avatar.jpg  Amity University, Kolkata          2022    ECE   \n",
       "2       NaN  avatar.jpg  Amity University, Kolkata          2022    CSE   \n",
       "3       NaN  avatar.jpg               UEM, Kolkata          2021    CSE   \n",
       "4       NaN  avatar.jpg  Amity University, Kolkata          2021    CSE   \n",
       "\n",
       "                             github                              medium  \\\n",
       "0        https://github.com/durgaag       https://medium.com/@durgaa219   \n",
       "1  https://github.com/sharika-anjum   https://medium.com/@sharikaanjumm   \n",
       "2       https://github.com/mightomi  https://medium.com/@meightpc_14421   \n",
       "3   https://github.com/aryaapurwa08    https://medium.com/@aryaapurwa08   \n",
       "4    https://github.com/purbita-sur     https://medium.com/@purbita1998   \n",
       "\n",
       "                                           portfolio  \\\n",
       "0  https://sites.google.com/view/durgaag-portfoli...   \n",
       "1   https://sites.google.com/view/sharikas-portfolio   \n",
       "2          https://sites.google.com/view/meight/home   \n",
       "3  https://sites.google.com/view/apurwaaryaeportf...   \n",
       "4      https://sites.google.com/view/purbitasur/home   \n",
       "\n",
       "                                            linkedin  \n",
       "0  https://www.linkedin.com/in/durga-agarwal-5282...  \n",
       "1  https://www.linkedin.com/in/sharika-anjum-mond...  \n",
       "2             https://www.linkedin.com/in/swaastick/  \n",
       "3  https://www.linkedin.com/in/apurwa-arya-2b9988157  \n",
       "4            https://www.linkedin.com/in/purbita-sur  "
      ]
     },
<<<<<<< HEAD
     "execution_count": 81,
=======
     "execution_count": 122,
>>>>>>> 475d98cfe091f021a29e711a58e6466f0f57d4da
     "metadata": {},
     "output_type": "execute_result"
    }
   ],
   "source": [
    "user.head()"
   ]
  },
  {
   "cell_type": "code",
<<<<<<< HEAD
   "execution_count": 76,
   "metadata": {},
   "outputs": [
    {
=======
   "execution_count": 123,
   "metadata": {},
   "outputs": [
    {
     "name": "stderr",
     "output_type": "stream",
     "text": [
      "C:\\Users\\Shakib\\Anaconda3\\lib\\site-packages\\ipykernel_launcher.py:1: FutureWarning: Sorting because non-concatenation axis is not aligned. A future version\n",
      "of pandas will change to not sort by default.\n",
      "\n",
      "To accept the future behavior, pass 'sort=False'.\n",
      "\n",
      "To retain the current behavior and silence the warning, pass 'sort=True'.\n",
      "\n",
      "  \"\"\"Entry point for launching an IPython kernel.\n"
     ]
    },
    {
>>>>>>> 475d98cfe091f021a29e711a58e6466f0f57d4da
     "data": {
      "text/html": [
       "<div>\n",
       "<style scoped>\n",
       "    .dataframe tbody tr th:only-of-type {\n",
       "        vertical-align: middle;\n",
       "    }\n",
       "\n",
       "    .dataframe tbody tr th {\n",
       "        vertical-align: top;\n",
       "    }\n",
       "\n",
       "    .dataframe thead th {\n",
       "        text-align: right;\n",
       "    }\n",
       "</style>\n",
       "<table border=\"1\" class=\"dataframe\">\n",
       "  <thead>\n",
       "    <tr style=\"text-align: right;\">\n",
       "      <th></th>\n",
<<<<<<< HEAD
       "      <th>id</th>\n",
       "      <th>Task</th>\n",
       "      <th>Date</th>\n",
       "      <th>Module</th>\n",
       "      <th>Type</th>\n",
       "      <th>Student</th>\n",
       "      <th>Late Submission</th>\n",
=======
       "      <th>Subject</th>\n",
>>>>>>> 475d98cfe091f021a29e711a58e6466f0f57d4da
       "      <th>Points</th>\n",
       "      <th>Total</th>\n",
       "      <th>Task Winner</th>\n",
       "    </tr>\n",
       "  </thead>\n",
       "  <tbody>\n",
       "    <tr>\n",
<<<<<<< HEAD
       "      <th>1</th>\n",
       "      <td>1</td>\n",
       "      <td>Linkedin Profile create/update</td>\n",
       "      <td>7/22/2019</td>\n",
       "      <td>Profile Building</td>\n",
       "      <td>Intent, Creativity,Content</td>\n",
       "      <td>Dipam</td>\n",
       "      <td>0</td>\n",
       "      <td>7.0</td>\n",
       "      <td>10</td>\n",
       "      <td>0</td>\n",
       "    </tr>\n",
       "    <tr>\n",
       "      <th>2</th>\n",
       "      <td>1</td>\n",
       "      <td>Linkedin Profile create/update</td>\n",
       "      <td>7/22/2019</td>\n",
       "      <td>Profile Building</td>\n",
       "      <td>Intent, Creativity,Content</td>\n",
       "      <td>Durga</td>\n",
       "      <td>0</td>\n",
       "      <td>6.0</td>\n",
       "      <td>10</td>\n",
       "      <td>0</td>\n",
       "    </tr>\n",
       "    <tr>\n",
       "      <th>3</th>\n",
       "      <td>1</td>\n",
       "      <td>Linkedin Profile create/update</td>\n",
       "      <td>7/22/2019</td>\n",
       "      <td>Profile Building</td>\n",
       "      <td>Intent, Creativity,Content</td>\n",
       "      <td>Kaushal</td>\n",
       "      <td>0</td>\n",
       "      <td>7.0</td>\n",
       "      <td>10</td>\n",
       "      <td>0</td>\n",
       "    </tr>\n",
       "    <tr>\n",
       "      <th>4</th>\n",
       "      <td>1</td>\n",
       "      <td>Linkedin Profile create/update</td>\n",
       "      <td>7/22/2019</td>\n",
       "      <td>Profile Building</td>\n",
       "      <td>Intent, Creativity,Content</td>\n",
       "      <td>Arya</td>\n",
       "      <td>0</td>\n",
       "      <td>6.0</td>\n",
       "      <td>10</td>\n",
       "      <td>0</td>\n",
       "    </tr>\n",
       "    <tr>\n",
       "      <th>5</th>\n",
       "      <td>1</td>\n",
       "      <td>Linkedin Profile create/update</td>\n",
       "      <td>7/22/2019</td>\n",
       "      <td>Profile Building</td>\n",
       "      <td>Intent, Creativity,Content</td>\n",
       "      <td>Kunal</td>\n",
       "      <td>0</td>\n",
       "      <td>8.0</td>\n",
       "      <td>10</td>\n",
       "      <td>0</td>\n",
=======
       "      <th>0</th>\n",
       "      <td>Data Analytics</td>\n",
       "      <td>23.0</td>\n",
       "      <td>30.0</td>\n",
       "      <td>26.0</td>\n",
       "    </tr>\n",
       "    <tr>\n",
       "      <th>1</th>\n",
       "      <td>Introduction to Data Science</td>\n",
       "      <td>32.5</td>\n",
       "      <td>50.0</td>\n",
       "      <td>41.5</td>\n",
       "    </tr>\n",
       "    <tr>\n",
       "      <th>2</th>\n",
       "      <td>Machine Learning</td>\n",
       "      <td>5.0</td>\n",
       "      <td>5.0</td>\n",
       "      <td>5.0</td>\n",
       "    </tr>\n",
       "    <tr>\n",
       "      <th>3</th>\n",
       "      <td>Profile Building</td>\n",
       "      <td>74.0</td>\n",
       "      <td>95.0</td>\n",
       "      <td>89.0</td>\n",
       "    </tr>\n",
       "    <tr>\n",
       "      <th>4</th>\n",
       "      <td>Ritual</td>\n",
       "      <td>92.0</td>\n",
       "      <td>92.0</td>\n",
       "      <td>NaN</td>\n",
>>>>>>> 475d98cfe091f021a29e711a58e6466f0f57d4da
       "    </tr>\n",
       "  </tbody>\n",
       "</table>\n",
       "</div>"
      ],
      "text/plain": [
<<<<<<< HEAD
       "   id                            Task       Date            Module  \\\n",
       "1   1  Linkedin Profile create/update  7/22/2019  Profile Building   \n",
       "2   1  Linkedin Profile create/update  7/22/2019  Profile Building   \n",
       "3   1  Linkedin Profile create/update  7/22/2019  Profile Building   \n",
       "4   1  Linkedin Profile create/update  7/22/2019  Profile Building   \n",
       "5   1  Linkedin Profile create/update  7/22/2019  Profile Building   \n",
       "\n",
       "                         Type  Student  Late Submission  Points  Total  \\\n",
       "1  Intent, Creativity,Content    Dipam                0     7.0     10   \n",
       "2  Intent, Creativity,Content    Durga                0     6.0     10   \n",
       "3  Intent, Creativity,Content  Kaushal                0     7.0     10   \n",
       "4  Intent, Creativity,Content     Arya                0     6.0     10   \n",
       "5  Intent, Creativity,Content    Kunal                0     8.0     10   \n",
       "\n",
       "   Task Winner  \n",
       "1            0  \n",
       "2            0  \n",
       "3            0  \n",
       "4            0  \n",
       "5            0  "
      ]
     },
     "execution_count": 76,
=======
       "                        Subject  Points  Total  Highest\n",
       "0                Data Analytics    23.0   30.0     26.0\n",
       "1  Introduction to Data Science    32.5   50.0     41.5\n",
       "2              Machine Learning     5.0    5.0      5.0\n",
       "3              Profile Building    74.0   95.0     89.0\n",
       "4                        Ritual    92.0   92.0      NaN"
      ]
     },
     "execution_count": 123,
>>>>>>> 475d98cfe091f021a29e711a58e6466f0f57d4da
     "metadata": {},
     "output_type": "execute_result"
    }
   ],
   "source": [
<<<<<<< HEAD
    "data.head()"
=======
    "z_total=pd.concat([z,highest_mask],axis=1)\n",
    "z_total= z_total.reset_index()\n",
    "z_total.rename(columns = {'index':'Subject'},inplace = True)\n",
    "z_total"
>>>>>>> 475d98cfe091f021a29e711a58e6466f0f57d4da
   ]
  },
  {
   "cell_type": "code",
   "execution_count": 129,
   "metadata": {},
   "outputs": [],
   "source": [
    "df=pd.read_html('z_total.html')"
   ]
  },
  {
   "cell_type": "code",
   "execution_count": 137,
   "metadata": {},
   "outputs": [
    {
     "data": {
      "text/plain": [
       "[['Data Analytics', 115.0, 125, 92.0, 118.0],\n",
       " ['Introduction to Data Science', 32.5, 50, 65.0, 41.5],\n",
       " ['Machine Learning', 5.0, 5, 100.0, 5.0],\n",
       " ['Profile Building', 65.0, 85, 76.4706, 79.0],\n",
       " ['Ritual', 141.0, 141, 100.0, nan]]"
      ]
     },
     "execution_count": 137,
     "metadata": {},
     "output_type": "execute_result"
    }
   ],
   "source": [
    "df[0].values.tolist()"
   ]
  },
  {
   "cell_type": "code",
   "execution_count": 80,
   "metadata": {},
   "outputs": [],
   "source": [
    "class info_of_student():\n",
    "   def student(name):\n",
    "    data_tasks=data\n",
    "    data_student=data_tasks[data_tasks['Student']==name] \n",
    "    name=name\n",
    "    college=user[user['fname']==student]['college']\n",
    "    branch=user[user['fname']==student]['branch']\n",
    "    Date=str(today.strftime(\"%d/%m/%Y\"))\n",
    "    Number_of_task_wins=str(len(data_student[data_student['Task Winner']==1]))\n",
    "    total_marks=data_student['Total'].sum()\n",
    "    obtained_marks=data_student['Points'].sum()\n",
    "    average=(obtaied_marks/total_marks)*100\n",
    "    data_profile=data_student[data_student['Module']=='Profile Building']\n",
    "    data_profile_marks=(data_profile['Points'].sum()/data_profile['Total'].sum())*100\n",
    "    profile_building_percentile=data_profile_marks\n",
    "    data_consistency=data[data['id']==0]\n",
    "    data_consistency_student=data_consistency[data_consistency['Student']==name]\n",
    "    a=len(data_consistency[data_consistency['Student']==name])\n",
    "    b=len(data_consistency_student[data_consistency_student['Task']=='Knowledge Sharing'])\n",
    "    knowledge=(b/a)*100\n",
    "    knowledge_sharing_percentile=knowledge\n",
    "    x1=data_student.pivot_table(index='Module',values='Points',aggfunc='sum')\n",
    "    y1=data_student.pivot_table(index='Module',values='Total',aggfunc='sum')\n",
    "    z1=pd.concat([x1,y1],axis=1)\n",
    "    subject_percentile=[x1['Points']/y1['Total']*100]\n",
    "    z1['Percentile']=\" \"\n",
    "    for i in range(len(z1)):\n",
    "        z1['Percentile'][i]=subject_percentile[0][i]\n",
    "    data_highest=data[data['Task Winner']==1]\n",
    "    data_highest=data_highest.drop_duplicates(subset=['Task'],keep='last')\n",
    "    highest_mask=data_highest.pivot_table(index='Module',values='Points',aggfunc='sum')\n",
    "    highest_mask.rename(columns={'Points':'Highest'},inplace=True)\n",
    "    z_total=pd.concat([z1,highest_mask],axis=1)\n",
    "    z_total.to_html('z_total.html')\n",
    "    df=pd.read_html('z_total.html')\n",
    "    Table_elements=df[0].values.tolist()"
   ]
  },
  {
   "cell_type": "markdown",
   "metadata": {},
   "source": [
    "# Shakib"
   ]
  },
  {
   "cell_type": "code",
   "execution_count": 124,
   "metadata": {},
   "outputs": [],
   "source": [
    "from datetime import date\n",
    "today = date.today()\n",
    "#595.27,841.89\n",
    "from reportlab.pdfgen import canvas\n",
    "from reportlab.lib.units import inch\n",
    "from reportlab.lib.pagesizes import A4"
   ]
  },
  {
   "cell_type": "code",
<<<<<<< HEAD
   "execution_count": null,
   "metadata": {},
   "outputs": [],
   "source": []
=======
   "execution_count": 149,
   "metadata": {
    "scrolled": false
   },
   "outputs": [],
   "source": [
    "class info_of_student():\n",
    "    name = \" Md Shakib Mondal hahahaha\"\n",
    "    College = \" GCELT\"\n",
    "    Year = \" First\"\n",
    "    Month = \"September\"\n",
    "    Date = str(today.strftime(\"%d/%m/%Y\"))\n",
    "    Sem = \"Second\"\n",
    "    Number_of_task_wins = str(5)\n",
    "    Rank_among_the_class = str(5)\n",
    "    Number_of_late_submitions = str(5)\n",
    "    Table_elements = [[\"Data Analytics\",30.0,26.0,23.0,89],\n",
    "                      [\"Introduction to Data Science\",30.0,26.0,23.0,89],\n",
    "                      [\"Data Analytics\",30.0,26.0,23.0,89]]"
   ]
>>>>>>> 475d98cfe091f021a29e711a58e6466f0f57d4da
  },
  {
   "cell_type": "code",
   "execution_count": 126,
   "metadata": {},
   "outputs": [],
   "source": [
    "def draw_intro(c,Spacing,info):\n",
    "    c.setFont('Times-Roman',18)\n",
    "    c.drawString(45,680,('NAME:-' + info.name))\n",
    "    c.drawString(45,680-Spacing,'COLLEGE:-'+info.College)\n",
    "    c.drawString(345,680-2*Spacing,'YEAR:-'+info.Year)\n",
    "    c.drawString(45,680-2*Spacing,'MONTH:-'+info.Month)\n",
    "    c.drawString(345,680-3*Spacing,'DATE:-'+info.Date)\n",
    "    c.drawString(45,680-3*Spacing,'SEMISTER:-' + info.Sem)\n",
    "    c.line(35,600,560.27,600)"
   ]
  },
  {
   "cell_type": "code",
   "execution_count": 127,
   "metadata": {},
   "outputs": [],
   "source": [
    "def draw_border(c,m):\n",
    "    c.line(m,m,595.27-m,m)\n",
    "    c.line(m,841.89-m,595.27-m,841.89-m)\n",
    "    c.line(m,m,m,841.89-m)\n",
    "    c.line(595.27-m,m,595.27-m,841.89-m)"
   ]
  },
  {
   "cell_type": "code",
   "execution_count": 153,
   "metadata": {},
   "outputs": [],
   "source": [
    "def draw_table(c):\n",
    "    c.drawInlineImage(image=\"TABLE_MODULES.jpg\",x=45,y=410,width=500,height=180)\n",
    "    c.setFont('Times-Bold',15)\n",
    "    Heading = ['MODULE','Full Marks','Heighest Marks',\"Your Marks\",'Percentyle']\n",
    "    for i in range(len(Heading)):\n",
    "        c.drawCentredString(95+i*100,575,Heading[i])\n",
    "    writing_row = 575\n",
    "    for i in range(len(info.Table_elements)):\n",
    "        for j in range(len(info.Table_elements[i])):\n",
    "            c.drawCentredString(95+j*100,wri)   \n",
    "        writing_row += 20"
   ]
  },
  {
   "cell_type": "code",
   "execution_count": 147,
   "metadata": {},
   "outputs": [],
   "source": [
    "def draw_acknowledgement(c,Spacing,info):\n",
    "    c.setFont('Times-Roman',18)\n",
    "    c.drawString(45,45+4*Spacing,'Number of task wins:-'+info.Number_of_task_wins)\n",
    "    c.drawString(45,45+3*Spacing,'Rank among the class:-'+ info.Rank_among_the_class)\n",
    "    c.drawString(45,45+2*Spacing,'Number of late submitions:-'+ info.Number_of_late_submitions)\n",
    "    c.drawString(45,45+Spacing,'Teacher’s signature:-')\n",
    "    c.drawString(45,45,'Remark:-')\n",
    "    c.line(35,45+5*Spacing,560.27,45+5*Spacing)"
   ]
  },
  {
   "cell_type": "code",
   "execution_count": 154,
   "metadata": {},
   "outputs": [],
   "source": [
    "info = info_of_student\n",
    "c = canvas.Canvas(\"hello.pdf\",bottomup=1,pagesize=A4)\n",
    "draw_border(c,35)\n",
    "draw_border(c,32.5)\n",
    "draw_border(c,30)\n",
    "\n",
    "c.setFont('Times-Bold',33)\n",
    "c.drawCentredString(595.27/2,750,text='CampusX Mentorship Programme')\n",
    "c.setFont('Times-Roman',20)\n",
    "c.drawCentredString(595.27/2,720,text='Machine Learning')\n",
    "draw_intro(c,25,info)\n",
    "draw_table(c)\n",
    "draw_acknowledgement(c,25,info)\n",
    "c.showPage()\n",
    "c.save()"
   ]
  },
  {
   "cell_type": "code",
   "execution_count": null,
   "metadata": {},
   "outputs": [],
   "source": []
  },
  {
   "cell_type": "code",
   "execution_count": null,
   "metadata": {},
   "outputs": [],
   "source": []
  },
  {
   "cell_type": "code",
   "execution_count": null,
   "metadata": {},
   "outputs": [],
   "source": []
  },
  {
   "cell_type": "code",
   "execution_count": null,
   "metadata": {},
   "outputs": [],
   "source": []
  },
  {
   "cell_type": "code",
   "execution_count": null,
   "metadata": {},
   "outputs": [],
   "source": []
  },
  {
   "cell_type": "markdown",
   "metadata": {},
   "source": [
    "# Sushree"
   ]
  },
  {
   "cell_type": "code",
   "execution_count": null,
   "metadata": {},
   "outputs": [],
   "source": []
  },
  {
   "cell_type": "code",
   "execution_count": null,
   "metadata": {},
   "outputs": [],
   "source": []
  },
  {
   "cell_type": "code",
   "execution_count": null,
   "metadata": {},
   "outputs": [],
   "source": []
  },
  {
   "cell_type": "code",
   "execution_count": null,
   "metadata": {},
   "outputs": [],
   "source": []
  },
  {
   "cell_type": "code",
   "execution_count": null,
   "metadata": {},
   "outputs": [],
   "source": []
  },
  {
   "cell_type": "code",
   "execution_count": null,
   "metadata": {},
   "outputs": [],
   "source": []
  }
 ],
 "metadata": {
  "kernelspec": {
   "display_name": "Python 3",
   "language": "python",
   "name": "python3"
  },
  "language_info": {
   "codemirror_mode": {
    "name": "ipython",
    "version": 3
   },
   "file_extension": ".py",
   "mimetype": "text/x-python",
   "name": "python",
   "nbconvert_exporter": "python",
   "pygments_lexer": "ipython3",
   "version": "3.7.1"
  }
 },
 "nbformat": 4,
 "nbformat_minor": 2
}
