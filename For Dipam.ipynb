{
 "cells": [
  {
   "cell_type": "code",
   "execution_count": 9,
   "metadata": {},
   "outputs": [],
   "source": [
    "from datetime import date\n",
    "from datetime import datetime\n",
    "from reportlab.pdfgen import canvas\n",
    "from reportlab.lib.units import inch\n",
    "from reportlab.lib.pagesizes import A4\n",
    "import pandas as pd\n",
    "import numpy as np\n",
    "import openpyxl\n",
    "import requests\n",
    "import seaborn as sns\n",
    "import matplotlib.pyplot as plt\n",
    "from math import pi\n",
    "import os"
   ]
  },
  {
   "cell_type": "code",
   "execution_count": 10,
   "metadata": {},
   "outputs": [],
   "source": [
    "class Main:\n",
    "    def main(self):\n",
    "        self.url = \"https://docs.google.com/spreadsheets/d/1HYjfEe3aCbufbqIXKs0Xz-gfoQNztGhCN1ivx0gZXnc/export?format = xlsx\"    \n",
    "        self.Clone_the_dataset_to_this_machine(self.url)\n",
    "        self.data = self.creat_data(\"Student Gradebook.xlsx\")\n",
    "        self.data = self.Add_Month_column(self.data)\n",
    "        return self.data\n",
    "                \n",
    "    def Clone_the_dataset_to_this_machine(self, url):\n",
    "        a = requests.get(url)\n",
    "        resp = requests.get(url)\n",
    "        output = open('Student Gradebook.xlsx',  'wb')\n",
    "        output.write(resp.content)\n",
    "        output.close()\n",
    "        \n",
    "        \n",
    "    def creat_data(self, file):\n",
    "        wb = openpyxl.load_workbook(file) \n",
    "        Number_of_sheets = len(wb.sheetnames)\n",
    "        for i in range(len(wb.sheetnames)):\n",
    "            try:\n",
    "                data = pd.concat([data,  pd.read_excel(file, sheet_name = i)])\n",
    "            except:\n",
    "                data = pd.read_excel(file, sheet_name = 0)\n",
    "            #print(data.shape)\n",
    "        return data\n",
    "\n",
    "        \n",
    "    def Add_Month_column(self, data):\n",
    "        date_list = []\n",
    "        day_list = []\n",
    "        year_list = []\n",
    "        a = 0\n",
    "        for i in data[\"Date\"]:\n",
    "            try:\n",
    "                date_list.append(i.strftime(\"%B\"))\n",
    "                day_list.append(i.strftime(\"%d\"))\n",
    "                year_list.append(i.strftime(\"%Y\"))\n",
    "                a  += 1\n",
    "            except:\n",
    "                try:\n",
    "                    date_list.append(datetime.strptime(str(i), \"%d/%m/%Y\").strftime(\"%B\"))\n",
    "                    day_list.append(datetime.strptime(str(i), \"%d/%m/%Y\").strftime(\"%d\"))\n",
    "                    year_list.append(datetime.strptime(str(i), \"%d/%m/%Y\").strftime(\"%Y\"))\n",
    "                    a += 1\n",
    "                except:\n",
    "                    print(\"Interrupt in a line number : - \", a, \"which is having a entry of:-\", i)\n",
    "                    break\n",
    "        data[\"Date(only)\"] = day_list\n",
    "        data[\"Month\"] = date_list\n",
    "        data[\"Year\"] = year_list\n",
    "        return data"
   ]
  },
  {
   "cell_type": "code",
   "execution_count": 11,
   "metadata": {},
   "outputs": [],
   "source": [
    "Call = Main()"
   ]
  },
  {
   "cell_type": "code",
   "execution_count": 12,
   "metadata": {},
   "outputs": [],
   "source": [
    "data = Call.main()"
   ]
  },
  {
   "cell_type": "code",
   "execution_count": 13,
   "metadata": {},
   "outputs": [
    {
     "data": {
      "text/html": [
       "<div>\n",
       "<style scoped>\n",
       "    .dataframe tbody tr th:only-of-type {\n",
       "        vertical-align: middle;\n",
       "    }\n",
       "\n",
       "    .dataframe tbody tr th {\n",
       "        vertical-align: top;\n",
       "    }\n",
       "\n",
       "    .dataframe thead th {\n",
       "        text-align: right;\n",
       "    }\n",
       "</style>\n",
       "<table border=\"1\" class=\"dataframe\">\n",
       "  <thead>\n",
       "    <tr style=\"text-align: right;\">\n",
       "      <th></th>\n",
       "      <th>id</th>\n",
       "      <th>Task</th>\n",
       "      <th>Date</th>\n",
       "      <th>Module</th>\n",
       "      <th>Type</th>\n",
       "      <th>Student</th>\n",
       "      <th>Late Submission</th>\n",
       "      <th>Points</th>\n",
       "      <th>Total</th>\n",
       "      <th>Task Winner</th>\n",
       "      <th>Date(only)</th>\n",
       "      <th>Month</th>\n",
       "      <th>Year</th>\n",
       "    </tr>\n",
       "  </thead>\n",
       "  <tbody>\n",
       "    <tr>\n",
       "      <th>0</th>\n",
       "      <td>1</td>\n",
       "      <td>Linkedin Profile create/update</td>\n",
       "      <td>2019-07-22 00:00:00</td>\n",
       "      <td>Profile Building</td>\n",
       "      <td>Intent, Creativity,Content</td>\n",
       "      <td>Chandrima</td>\n",
       "      <td>0</td>\n",
       "      <td>6.0</td>\n",
       "      <td>10</td>\n",
       "      <td>0</td>\n",
       "      <td>22</td>\n",
       "      <td>July</td>\n",
       "      <td>2019</td>\n",
       "    </tr>\n",
       "    <tr>\n",
       "      <th>1</th>\n",
       "      <td>1</td>\n",
       "      <td>Linkedin Profile create/update</td>\n",
       "      <td>2019-07-22 00:00:00</td>\n",
       "      <td>Profile Building</td>\n",
       "      <td>Intent, Creativity,Content</td>\n",
       "      <td>Dipam</td>\n",
       "      <td>0</td>\n",
       "      <td>7.0</td>\n",
       "      <td>10</td>\n",
       "      <td>0</td>\n",
       "      <td>22</td>\n",
       "      <td>July</td>\n",
       "      <td>2019</td>\n",
       "    </tr>\n",
       "    <tr>\n",
       "      <th>2</th>\n",
       "      <td>1</td>\n",
       "      <td>Linkedin Profile create/update</td>\n",
       "      <td>2019-07-22 00:00:00</td>\n",
       "      <td>Profile Building</td>\n",
       "      <td>Intent, Creativity,Content</td>\n",
       "      <td>Durga</td>\n",
       "      <td>0</td>\n",
       "      <td>6.0</td>\n",
       "      <td>10</td>\n",
       "      <td>0</td>\n",
       "      <td>22</td>\n",
       "      <td>July</td>\n",
       "      <td>2019</td>\n",
       "    </tr>\n",
       "    <tr>\n",
       "      <th>3</th>\n",
       "      <td>1</td>\n",
       "      <td>Linkedin Profile create/update</td>\n",
       "      <td>2019-07-22 00:00:00</td>\n",
       "      <td>Profile Building</td>\n",
       "      <td>Intent, Creativity,Content</td>\n",
       "      <td>Kaushal</td>\n",
       "      <td>0</td>\n",
       "      <td>7.0</td>\n",
       "      <td>10</td>\n",
       "      <td>0</td>\n",
       "      <td>22</td>\n",
       "      <td>July</td>\n",
       "      <td>2019</td>\n",
       "    </tr>\n",
       "    <tr>\n",
       "      <th>4</th>\n",
       "      <td>1</td>\n",
       "      <td>Linkedin Profile create/update</td>\n",
       "      <td>2019-07-22 00:00:00</td>\n",
       "      <td>Profile Building</td>\n",
       "      <td>Intent, Creativity,Content</td>\n",
       "      <td>Arya</td>\n",
       "      <td>0</td>\n",
       "      <td>6.0</td>\n",
       "      <td>10</td>\n",
       "      <td>0</td>\n",
       "      <td>22</td>\n",
       "      <td>July</td>\n",
       "      <td>2019</td>\n",
       "    </tr>\n",
       "  </tbody>\n",
       "</table>\n",
       "</div>"
      ],
      "text/plain": [
       "   id                            Task                 Date            Module  \\\n",
       "0   1  Linkedin Profile create/update  2019-07-22 00:00:00  Profile Building   \n",
       "1   1  Linkedin Profile create/update  2019-07-22 00:00:00  Profile Building   \n",
       "2   1  Linkedin Profile create/update  2019-07-22 00:00:00  Profile Building   \n",
       "3   1  Linkedin Profile create/update  2019-07-22 00:00:00  Profile Building   \n",
       "4   1  Linkedin Profile create/update  2019-07-22 00:00:00  Profile Building   \n",
       "\n",
       "                         Type    Student  Late Submission  Points  Total  \\\n",
       "0  Intent, Creativity,Content  Chandrima                0     6.0     10   \n",
       "1  Intent, Creativity,Content      Dipam                0     7.0     10   \n",
       "2  Intent, Creativity,Content      Durga                0     6.0     10   \n",
       "3  Intent, Creativity,Content    Kaushal                0     7.0     10   \n",
       "4  Intent, Creativity,Content       Arya                0     6.0     10   \n",
       "\n",
       "   Task Winner Date(only) Month  Year  \n",
       "0            0         22  July  2019  \n",
       "1            0         22  July  2019  \n",
       "2            0         22  July  2019  \n",
       "3            0         22  July  2019  \n",
       "4            0         22  July  2019  "
      ]
     },
     "execution_count": 13,
     "metadata": {},
     "output_type": "execute_result"
    }
   ],
   "source": [
    "data.head()"
   ]
  },
  {
   "cell_type": "code",
   "execution_count": 14,
   "metadata": {},
   "outputs": [],
   "source": [
    "a=data['Task'].value_counts().index\n",
    "highest=[]\n",
    "for i in a:\n",
    "    highest.append(max(data[data['Task']==i]['Points']))"
   ]
  },
  {
   "cell_type": "code",
   "execution_count": 15,
   "metadata": {},
   "outputs": [],
   "source": [
    "data_highest_table = {'Task':a, 'Highest':highest} \n",
    "data_high=pd.DataFrame(data_highest_table)\n",
    "data=data.merge(data_high, on='Task')"
   ]
  },
  {
   "cell_type": "code",
   "execution_count": 16,
   "metadata": {},
   "outputs": [
    {
     "data": {
      "text/html": [
       "<div>\n",
       "<style scoped>\n",
       "    .dataframe tbody tr th:only-of-type {\n",
       "        vertical-align: middle;\n",
       "    }\n",
       "\n",
       "    .dataframe tbody tr th {\n",
       "        vertical-align: top;\n",
       "    }\n",
       "\n",
       "    .dataframe thead th {\n",
       "        text-align: right;\n",
       "    }\n",
       "</style>\n",
       "<table border=\"1\" class=\"dataframe\">\n",
       "  <thead>\n",
       "    <tr style=\"text-align: right;\">\n",
       "      <th></th>\n",
       "      <th>id</th>\n",
       "      <th>Task</th>\n",
       "      <th>Date</th>\n",
       "      <th>Module</th>\n",
       "      <th>Type</th>\n",
       "      <th>Student</th>\n",
       "      <th>Late Submission</th>\n",
       "      <th>Points</th>\n",
       "      <th>Total</th>\n",
       "      <th>Task Winner</th>\n",
       "      <th>Date(only)</th>\n",
       "      <th>Month</th>\n",
       "      <th>Year</th>\n",
       "      <th>Highest</th>\n",
       "    </tr>\n",
       "  </thead>\n",
       "  <tbody>\n",
       "    <tr>\n",
       "      <th>0</th>\n",
       "      <td>1</td>\n",
       "      <td>Linkedin Profile create/update</td>\n",
       "      <td>2019-07-22 00:00:00</td>\n",
       "      <td>Profile Building</td>\n",
       "      <td>Intent, Creativity,Content</td>\n",
       "      <td>Chandrima</td>\n",
       "      <td>0</td>\n",
       "      <td>6.0</td>\n",
       "      <td>10</td>\n",
       "      <td>0</td>\n",
       "      <td>22</td>\n",
       "      <td>July</td>\n",
       "      <td>2019</td>\n",
       "      <td>9.0</td>\n",
       "    </tr>\n",
       "    <tr>\n",
       "      <th>1</th>\n",
       "      <td>1</td>\n",
       "      <td>Linkedin Profile create/update</td>\n",
       "      <td>2019-07-22 00:00:00</td>\n",
       "      <td>Profile Building</td>\n",
       "      <td>Intent, Creativity,Content</td>\n",
       "      <td>Dipam</td>\n",
       "      <td>0</td>\n",
       "      <td>7.0</td>\n",
       "      <td>10</td>\n",
       "      <td>0</td>\n",
       "      <td>22</td>\n",
       "      <td>July</td>\n",
       "      <td>2019</td>\n",
       "      <td>9.0</td>\n",
       "    </tr>\n",
       "    <tr>\n",
       "      <th>2</th>\n",
       "      <td>1</td>\n",
       "      <td>Linkedin Profile create/update</td>\n",
       "      <td>2019-07-22 00:00:00</td>\n",
       "      <td>Profile Building</td>\n",
       "      <td>Intent, Creativity,Content</td>\n",
       "      <td>Durga</td>\n",
       "      <td>0</td>\n",
       "      <td>6.0</td>\n",
       "      <td>10</td>\n",
       "      <td>0</td>\n",
       "      <td>22</td>\n",
       "      <td>July</td>\n",
       "      <td>2019</td>\n",
       "      <td>9.0</td>\n",
       "    </tr>\n",
       "    <tr>\n",
       "      <th>3</th>\n",
       "      <td>1</td>\n",
       "      <td>Linkedin Profile create/update</td>\n",
       "      <td>2019-07-22 00:00:00</td>\n",
       "      <td>Profile Building</td>\n",
       "      <td>Intent, Creativity,Content</td>\n",
       "      <td>Kaushal</td>\n",
       "      <td>0</td>\n",
       "      <td>7.0</td>\n",
       "      <td>10</td>\n",
       "      <td>0</td>\n",
       "      <td>22</td>\n",
       "      <td>July</td>\n",
       "      <td>2019</td>\n",
       "      <td>9.0</td>\n",
       "    </tr>\n",
       "    <tr>\n",
       "      <th>4</th>\n",
       "      <td>1</td>\n",
       "      <td>Linkedin Profile create/update</td>\n",
       "      <td>2019-07-22 00:00:00</td>\n",
       "      <td>Profile Building</td>\n",
       "      <td>Intent, Creativity,Content</td>\n",
       "      <td>Arya</td>\n",
       "      <td>0</td>\n",
       "      <td>6.0</td>\n",
       "      <td>10</td>\n",
       "      <td>0</td>\n",
       "      <td>22</td>\n",
       "      <td>July</td>\n",
       "      <td>2019</td>\n",
       "      <td>9.0</td>\n",
       "    </tr>\n",
       "  </tbody>\n",
       "</table>\n",
       "</div>"
      ],
      "text/plain": [
       "   id                            Task                 Date            Module  \\\n",
       "0   1  Linkedin Profile create/update  2019-07-22 00:00:00  Profile Building   \n",
       "1   1  Linkedin Profile create/update  2019-07-22 00:00:00  Profile Building   \n",
       "2   1  Linkedin Profile create/update  2019-07-22 00:00:00  Profile Building   \n",
       "3   1  Linkedin Profile create/update  2019-07-22 00:00:00  Profile Building   \n",
       "4   1  Linkedin Profile create/update  2019-07-22 00:00:00  Profile Building   \n",
       "\n",
       "                         Type    Student  Late Submission  Points  Total  \\\n",
       "0  Intent, Creativity,Content  Chandrima                0     6.0     10   \n",
       "1  Intent, Creativity,Content      Dipam                0     7.0     10   \n",
       "2  Intent, Creativity,Content      Durga                0     6.0     10   \n",
       "3  Intent, Creativity,Content    Kaushal                0     7.0     10   \n",
       "4  Intent, Creativity,Content       Arya                0     6.0     10   \n",
       "\n",
       "   Task Winner Date(only) Month  Year  Highest  \n",
       "0            0         22  July  2019      9.0  \n",
       "1            0         22  July  2019      9.0  \n",
       "2            0         22  July  2019      9.0  \n",
       "3            0         22  July  2019      9.0  \n",
       "4            0         22  July  2019      9.0  "
      ]
     },
     "execution_count": 16,
     "metadata": {},
     "output_type": "execute_result"
    }
   ],
   "source": [
    "data.head()"
   ]
  },
  {
   "cell_type": "code",
   "execution_count": null,
   "metadata": {},
   "outputs": [],
   "source": []
  },
  {
   "cell_type": "code",
   "execution_count": null,
   "metadata": {},
   "outputs": [],
   "source": []
  },
  {
   "cell_type": "code",
   "execution_count": 25,
   "metadata": {},
   "outputs": [],
   "source": [
    "name = \"Shakib\"\n",
    "month = \"July\""
   ]
  },
  {
   "cell_type": "code",
   "execution_count": null,
   "metadata": {},
   "outputs": [],
   "source": []
  },
  {
   "cell_type": "code",
   "execution_count": null,
   "metadata": {},
   "outputs": [],
   "source": []
  },
  {
   "cell_type": "code",
   "execution_count": 26,
   "metadata": {},
   "outputs": [
    {
     "data": {
      "text/plain": [
       "'14'"
      ]
     },
     "execution_count": 26,
     "metadata": {},
     "output_type": "execute_result"
    }
   ],
   "source": [
    "def rank_of_the_student(name, month):\n",
    "    data_working=data[data['Month']==month]\n",
    "    data_task=data_working[data_working['Module']!='Ritual']\n",
    "    data_rank=data_task.groupby('Student')['Points'].sum().sort_values(ascending=False).reset_index()\n",
    "    inx=data_rank['Student'].tolist()\n",
    "    i=pd.Index(inx).get_loc(name)\n",
    "    return str(i+1)\n",
    "rank_of_the_student(name, month)"
   ]
  },
  {
   "cell_type": "code",
   "execution_count": 27,
   "metadata": {},
   "outputs": [
    {
     "data": {
      "text/plain": [
       "'0.0'"
      ]
     },
     "execution_count": 27,
     "metadata": {},
     "output_type": "execute_result"
    }
   ],
   "source": [
    "def late_Submition_Ratio(name, month):\n",
    "    data_working=data[data['Month']==month]\n",
    "    data_student=data_working[data_working['Student']==name]\n",
    "    p=len(data_working[data_working['Module']!='Ritual']['Task'].value_counts().index)\n",
    "    q=len(data_student[data_student['Late Submission']==1])\n",
    "    ratio=q/p\n",
    "    return str(ratio)\n",
    "\n",
    "late_Submition_Ratio(name, month)"
   ]
  },
  {
   "cell_type": "code",
   "execution_count": 28,
   "metadata": {},
   "outputs": [
    {
     "data": {
      "text/plain": [
       "'73.33333333333333'"
      ]
     },
     "execution_count": 28,
     "metadata": {},
     "output_type": "execute_result"
    }
   ],
   "source": [
    "def percentage_of_the_student(name, month):\n",
    "    data_working=data[data['Month']==month]\n",
    "    data_student=data_working[data_working['Student']==name]\n",
    "    data_task=data_student[data_student['id']!=0]\n",
    "    a=data_task['Points'].sum()\n",
    "    b=data_task['Total'].sum()\n",
    "    percentage=(a/b)*100\n",
    "    return str(percentage)\n",
    "\n",
    "percentage_of_the_student(name, month)"
   ]
  },
  {
   "cell_type": "code",
   "execution_count": 29,
   "metadata": {},
   "outputs": [
    {
     "data": {
      "text/plain": [
       "'73.33333333333333'"
      ]
     },
     "execution_count": 29,
     "metadata": {},
     "output_type": "execute_result"
    }
   ],
   "source": [
    "def percentile_of_the_student(name, month):\n",
    "    data_working=data[data['Month']==month]\n",
    "    a=int(rank_of_the_student(name, month))\n",
    "    b=len(data['Student'].value_counts().index)\n",
    "    c=((b-a)/b)*100\n",
    "    return str(c)\n",
    "\n",
    "percentage_of_the_student(name, month)"
   ]
  },
  {
   "cell_type": "code",
   "execution_count": 30,
   "metadata": {},
   "outputs": [
    {
     "name": "stderr",
     "output_type": "stream",
     "text": [
      "C:\\Users\\Shakib\\Anaconda3\\lib\\site-packages\\ipykernel_launcher.py:11: SettingWithCopyWarning: \n",
      "A value is trying to be set on a copy of a slice from a DataFrame\n",
      "\n",
      "See the caveats in the documentation: http://pandas.pydata.org/pandas-docs/stable/indexing.html#indexing-view-versus-copy\n",
      "  # This is added back by InteractiveShellApp.init_path()\n"
     ]
    },
    {
     "data": {
      "text/plain": [
       "[['Introduction to Data Science', 37.5, 50, 43.0, 75],\n",
       " ['Profile Building', 17.5, 25, 22.5, 70],\n",
       " ['Ritual', 14.0, 14, 14.0, 100]]"
      ]
     },
     "execution_count": 30,
     "metadata": {},
     "output_type": "execute_result"
    }
   ],
   "source": [
    "def table_Content(name, month):\n",
    "    data_working=data[data['Month']==month]\n",
    "    data_student=data_working[data_working['Student']==name]\n",
    "    x1=data_student.pivot_table(index='Module',values='Points',aggfunc='sum')\n",
    "    y1=data_student.pivot_table(index='Module',values='Total',aggfunc='sum')\n",
    "    w1=data_student.pivot_table(index='Module',values='Highest',aggfunc='sum')\n",
    "    z1=pd.concat([x1,y1,w1],axis=1)\n",
    "    subject_percentile=[x1['Points']/y1['Total']*100]\n",
    "    z1['Percentile']=\" \"\n",
    "    for i in range(len(z1)):\n",
    "        z1['Percentile'][i]=subject_percentile[0][i]\n",
    "    z1.to_html('z_total.html')\n",
    "    df=pd.read_html('z_total.html')\n",
    "    Table_elements=df[0].values.tolist()\n",
    "    return Table_elements\n",
    "\n",
    "table_Content(name, month)"
   ]
  },
  {
   "cell_type": "code",
   "execution_count": 31,
   "metadata": {},
   "outputs": [
    {
     "name": "stderr",
     "output_type": "stream",
     "text": [
      "C:\\Users\\Shakib\\Anaconda3\\lib\\site-packages\\ipykernel_launcher.py:11: SettingWithCopyWarning: \n",
      "A value is trying to be set on a copy of a slice from a DataFrame\n",
      "\n",
      "See the caveats in the documentation: http://pandas.pydata.org/pandas-docs/stable/indexing.html#indexing-view-versus-copy\n",
      "  # This is added back by InteractiveShellApp.init_path()\n"
     ]
    },
    {
     "data": {
      "text/plain": [
       "[69.0, 89, 79.5]"
      ]
     },
     "execution_count": 31,
     "metadata": {},
     "output_type": "execute_result"
    }
   ],
   "source": [
    "def table_summary(name, month):\n",
    "    data_working=data[data['Month']==month]\n",
    "    data_student=data_working[data_working['Student']==name]\n",
    "    x1=data_student.pivot_table(index='Module',values='Points',aggfunc='sum')\n",
    "    y1=data_student.pivot_table(index='Module',values='Total',aggfunc='sum')\n",
    "    w1=data_student.pivot_table(index='Module',values='Highest',aggfunc='sum')\n",
    "    z1=pd.concat([x1,y1,w1],axis=1)\n",
    "    subject_percentile=[x1['Points']/y1['Total']*100]\n",
    "    z1['Percentile']=\" \"\n",
    "    for i in range(len(z1)):\n",
    "        z1['Percentile'][i]=subject_percentile[0][i]\n",
    "    j=z1['Points'].sum()\n",
    "    k=z1['Total'].sum()\n",
    "    l=z1['Highest'].sum()\n",
    "    t=list([j,k,l])\n",
    "    return t\n",
    "\n",
    "table_summary(name, month)"
   ]
  },
  {
   "cell_type": "code",
   "execution_count": 32,
   "metadata": {},
   "outputs": [
    {
     "data": {
      "text/plain": [
       "0"
      ]
     },
     "execution_count": 32,
     "metadata": {},
     "output_type": "execute_result"
    }
   ],
   "source": [
    "def task_win(name, month):\n",
    "    data_working=data[data['Month']==month]\n",
    "    data_student=data_working[data_working['Student']==name]\n",
    "    m=len(data_student[data_student['Task Winner']==1])\n",
    "    return m\n",
    "\n",
    "task_win(name, month)"
   ]
  },
  {
   "cell_type": "code",
   "execution_count": 35,
   "metadata": {},
   "outputs": [
    {
     "data": {
      "text/plain": [
       "Index(['Dipam', 'Surabhi', 'Chandrima', 'Ujjainee', 'Shakib', 'Kunal',\n",
       "       'Purbita', 'Sonali', 'Vishal', 'Siddhishikha', 'Durga', 'Sharika',\n",
       "       'Apurwa', 'Prasoon', 'Kaushal', 'Swaastick', 'Shantanu', 'Bhavna',\n",
       "       'Roumyak', 'Arya', 'Anjali', 'Swaastik', 'Wrick', 'Nitish', 'Sudhanshu',\n",
       "       'Sushree'],\n",
       "      dtype='object')"
      ]
     },
     "execution_count": 35,
     "metadata": {},
     "output_type": "execute_result"
    }
   ],
   "source": [
    "data[\"Student\"].value_counts().index"
   ]
  },
  {
   "cell_type": "code",
   "execution_count": 2,
   "metadata": {},
   "outputs": [
    {
     "data": {
      "text/plain": [
       "\" 'Swaastik', 'Wrick', 'Nitish', 'Sudhanshu','Sushree']\""
      ]
     },
     "execution_count": 2,
     "metadata": {},
     "output_type": "execute_result"
    }
   ],
   "source": [
    "\"\"\" 'Swaastik', 'Wrick', 'Nitish', 'Sudhanshu','Sushree']\"\"\""
   ]
  },
  {
   "cell_type": "code",
   "execution_count": null,
   "metadata": {},
   "outputs": [],
   "source": []
  }
 ],
 "metadata": {
  "kernelspec": {
   "display_name": "Python 3",
   "language": "python",
   "name": "python3"
  },
  "language_info": {
   "codemirror_mode": {
    "name": "ipython",
    "version": 3
   },
   "file_extension": ".py",
   "mimetype": "text/x-python",
   "name": "python",
   "nbconvert_exporter": "python",
   "pygments_lexer": "ipython3",
   "version": "3.7.1"
  }
 },
 "nbformat": 4,
 "nbformat_minor": 2
}
