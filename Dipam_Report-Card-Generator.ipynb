{
 "cells": [
  {
   "cell_type": "markdown",
   "metadata": {},
   "source": [
    "# Dipam"
   ]
  },
  {
   "cell_type": "code",
   "execution_count": 1,
   "metadata": {},
   "outputs": [],
   "source": [
    "import numpy as np\n",
    "import pandas as pd\n",
    "import matplotlib.pyplot as plt\n",
    "%matplotlib inline\n",
    "import seaborn as sns\n",
    "from math import pi"
   ]
  },
  {
   "cell_type": "code",
   "execution_count": 2,
   "metadata": {},
   "outputs": [],
   "source": [
    "#gathering data\n",
    "data=pd.read_csv('Student Gradebook - August.csv')"
   ]
  },
  {
   "cell_type": "code",
   "execution_count": 3,
   "metadata": {},
   "outputs": [
    {
     "data": {
      "text/html": [
       "<div>\n",
       "<style scoped>\n",
       "    .dataframe tbody tr th:only-of-type {\n",
       "        vertical-align: middle;\n",
       "    }\n",
       "\n",
       "    .dataframe tbody tr th {\n",
       "        vertical-align: top;\n",
       "    }\n",
       "\n",
       "    .dataframe thead th {\n",
       "        text-align: right;\n",
       "    }\n",
       "</style>\n",
       "<table border=\"1\" class=\"dataframe\">\n",
       "  <thead>\n",
       "    <tr style=\"text-align: right;\">\n",
       "      <th></th>\n",
       "      <th>id</th>\n",
       "      <th>Task</th>\n",
       "      <th>Date</th>\n",
       "      <th>Module</th>\n",
       "      <th>Type</th>\n",
       "      <th>Student</th>\n",
       "      <th>Late Submission</th>\n",
       "      <th>Points</th>\n",
       "      <th>Total</th>\n",
       "      <th>Task Winner</th>\n",
       "    </tr>\n",
       "  </thead>\n",
       "  <tbody>\n",
       "    <tr>\n",
       "      <th>0</th>\n",
       "      <td>&lt;&lt;&lt;&lt;&lt;&lt;&lt; HEAD</td>\n",
       "      <td>NaN</td>\n",
       "      <td>NaN</td>\n",
       "      <td>NaN</td>\n",
       "      <td>NaN</td>\n",
       "      <td>NaN</td>\n",
       "      <td>NaN</td>\n",
       "      <td>NaN</td>\n",
       "      <td>NaN</td>\n",
       "      <td>NaN</td>\n",
       "    </tr>\n",
       "    <tr>\n",
       "      <th>1</th>\n",
       "      <td>0</td>\n",
       "      <td>AjKyaUkhada</td>\n",
       "      <td>2019-08-01 13:26:57</td>\n",
       "      <td>Ritual</td>\n",
       "      <td>Consistency</td>\n",
       "      <td>Sonali</td>\n",
       "      <td>0.0</td>\n",
       "      <td>2.0</td>\n",
       "      <td>2.0</td>\n",
       "      <td>0.0</td>\n",
       "    </tr>\n",
       "    <tr>\n",
       "      <th>2</th>\n",
       "      <td>0</td>\n",
       "      <td>AjKyaUkhada</td>\n",
       "      <td>2019-08-01 14:40:42</td>\n",
       "      <td>Ritual</td>\n",
       "      <td>Consistency</td>\n",
       "      <td>Chandrima</td>\n",
       "      <td>0.0</td>\n",
       "      <td>2.0</td>\n",
       "      <td>2.0</td>\n",
       "      <td>0.0</td>\n",
       "    </tr>\n",
       "    <tr>\n",
       "      <th>3</th>\n",
       "      <td>0</td>\n",
       "      <td>AjKyaUkhada</td>\n",
       "      <td>2019-08-01 14:44:34</td>\n",
       "      <td>Ritual</td>\n",
       "      <td>Consistency</td>\n",
       "      <td>Purbita</td>\n",
       "      <td>0.0</td>\n",
       "      <td>2.0</td>\n",
       "      <td>2.0</td>\n",
       "      <td>0.0</td>\n",
       "    </tr>\n",
       "    <tr>\n",
       "      <th>4</th>\n",
       "      <td>0</td>\n",
       "      <td>AjKyaUkhada</td>\n",
       "      <td>2019-08-01 14:47:05</td>\n",
       "      <td>Ritual</td>\n",
       "      <td>Consistency</td>\n",
       "      <td>Kunal</td>\n",
       "      <td>0.0</td>\n",
       "      <td>2.0</td>\n",
       "      <td>2.0</td>\n",
       "      <td>0.0</td>\n",
       "    </tr>\n",
       "  </tbody>\n",
       "</table>\n",
       "</div>"
      ],
      "text/plain": [
       "             id         Task                 Date  Module         Type  \\\n",
       "0  <<<<<<< HEAD          NaN                  NaN     NaN          NaN   \n",
       "1             0  AjKyaUkhada  2019-08-01 13:26:57  Ritual  Consistency   \n",
       "2             0  AjKyaUkhada  2019-08-01 14:40:42  Ritual  Consistency   \n",
       "3             0  AjKyaUkhada  2019-08-01 14:44:34  Ritual  Consistency   \n",
       "4             0  AjKyaUkhada  2019-08-01 14:47:05  Ritual  Consistency   \n",
       "\n",
       "     Student  Late Submission  Points  Total  Task Winner  \n",
       "0        NaN              NaN     NaN    NaN          NaN  \n",
       "1     Sonali              0.0     2.0    2.0          0.0  \n",
       "2  Chandrima              0.0     2.0    2.0          0.0  \n",
       "3    Purbita              0.0     2.0    2.0          0.0  \n",
       "4      Kunal              0.0     2.0    2.0          0.0  "
      ]
     },
     "execution_count": 3,
     "metadata": {},
     "output_type": "execute_result"
    }
   ],
   "source": [
    "data.head()"
   ]
  },
  {
   "cell_type": "code",
   "execution_count": 4,
   "metadata": {},
   "outputs": [],
   "source": [
    "data_august=data  #basically to understand that it is the dataset of august"
   ]
  },
  {
   "cell_type": "code",
   "execution_count": 5,
   "metadata": {},
   "outputs": [
    {
     "data": {
      "text/plain": [
       "(1493, 10)"
      ]
     },
     "execution_count": 5,
     "metadata": {},
     "output_type": "execute_result"
    }
   ],
   "source": [
    "data_august.shape   "
   ]
  },
  {
   "cell_type": "code",
   "execution_count": 6,
   "metadata": {},
   "outputs": [],
   "source": [
    "data_july=pd.read_csv('Student Gradebook - July.csv')"
   ]
  },
  {
   "cell_type": "code",
   "execution_count": 7,
   "metadata": {},
   "outputs": [
    {
     "data": {
      "text/html": [
       "<div>\n",
       "<style scoped>\n",
       "    .dataframe tbody tr th:only-of-type {\n",
       "        vertical-align: middle;\n",
       "    }\n",
       "\n",
       "    .dataframe tbody tr th {\n",
       "        vertical-align: top;\n",
       "    }\n",
       "\n",
       "    .dataframe thead th {\n",
       "        text-align: right;\n",
       "    }\n",
       "</style>\n",
       "<table border=\"1\" class=\"dataframe\">\n",
       "  <thead>\n",
       "    <tr style=\"text-align: right;\">\n",
       "      <th></th>\n",
       "      <th>id</th>\n",
       "      <th>Task</th>\n",
       "      <th>Date</th>\n",
       "      <th>Module</th>\n",
       "      <th>Type</th>\n",
       "      <th>Student</th>\n",
       "      <th>Late Submission</th>\n",
       "      <th>Points</th>\n",
       "      <th>Total</th>\n",
       "      <th>Task Winner</th>\n",
       "      <th>...</th>\n",
       "      <th>Unnamed: 13</th>\n",
       "      <th>Unnamed: 14</th>\n",
       "      <th>Unnamed: 15</th>\n",
       "      <th>Unnamed: 16</th>\n",
       "      <th>Unnamed: 17</th>\n",
       "      <th>Unnamed: 18</th>\n",
       "      <th>Unnamed: 19</th>\n",
       "      <th>Unnamed: 20</th>\n",
       "      <th>Unnamed: 21</th>\n",
       "      <th>Unnamed: 22</th>\n",
       "    </tr>\n",
       "  </thead>\n",
       "  <tbody>\n",
       "    <tr>\n",
       "      <th>0</th>\n",
       "      <td>&lt;&lt;&lt;&lt;&lt;&lt;&lt; HEAD</td>\n",
       "      <td>NaN</td>\n",
       "      <td>NaN</td>\n",
       "      <td>NaN</td>\n",
       "      <td>NaN</td>\n",
       "      <td>NaN</td>\n",
       "      <td>NaN</td>\n",
       "      <td>NaN</td>\n",
       "      <td>NaN</td>\n",
       "      <td>NaN</td>\n",
       "      <td>...</td>\n",
       "      <td>NaN</td>\n",
       "      <td>NaN</td>\n",
       "      <td>NaN</td>\n",
       "      <td>NaN</td>\n",
       "      <td>NaN</td>\n",
       "      <td>NaN</td>\n",
       "      <td>NaN</td>\n",
       "      <td>NaN</td>\n",
       "      <td>NaN</td>\n",
       "      <td>NaN</td>\n",
       "    </tr>\n",
       "    <tr>\n",
       "      <th>1</th>\n",
       "      <td>1</td>\n",
       "      <td>Linkedin Profile create/update</td>\n",
       "      <td>7/22/2019</td>\n",
       "      <td>Profile Building</td>\n",
       "      <td>Intent, Creativity,Content</td>\n",
       "      <td>Chandrima</td>\n",
       "      <td>0.0</td>\n",
       "      <td>6.0</td>\n",
       "      <td>10.0</td>\n",
       "      <td>0.0</td>\n",
       "      <td>...</td>\n",
       "      <td>NaN</td>\n",
       "      <td>NaN</td>\n",
       "      <td>NaN</td>\n",
       "      <td>NaN</td>\n",
       "      <td>NaN</td>\n",
       "      <td>NaN</td>\n",
       "      <td>NaN</td>\n",
       "      <td>NaN</td>\n",
       "      <td>NaN</td>\n",
       "      <td>NaN</td>\n",
       "    </tr>\n",
       "    <tr>\n",
       "      <th>2</th>\n",
       "      <td>1</td>\n",
       "      <td>Linkedin Profile create/update</td>\n",
       "      <td>7/22/2019</td>\n",
       "      <td>Profile Building</td>\n",
       "      <td>Intent, Creativity,Content</td>\n",
       "      <td>Dipam</td>\n",
       "      <td>0.0</td>\n",
       "      <td>7.0</td>\n",
       "      <td>10.0</td>\n",
       "      <td>0.0</td>\n",
       "      <td>...</td>\n",
       "      <td>NaN</td>\n",
       "      <td>NaN</td>\n",
       "      <td>NaN</td>\n",
       "      <td>NaN</td>\n",
       "      <td>NaN</td>\n",
       "      <td>NaN</td>\n",
       "      <td>NaN</td>\n",
       "      <td>NaN</td>\n",
       "      <td>NaN</td>\n",
       "      <td>NaN</td>\n",
       "    </tr>\n",
       "    <tr>\n",
       "      <th>3</th>\n",
       "      <td>1</td>\n",
       "      <td>Linkedin Profile create/update</td>\n",
       "      <td>7/22/2019</td>\n",
       "      <td>Profile Building</td>\n",
       "      <td>Intent, Creativity,Content</td>\n",
       "      <td>Durga</td>\n",
       "      <td>0.0</td>\n",
       "      <td>6.0</td>\n",
       "      <td>10.0</td>\n",
       "      <td>0.0</td>\n",
       "      <td>...</td>\n",
       "      <td>NaN</td>\n",
       "      <td>NaN</td>\n",
       "      <td>NaN</td>\n",
       "      <td>NaN</td>\n",
       "      <td>NaN</td>\n",
       "      <td>NaN</td>\n",
       "      <td>NaN</td>\n",
       "      <td>NaN</td>\n",
       "      <td>NaN</td>\n",
       "      <td>NaN</td>\n",
       "    </tr>\n",
       "    <tr>\n",
       "      <th>4</th>\n",
       "      <td>1</td>\n",
       "      <td>Linkedin Profile create/update</td>\n",
       "      <td>7/22/2019</td>\n",
       "      <td>Profile Building</td>\n",
       "      <td>Intent, Creativity,Content</td>\n",
       "      <td>Kaushal</td>\n",
       "      <td>0.0</td>\n",
       "      <td>7.0</td>\n",
       "      <td>10.0</td>\n",
       "      <td>0.0</td>\n",
       "      <td>...</td>\n",
       "      <td>NaN</td>\n",
       "      <td>NaN</td>\n",
       "      <td>NaN</td>\n",
       "      <td>NaN</td>\n",
       "      <td>NaN</td>\n",
       "      <td>NaN</td>\n",
       "      <td>NaN</td>\n",
       "      <td>NaN</td>\n",
       "      <td>NaN</td>\n",
       "      <td>NaN</td>\n",
       "    </tr>\n",
       "  </tbody>\n",
       "</table>\n",
       "<p>5 rows × 23 columns</p>\n",
       "</div>"
      ],
      "text/plain": [
       "             id                            Task       Date            Module  \\\n",
       "0  <<<<<<< HEAD                             NaN        NaN               NaN   \n",
       "1             1  Linkedin Profile create/update  7/22/2019  Profile Building   \n",
       "2             1  Linkedin Profile create/update  7/22/2019  Profile Building   \n",
       "3             1  Linkedin Profile create/update  7/22/2019  Profile Building   \n",
       "4             1  Linkedin Profile create/update  7/22/2019  Profile Building   \n",
       "\n",
       "                         Type    Student  Late Submission  Points  Total  \\\n",
       "0                         NaN        NaN              NaN     NaN    NaN   \n",
       "1  Intent, Creativity,Content  Chandrima              0.0     6.0   10.0   \n",
       "2  Intent, Creativity,Content      Dipam              0.0     7.0   10.0   \n",
       "3  Intent, Creativity,Content      Durga              0.0     6.0   10.0   \n",
       "4  Intent, Creativity,Content    Kaushal              0.0     7.0   10.0   \n",
       "\n",
       "   Task Winner     ...      Unnamed: 13  Unnamed: 14  Unnamed: 15  \\\n",
       "0          NaN     ...              NaN          NaN          NaN   \n",
       "1          0.0     ...              NaN          NaN          NaN   \n",
       "2          0.0     ...              NaN          NaN          NaN   \n",
       "3          0.0     ...              NaN          NaN          NaN   \n",
       "4          0.0     ...              NaN          NaN          NaN   \n",
       "\n",
       "   Unnamed: 16  Unnamed: 17  Unnamed: 18 Unnamed: 19 Unnamed: 20 Unnamed: 21  \\\n",
       "0          NaN          NaN          NaN         NaN         NaN         NaN   \n",
       "1          NaN          NaN          NaN         NaN         NaN         NaN   \n",
       "2          NaN          NaN          NaN         NaN         NaN         NaN   \n",
       "3          NaN          NaN          NaN         NaN         NaN         NaN   \n",
       "4          NaN          NaN          NaN         NaN         NaN         NaN   \n",
       "\n",
       "  Unnamed: 22  \n",
       "0         NaN  \n",
       "1         NaN  \n",
       "2         NaN  \n",
       "3         NaN  \n",
       "4         NaN  \n",
       "\n",
       "[5 rows x 23 columns]"
      ]
     },
     "execution_count": 7,
     "metadata": {},
     "output_type": "execute_result"
    }
   ],
   "source": [
    "data_july.head()"
   ]
  },
  {
   "cell_type": "code",
   "execution_count": 8,
   "metadata": {},
   "outputs": [
    {
     "data": {
      "text/plain": [
       "Index(['id', 'Task', 'Date', 'Module', 'Type', 'Student', 'Late Submission',\n",
       "       'Points', 'Total', 'Task Winner', 'Unnamed: 10', 'Unnamed: 11',\n",
       "       'Unnamed: 12', 'Unnamed: 13', 'Unnamed: 14', 'Unnamed: 15',\n",
       "       'Unnamed: 16', 'Unnamed: 17', 'Unnamed: 18', 'Unnamed: 19',\n",
       "       'Unnamed: 20', 'Unnamed: 21', 'Unnamed: 22'],\n",
       "      dtype='object')"
      ]
     },
     "execution_count": 8,
     "metadata": {},
     "output_type": "execute_result"
    }
   ],
   "source": [
    "data_july.columns"
   ]
  },
  {
   "cell_type": "code",
   "execution_count": 9,
   "metadata": {},
   "outputs": [],
   "source": [
    "#data cleaning\n",
    "data_july.drop(columns=['Unnamed: 10','Unnamed: 11','Unnamed: 12','Unnamed: 13','Unnamed: 14','Unnamed: 15','Unnamed: 16','Unnamed: 17','Unnamed: 18','Unnamed: 19','Unnamed: 20','Unnamed: 21','Unnamed: 22'],inplace=True)"
   ]
  },
  {
   "cell_type": "code",
   "execution_count": 10,
   "metadata": {},
   "outputs": [
    {
     "data": {
      "text/plain": [
       "(430, 10)"
      ]
     },
     "execution_count": 10,
     "metadata": {},
     "output_type": "execute_result"
    }
   ],
   "source": [
    "data_july.shape"
   ]
  },
  {
   "cell_type": "code",
   "execution_count": 11,
   "metadata": {},
   "outputs": [],
   "source": [
    "data_september=pd.read_csv('Student Gradebook - September.csv')"
   ]
  },
  {
   "cell_type": "code",
   "execution_count": 12,
   "metadata": {},
   "outputs": [
    {
     "data": {
      "text/html": [
       "<div>\n",
       "<style scoped>\n",
       "    .dataframe tbody tr th:only-of-type {\n",
       "        vertical-align: middle;\n",
       "    }\n",
       "\n",
       "    .dataframe tbody tr th {\n",
       "        vertical-align: top;\n",
       "    }\n",
       "\n",
       "    .dataframe thead th {\n",
       "        text-align: right;\n",
       "    }\n",
       "</style>\n",
       "<table border=\"1\" class=\"dataframe\">\n",
       "  <thead>\n",
       "    <tr style=\"text-align: right;\">\n",
       "      <th></th>\n",
       "      <th>id</th>\n",
       "      <th>Task</th>\n",
       "      <th>Date</th>\n",
       "      <th>Module</th>\n",
       "      <th>Type</th>\n",
       "      <th>Student</th>\n",
       "      <th>Late Submission</th>\n",
       "      <th>Points</th>\n",
       "      <th>Total</th>\n",
       "      <th>Task Winner</th>\n",
       "    </tr>\n",
       "  </thead>\n",
       "  <tbody>\n",
       "    <tr>\n",
       "      <th>0</th>\n",
       "      <td>0</td>\n",
       "      <td>AjKyaUkhada</td>\n",
       "      <td>9/10/2019</td>\n",
       "      <td>Ritual</td>\n",
       "      <td>Consistency</td>\n",
       "      <td>Sonali</td>\n",
       "      <td>0</td>\n",
       "      <td>1.0</td>\n",
       "      <td>1</td>\n",
       "      <td>0</td>\n",
       "    </tr>\n",
       "    <tr>\n",
       "      <th>1</th>\n",
       "      <td>0</td>\n",
       "      <td>Knowledge Sharing</td>\n",
       "      <td>2019-09-10 1:27:50</td>\n",
       "      <td>Ritual</td>\n",
       "      <td>Consistency,Curiosity</td>\n",
       "      <td>Prasoon</td>\n",
       "      <td>0</td>\n",
       "      <td>1.0</td>\n",
       "      <td>1</td>\n",
       "      <td>0</td>\n",
       "    </tr>\n",
       "    <tr>\n",
       "      <th>2</th>\n",
       "      <td>0</td>\n",
       "      <td>AjKyaUkhada</td>\n",
       "      <td>9/10/2019</td>\n",
       "      <td>Ritual</td>\n",
       "      <td>Consistency</td>\n",
       "      <td>Durga</td>\n",
       "      <td>0</td>\n",
       "      <td>1.0</td>\n",
       "      <td>1</td>\n",
       "      <td>0</td>\n",
       "    </tr>\n",
       "    <tr>\n",
       "      <th>3</th>\n",
       "      <td>0</td>\n",
       "      <td>AjKyaUkhada</td>\n",
       "      <td>9/10/2019</td>\n",
       "      <td>Ritual</td>\n",
       "      <td>Consistency</td>\n",
       "      <td>Purbita</td>\n",
       "      <td>0</td>\n",
       "      <td>1.0</td>\n",
       "      <td>1</td>\n",
       "      <td>0</td>\n",
       "    </tr>\n",
       "    <tr>\n",
       "      <th>4</th>\n",
       "      <td>0</td>\n",
       "      <td>AjKyaUkhada</td>\n",
       "      <td>9/10/2019</td>\n",
       "      <td>Ritual</td>\n",
       "      <td>Consistency</td>\n",
       "      <td>Ujjainee</td>\n",
       "      <td>0</td>\n",
       "      <td>1.0</td>\n",
       "      <td>1</td>\n",
       "      <td>0</td>\n",
       "    </tr>\n",
       "  </tbody>\n",
       "</table>\n",
       "</div>"
      ],
      "text/plain": [
       "   id               Task                Date  Module                   Type  \\\n",
       "0   0        AjKyaUkhada           9/10/2019  Ritual            Consistency   \n",
       "1   0  Knowledge Sharing  2019-09-10 1:27:50  Ritual  Consistency,Curiosity   \n",
       "2   0        AjKyaUkhada           9/10/2019  Ritual            Consistency   \n",
       "3   0        AjKyaUkhada           9/10/2019  Ritual            Consistency   \n",
       "4   0        AjKyaUkhada           9/10/2019  Ritual            Consistency   \n",
       "\n",
       "    Student  Late Submission  Points  Total  Task Winner  \n",
       "0    Sonali                0     1.0      1            0  \n",
       "1   Prasoon                0     1.0      1            0  \n",
       "2     Durga                0     1.0      1            0  \n",
       "3   Purbita                0     1.0      1            0  \n",
       "4  Ujjainee                0     1.0      1            0  "
      ]
     },
     "execution_count": 12,
     "metadata": {},
     "output_type": "execute_result"
    }
   ],
   "source": [
    "data_september.head()"
   ]
  },
  {
   "cell_type": "code",
   "execution_count": 13,
   "metadata": {},
   "outputs": [],
   "source": [
    "data=pd.concat([data_july,data_august,data_september])"
   ]
  },
  {
   "cell_type": "code",
   "execution_count": 14,
   "metadata": {},
   "outputs": [
    {
     "data": {
      "text/plain": [
       "(2225, 10)"
      ]
     },
     "execution_count": 14,
     "metadata": {},
     "output_type": "execute_result"
    }
   ],
   "source": [
    "data.shape"
   ]
  },
  {
   "cell_type": "code",
   "execution_count": 15,
   "metadata": {},
   "outputs": [
    {
     "data": {
      "text/plain": [
       "(1493, 10)"
      ]
     },
     "execution_count": 15,
     "metadata": {},
     "output_type": "execute_result"
    }
   ],
   "source": [
    "data_august.shape"
   ]
  },
  {
   "cell_type": "code",
   "execution_count": 17,
   "metadata": {},
   "outputs": [
    {
     "data": {
      "text/plain": [
       "Index(['id', 'Task', 'Date', 'Module', 'Type', 'Student', 'Late Submission',\n",
       "       'Points', 'Total', 'Task Winner'],\n",
       "      dtype='object')"
      ]
     },
     "execution_count": 17,
     "metadata": {},
     "output_type": "execute_result"
    }
   ],
   "source": [
    "data_august.columns"
   ]
  },
  {
   "cell_type": "code",
   "execution_count": 18,
   "metadata": {},
   "outputs": [],
   "source": [
    "data.fillna({'Student':'No Student'},inplace=True)\n",
    "data.fillna({'Task':'No Task'},inplace=True)\n",
    "data.fillna({'Date':'0'},inplace=True)\n",
    "data.fillna({'Module':'No Module'},inplace=True)\n",
    "data.fillna({'Type':'No Type'},inplace=True)\n",
    "data.fillna({'Late Submission':'0'},inplace=True)\n",
    "data.fillna({'Points':'0.0'},inplace=True)\n",
    "data.fillna({'Total':'0'},inplace=True)\n",
    "data.fillna({'Task Winner':'0'},inplace=True)\n",
    "data.fillna({'id':'0'},inplace=True)"
   ]
  },
  {
   "cell_type": "code",
   "execution_count": 19,
   "metadata": {},
   "outputs": [
    {
     "data": {
      "text/plain": [
       "Index(['id', 'Task', 'Date', 'Module', 'Type', 'Student', 'Late Submission',\n",
       "       'Points', 'Total', 'Task Winner'],\n",
       "      dtype='object')"
      ]
     },
     "execution_count": 19,
     "metadata": {},
     "output_type": "execute_result"
    }
   ],
   "source": [
    "data.columns"
   ]
  },
  {
   "cell_type": "code",
   "execution_count": 20,
   "metadata": {},
   "outputs": [],
   "source": [
    "data['Points']=data['Points'].astype(float)"
   ]
  },
  {
   "cell_type": "code",
   "execution_count": 21,
   "metadata": {},
   "outputs": [],
   "source": [
    "data=data.drop(0)\n",
    "data=data.drop([299,429,1492])\n",
    "data=data.drop([151,376,912])\n",
    "data=data.drop([316])"
   ]
  },
  {
   "cell_type": "code",
   "execution_count": 22,
   "metadata": {},
   "outputs": [
    {
     "name": "stdout",
     "output_type": "stream",
     "text": [
      "<class 'pandas.core.frame.DataFrame'>\n",
      "Int64Index: 2208 entries, 1 to 301\n",
      "Data columns (total 10 columns):\n",
      "id                 2208 non-null object\n",
      "Task               2208 non-null object\n",
      "Date               2208 non-null object\n",
      "Module             2208 non-null object\n",
      "Type               2208 non-null object\n",
      "Student            2208 non-null object\n",
      "Late Submission    2208 non-null object\n",
      "Points             2208 non-null float64\n",
      "Total              2208 non-null object\n",
      "Task Winner        2208 non-null object\n",
      "dtypes: float64(1), object(9)\n",
      "memory usage: 189.8+ KB\n"
     ]
    }
   ],
   "source": [
    "data.info()"
   ]
  },
  {
   "cell_type": "code",
   "execution_count": 23,
   "metadata": {},
   "outputs": [],
   "source": [
    "a=data['Task'].value_counts().index\n",
    "highest=[]\n",
    "for i in a:\n",
    "    highest.append(max(data[data['Task']==i]['Points']))"
   ]
  },
  {
   "cell_type": "code",
   "execution_count": 25,
   "metadata": {},
   "outputs": [],
   "source": [
    "data_highest_table = {'Task':a, 'Highest':highest} \n",
    "data_high=pd.DataFrame(data_highest_table)\n",
    "data=data.merge(data_high, on='Task')"
   ]
  },
  {
   "cell_type": "markdown",
   "metadata": {},
   "source": [
    "# creating a function where we have entered the name of the student "
   ]
  },
  {
   "cell_type": "code",
   "execution_count": 27,
   "metadata": {},
   "outputs": [],
   "source": [
    "def student(name):\n",
    "    data_tasks=data\n",
    "    data_student=data_tasks[data_tasks['Student']==name] \n",
    "    print(\"THE NAME OF THE STUDENT: \",name)\n",
    "    x=data_student['Total'].sum()\n",
    "    print(\"TOTAL MARKS OF THE TASKS: \",x)\n",
    "    y=data_student['Points'].sum()\n",
    "    print(\"THE MARKS OBTAINED BY THE STUDENT: \",y)\n",
    "    average=(y/x)*100\n",
    "    print(\"THE PERCENTAGE: \",average,\"%\")\n",
    "    if(average>=90):\n",
    "        print(\"GRADE: 0 (OUTSTANDING)\")\n",
    "    elif(average>=80):\n",
    "        print(\"GRADE: E (EXCELLENT)\")\n",
    "    elif(average>=70):\n",
    "        print(\"GARDE: A++ (VERY GOOD)\")\n",
    "    elif(average>=60):\n",
    "        print(\"GRADE: A (GOOD)\")\n",
    "    elif(average)>=50:\n",
    "        print(\"GRADE: B (FAIR)\")\n",
    "    elif(average>=40):\n",
    "        print(\"GARDE: C (SATISFACTORY)\")\n",
    "    elif(average>=30):\n",
    "        print(\"GARDE: D (TRY TO IMPROVE)\")\n",
    "    else:\n",
    "        print(\"GRADE: F (FAIL)\")\n",
    "    m=len(data_student[data_student['Task Winner']==1])\n",
    "    print(\"TASK WINNER: \",m,\"times\")\n",
    "    data_profile=data_student[data_student['Module']=='Profile Building']\n",
    "    data_profile_marks=(data_profile['Points'].sum()/data_profile['Total'].sum())*100\n",
    "    print(\"PROFILE BULIDING PERCENTILE: \",data_profile_marks,\"%\")\n",
    "    data_consistency=data[data['id']==0]\n",
    "    data_consistency_student=data_consistency[data_consistency['Student']==name]\n",
    "    a=len(data_consistency[data_consistency['Student']==name])\n",
    "    b=len(data_consistency_student[data_consistency_student['Task']=='Knowledge Sharing'])\n",
    "    knowledge=(b/a)*100\n",
    "    print(\"KNOWLEDGE SHARING PERCENTILE: \",knowledge,\"%\")\n",
    "    print(\"Result Analysis\")\n",
    "    x1=data_student.pivot_table(index='Module',values='Points',aggfunc='sum')\n",
    "    y1=data_student.pivot_table(index='Module',values='Total',aggfunc='sum')\n",
    "    w1=data_student.pivot_table(index='Module',values='Highest',aggfunc='sum')\n",
    "    z1=pd.concat([x1,y1,w1],axis=1)\n",
    "    subject_percentile=[x1['Points']/y1['Total']*100]\n",
    "    z1['Percentile']=\" \"\n",
    "    for i in range(len(z1)):\n",
    "        z1['Percentile'][i]=subject_percentile[0][i]\n",
    "    print(z1)"
   ]
  },
  {
   "cell_type": "code",
   "execution_count": 28,
   "metadata": {},
   "outputs": [
    {
     "name": "stdout",
     "output_type": "stream",
     "text": [
      "THE NAME OF THE STUDENT:  Shakib\n",
      "TOTAL MARKS OF THE TASKS:  612.0\n",
      "THE MARKS OBTAINED BY THE STUDENT:  555.0\n",
      "THE PERCENTAGE:  90.68627450980392 %\n",
      "GRADE: 0 (OUTSTANDING)\n",
      "TASK WINNER:  6 times\n",
      "PROFILE BULIDING PERCENTILE:  86.94444444444444 %\n",
      "KNOWLEDGE SHARING PERCENTILE:  16.666666666666664 %\n",
      "Result Analysis\n",
      "                              Points  Total  Highest Percentile\n",
      "Module                                                         \n",
      "Data Analytics                 141.5  155.0    152.0    91.2903\n",
      "Introduction to Data Science    55.0   75.0     64.0    73.3333\n",
      "Machine Learning                10.0   10.0     10.0        100\n",
      "Profile Building               156.5  180.0    171.5    86.9444\n",
      "Ritual                         192.0  192.0    237.0        100\n"
     ]
    },
    {
     "name": "stderr",
     "output_type": "stream",
     "text": [
      "C:\\Users\\USER\\Anaconda3\\lib\\site-packages\\ipykernel_launcher.py:46: SettingWithCopyWarning: \n",
      "A value is trying to be set on a copy of a slice from a DataFrame\n",
      "\n",
      "See the caveats in the documentation: http://pandas.pydata.org/pandas-docs/stable/indexing.html#indexing-view-versus-copy\n"
     ]
    }
   ],
   "source": [
    "student('Shakib')"
   ]
  },
  {
   "cell_type": "code",
   "execution_count": 29,
   "metadata": {},
   "outputs": [
    {
     "name": "stdout",
     "output_type": "stream",
     "text": [
      "THE NAME OF THE STUDENT:  Dipam\n",
      "TOTAL MARKS OF THE TASKS:  653.0\n",
      "THE MARKS OBTAINED BY THE STUDENT:  568.5\n",
      "THE PERCENTAGE:  87.05972434915773 %\n",
      "GRADE: E (EXCELLENT)\n",
      "TASK WINNER:  2 times\n",
      "PROFILE BULIDING PERCENTILE:  77.22222222222223 %\n",
      "KNOWLEDGE SHARING PERCENTILE:  15.384615384615385 %\n",
      "Result Analysis\n",
      "                              Points  Total  Highest Percentile\n",
      "Module                                                         \n",
      "Data Analytics                 138.0  155.0    152.0    89.0323\n",
      "Introduction to Data Science    48.5   75.0     64.0    64.6667\n",
      "Machine Learning                10.0   10.0     10.0        100\n",
      "Profile Building               139.0  180.0    171.5    77.2222\n",
      "Ritual                         233.0  233.0    312.0        100\n"
     ]
    },
    {
     "name": "stderr",
     "output_type": "stream",
     "text": [
      "C:\\Users\\USER\\Anaconda3\\lib\\site-packages\\ipykernel_launcher.py:46: SettingWithCopyWarning: \n",
      "A value is trying to be set on a copy of a slice from a DataFrame\n",
      "\n",
      "See the caveats in the documentation: http://pandas.pydata.org/pandas-docs/stable/indexing.html#indexing-view-versus-copy\n"
     ]
    }
   ],
   "source": [
    "student('Dipam')"
   ]
  },
  {
   "cell_type": "code",
   "execution_count": 31,
   "metadata": {},
   "outputs": [],
   "source": [
    "data_dipam_full=data[data['Student']=='Dipam']"
   ]
  },
  {
   "cell_type": "code",
   "execution_count": 32,
   "metadata": {},
   "outputs": [],
   "source": [
    "a=data_dipam_full['Module'].value_counts().index.tolist()"
   ]
  },
  {
   "cell_type": "code",
   "execution_count": 33,
   "metadata": {},
   "outputs": [],
   "source": [
    "x=data_dipam_full.pivot_table(index='Module',values='Points',aggfunc='sum')"
   ]
  },
  {
   "cell_type": "code",
   "execution_count": 34,
   "metadata": {},
   "outputs": [],
   "source": [
    "y=data_dipam_full.pivot_table(index='Module',values='Total',aggfunc='sum')"
   ]
  },
  {
   "cell_type": "code",
   "execution_count": 43,
   "metadata": {},
   "outputs": [],
   "source": [
    "w=data_dipam_full.pivot_table(index='Module',values='Highest',aggfunc='sum')"
   ]
  },
  {
   "cell_type": "code",
   "execution_count": 44,
   "metadata": {},
   "outputs": [],
   "source": [
    "z=pd.concat([x,y,w],axis=1)"
   ]
  },
  {
   "cell_type": "code",
   "execution_count": 45,
   "metadata": {},
   "outputs": [],
   "source": [
    "subject_percentile=[x['Points']/y['Total']*100]"
   ]
  },
  {
   "cell_type": "code",
   "execution_count": 46,
   "metadata": {},
   "outputs": [
    {
     "data": {
      "text/plain": [
       "64.66666666666666"
      ]
     },
     "execution_count": 46,
     "metadata": {},
     "output_type": "execute_result"
    }
   ],
   "source": [
    "subject_percentile[0][1]"
   ]
  },
  {
   "cell_type": "code",
   "execution_count": 47,
   "metadata": {},
   "outputs": [
    {
     "name": "stderr",
     "output_type": "stream",
     "text": [
      "C:\\Users\\USER\\Anaconda3\\lib\\site-packages\\ipykernel_launcher.py:3: SettingWithCopyWarning: \n",
      "A value is trying to be set on a copy of a slice from a DataFrame\n",
      "\n",
      "See the caveats in the documentation: http://pandas.pydata.org/pandas-docs/stable/indexing.html#indexing-view-versus-copy\n",
      "  This is separate from the ipykernel package so we can avoid doing imports until\n"
     ]
    }
   ],
   "source": [
    "z['Percentile']=\" \"\n",
    "for i in range(len(z)):\n",
    "    z['Percentile'][i]=subject_percentile[0][i]"
   ]
  },
  {
   "cell_type": "code",
   "execution_count": 48,
   "metadata": {},
   "outputs": [
    {
     "data": {
      "text/html": [
       "<div>\n",
       "<style scoped>\n",
       "    .dataframe tbody tr th:only-of-type {\n",
       "        vertical-align: middle;\n",
       "    }\n",
       "\n",
       "    .dataframe tbody tr th {\n",
       "        vertical-align: top;\n",
       "    }\n",
       "\n",
       "    .dataframe thead th {\n",
       "        text-align: right;\n",
       "    }\n",
       "</style>\n",
       "<table border=\"1\" class=\"dataframe\">\n",
       "  <thead>\n",
       "    <tr style=\"text-align: right;\">\n",
       "      <th></th>\n",
       "      <th>Points</th>\n",
       "      <th>Total</th>\n",
       "      <th>Highest</th>\n",
       "      <th>Percentile</th>\n",
       "    </tr>\n",
       "    <tr>\n",
       "      <th>Module</th>\n",
       "      <th></th>\n",
       "      <th></th>\n",
       "      <th></th>\n",
       "      <th></th>\n",
       "    </tr>\n",
       "  </thead>\n",
       "  <tbody>\n",
       "    <tr>\n",
       "      <th>Data Analytics</th>\n",
       "      <td>138.0</td>\n",
       "      <td>155.0</td>\n",
       "      <td>152.0</td>\n",
       "      <td>89.0323</td>\n",
       "    </tr>\n",
       "    <tr>\n",
       "      <th>Introduction to Data Science</th>\n",
       "      <td>48.5</td>\n",
       "      <td>75.0</td>\n",
       "      <td>64.0</td>\n",
       "      <td>64.6667</td>\n",
       "    </tr>\n",
       "    <tr>\n",
       "      <th>Machine Learning</th>\n",
       "      <td>10.0</td>\n",
       "      <td>10.0</td>\n",
       "      <td>10.0</td>\n",
       "      <td>100</td>\n",
       "    </tr>\n",
       "    <tr>\n",
       "      <th>Profile Building</th>\n",
       "      <td>139.0</td>\n",
       "      <td>180.0</td>\n",
       "      <td>171.5</td>\n",
       "      <td>77.2222</td>\n",
       "    </tr>\n",
       "    <tr>\n",
       "      <th>Ritual</th>\n",
       "      <td>233.0</td>\n",
       "      <td>233.0</td>\n",
       "      <td>312.0</td>\n",
       "      <td>100</td>\n",
       "    </tr>\n",
       "  </tbody>\n",
       "</table>\n",
       "</div>"
      ],
      "text/plain": [
       "                              Points  Total  Highest Percentile\n",
       "Module                                                         \n",
       "Data Analytics                 138.0  155.0    152.0    89.0323\n",
       "Introduction to Data Science    48.5   75.0     64.0    64.6667\n",
       "Machine Learning                10.0   10.0     10.0        100\n",
       "Profile Building               139.0  180.0    171.5    77.2222\n",
       "Ritual                         233.0  233.0    312.0        100"
      ]
     },
     "execution_count": 48,
     "metadata": {},
     "output_type": "execute_result"
    }
   ],
   "source": [
    "z"
   ]
  },
  {
   "cell_type": "code",
   "execution_count": 49,
   "metadata": {},
   "outputs": [],
   "source": [
    "z.to_html('z.html')"
   ]
  },
  {
   "cell_type": "code",
   "execution_count": 50,
   "metadata": {},
   "outputs": [],
   "source": [
    "from datetime import datetime\n",
    "from datetime import date\n",
    "from datetime import time"
   ]
  },
  {
   "cell_type": "code",
   "execution_count": 30,
   "metadata": {},
   "outputs": [
    {
     "name": "stdout",
     "output_type": "stream",
     "text": [
      "THE NAME OF THE STUDENT:  Kunal\n",
      "TOTAL MARKS OF THE TASKS:  592.0\n",
      "THE MARKS OBTAINED BY THE STUDENT:  553.0\n",
      "THE PERCENTAGE:  93.41216216216216 %\n",
      "GRADE: 0 (OUTSTANDING)\n",
      "TASK WINNER:  4 times\n",
      "PROFILE BULIDING PERCENTILE:  90.3125 %\n",
      "KNOWLEDGE SHARING PERCENTILE:  0.0 %\n",
      "Result Analysis\n",
      "                              Points  Total  Highest Percentile\n",
      "Module                                                         \n",
      "Data Analytics                 143.0  155.0    152.0    92.2581\n",
      "Introduction to Data Science    63.5   75.0     64.0    84.6667\n",
      "Machine Learning                10.0   10.0     10.0        100\n",
      "Profile Building               144.5  160.0    152.5    90.3125\n",
      "Ritual                         192.0  192.0    227.0        100\n"
     ]
    },
    {
     "name": "stderr",
     "output_type": "stream",
     "text": [
      "C:\\Users\\USER\\Anaconda3\\lib\\site-packages\\ipykernel_launcher.py:46: SettingWithCopyWarning: \n",
      "A value is trying to be set on a copy of a slice from a DataFrame\n",
      "\n",
      "See the caveats in the documentation: http://pandas.pydata.org/pandas-docs/stable/indexing.html#indexing-view-versus-copy\n"
     ]
    }
   ],
   "source": [
    "student('Kunal')"
   ]
  },
  {
   "cell_type": "code",
   "execution_count": 52,
   "metadata": {},
   "outputs": [],
   "source": [
    "user=pd.read_csv('users - users.csv')"
   ]
  },
  {
   "cell_type": "code",
   "execution_count": 53,
   "metadata": {},
   "outputs": [],
   "source": [
    "def user_info(student):\n",
    "    data=user[user['fname']==student]\n",
    "    print(\"EMAIL: \",data['email'])\n",
    "    print(\"COLLEGE: \",data['college'])\n",
    "    print(\"STREAM: \",data['branch'])\n",
    "    print(\"GITHUB LINK: \",data['github'])"
   ]
  },
  {
   "cell_type": "code",
   "execution_count": 54,
   "metadata": {},
   "outputs": [
    {
     "name": "stdout",
     "output_type": "stream",
     "text": [
      "EMAIL:  5    dipamhazra1999@gmail.com\n",
      "Name: email, dtype: object\n",
      "COLLEGE:  5    St. Thomas' College of Engineering and Technology\n",
      "Name: college, dtype: object\n",
      "STREAM:  5    CSE\n",
      "Name: branch, dtype: object\n",
      "GITHUB LINK:  5    https://github.com/DIPAM9\n",
      "Name: github, dtype: object\n"
     ]
    }
   ],
   "source": [
    "user_info('Dipam')"
   ]
  },
  {
   "cell_type": "code",
   "execution_count": 55,
   "metadata": {},
   "outputs": [
    {
     "data": {
      "text/html": [
       "<div>\n",
       "<style scoped>\n",
       "    .dataframe tbody tr th:only-of-type {\n",
       "        vertical-align: middle;\n",
       "    }\n",
       "\n",
       "    .dataframe tbody tr th {\n",
       "        vertical-align: top;\n",
       "    }\n",
       "\n",
       "    .dataframe thead th {\n",
       "        text-align: right;\n",
       "    }\n",
       "</style>\n",
       "<table border=\"1\" class=\"dataframe\">\n",
       "  <thead>\n",
       "    <tr style=\"text-align: right;\">\n",
       "      <th></th>\n",
       "      <th>user_id</th>\n",
       "      <th>batch_id</th>\n",
       "      <th>fname</th>\n",
       "      <th>lname</th>\n",
       "      <th>email</th>\n",
       "      <th>password</th>\n",
       "      <th>dp</th>\n",
       "      <th>college</th>\n",
       "      <th>passing_year</th>\n",
       "      <th>branch</th>\n",
       "      <th>github</th>\n",
       "      <th>medium</th>\n",
       "      <th>portfolio</th>\n",
       "      <th>linkedin</th>\n",
       "    </tr>\n",
       "  </thead>\n",
       "  <tbody>\n",
       "    <tr>\n",
       "      <th>0</th>\n",
       "      <td>1</td>\n",
       "      <td>1</td>\n",
       "      <td>Durga</td>\n",
       "      <td>Agarwal</td>\n",
       "      <td>durgaa219@gmail.com</td>\n",
       "      <td>NaN</td>\n",
       "      <td>avatar.jpg</td>\n",
       "      <td>UEM, Kolkata</td>\n",
       "      <td>2021</td>\n",
       "      <td>CSE</td>\n",
       "      <td>https://github.com/durgaag</td>\n",
       "      <td>https://medium.com/@durgaa219</td>\n",
       "      <td>https://sites.google.com/view/durgaag-portfoli...</td>\n",
       "      <td>https://www.linkedin.com/in/durga-agarwal-5282...</td>\n",
       "    </tr>\n",
       "    <tr>\n",
       "      <th>1</th>\n",
       "      <td>2</td>\n",
       "      <td>1</td>\n",
       "      <td>Sharika</td>\n",
       "      <td>Anjum Mondal</td>\n",
       "      <td>sharikaanjumm@gmail.com</td>\n",
       "      <td>NaN</td>\n",
       "      <td>avatar.jpg</td>\n",
       "      <td>Amity University, Kolkata</td>\n",
       "      <td>2022</td>\n",
       "      <td>ECE</td>\n",
       "      <td>https://github.com/sharika-anjum</td>\n",
       "      <td>https://medium.com/@sharikaanjumm</td>\n",
       "      <td>https://sites.google.com/view/sharikas-portfolio</td>\n",
       "      <td>https://www.linkedin.com/in/sharika-anjum-mond...</td>\n",
       "    </tr>\n",
       "    <tr>\n",
       "      <th>2</th>\n",
       "      <td>3</td>\n",
       "      <td>1</td>\n",
       "      <td>Swaastick</td>\n",
       "      <td>Singh</td>\n",
       "      <td>meightpc@gmail.com</td>\n",
       "      <td>NaN</td>\n",
       "      <td>avatar.jpg</td>\n",
       "      <td>Amity University, Kolkata</td>\n",
       "      <td>2022</td>\n",
       "      <td>CSE</td>\n",
       "      <td>https://github.com/mightomi</td>\n",
       "      <td>https://medium.com/@meightpc_14421</td>\n",
       "      <td>https://sites.google.com/view/meight/home</td>\n",
       "      <td>https://www.linkedin.com/in/swaastick/</td>\n",
       "    </tr>\n",
       "    <tr>\n",
       "      <th>3</th>\n",
       "      <td>4</td>\n",
       "      <td>1</td>\n",
       "      <td>Apurwa</td>\n",
       "      <td>Arya</td>\n",
       "      <td>aryaapurwa08@gmail.com</td>\n",
       "      <td>NaN</td>\n",
       "      <td>avatar.jpg</td>\n",
       "      <td>UEM, Kolkata</td>\n",
       "      <td>2021</td>\n",
       "      <td>CSE</td>\n",
       "      <td>https://github.com/aryaapurwa08</td>\n",
       "      <td>https://medium.com/@aryaapurwa08</td>\n",
       "      <td>https://sites.google.com/view/apurwaaryaeportf...</td>\n",
       "      <td>https://www.linkedin.com/in/apurwa-arya-2b9988157</td>\n",
       "    </tr>\n",
       "    <tr>\n",
       "      <th>4</th>\n",
       "      <td>5</td>\n",
       "      <td>1</td>\n",
       "      <td>Purbita</td>\n",
       "      <td>Sur</td>\n",
       "      <td>purbita1998@gmail.com</td>\n",
       "      <td>NaN</td>\n",
       "      <td>avatar.jpg</td>\n",
       "      <td>Amity University, Kolkata</td>\n",
       "      <td>2021</td>\n",
       "      <td>CSE</td>\n",
       "      <td>https://github.com/purbita-sur</td>\n",
       "      <td>https://medium.com/@purbita1998</td>\n",
       "      <td>https://sites.google.com/view/purbitasur/home</td>\n",
       "      <td>https://www.linkedin.com/in/purbita-sur</td>\n",
       "    </tr>\n",
       "  </tbody>\n",
       "</table>\n",
       "</div>"
      ],
      "text/plain": [
       "   user_id  batch_id      fname         lname                    email  \\\n",
       "0        1         1      Durga       Agarwal      durgaa219@gmail.com   \n",
       "1        2         1    Sharika  Anjum Mondal  sharikaanjumm@gmail.com   \n",
       "2        3         1  Swaastick         Singh       meightpc@gmail.com   \n",
       "3        4         1     Apurwa          Arya   aryaapurwa08@gmail.com   \n",
       "4        5         1    Purbita           Sur    purbita1998@gmail.com   \n",
       "\n",
       "   password          dp                    college  passing_year branch  \\\n",
       "0       NaN  avatar.jpg               UEM, Kolkata          2021    CSE   \n",
       "1       NaN  avatar.jpg  Amity University, Kolkata          2022    ECE   \n",
       "2       NaN  avatar.jpg  Amity University, Kolkata          2022    CSE   \n",
       "3       NaN  avatar.jpg               UEM, Kolkata          2021    CSE   \n",
       "4       NaN  avatar.jpg  Amity University, Kolkata          2021    CSE   \n",
       "\n",
       "                             github                              medium  \\\n",
       "0        https://github.com/durgaag       https://medium.com/@durgaa219   \n",
       "1  https://github.com/sharika-anjum   https://medium.com/@sharikaanjumm   \n",
       "2       https://github.com/mightomi  https://medium.com/@meightpc_14421   \n",
       "3   https://github.com/aryaapurwa08    https://medium.com/@aryaapurwa08   \n",
       "4    https://github.com/purbita-sur     https://medium.com/@purbita1998   \n",
       "\n",
       "                                           portfolio  \\\n",
       "0  https://sites.google.com/view/durgaag-portfoli...   \n",
       "1   https://sites.google.com/view/sharikas-portfolio   \n",
       "2          https://sites.google.com/view/meight/home   \n",
       "3  https://sites.google.com/view/apurwaaryaeportf...   \n",
       "4      https://sites.google.com/view/purbitasur/home   \n",
       "\n",
       "                                            linkedin  \n",
       "0  https://www.linkedin.com/in/durga-agarwal-5282...  \n",
       "1  https://www.linkedin.com/in/sharika-anjum-mond...  \n",
       "2             https://www.linkedin.com/in/swaastick/  \n",
       "3  https://www.linkedin.com/in/apurwa-arya-2b9988157  \n",
       "4            https://www.linkedin.com/in/purbita-sur  "
      ]
     },
     "execution_count": 55,
     "metadata": {},
     "output_type": "execute_result"
    }
   ],
   "source": [
    "user.head()"
   ]
  },
  {
   "cell_type": "code",
   "execution_count": 57,
   "metadata": {},
   "outputs": [],
   "source": [
    "df=pd.read_html('z.html')"
   ]
  },
  {
   "cell_type": "code",
   "execution_count": 58,
   "metadata": {},
   "outputs": [
    {
     "data": {
      "text/plain": [
       "[['Data Analytics', 138.0, 155.0, 152.0, 89.0323],\n",
       " ['Introduction to Data Science', 48.5, 75.0, 64.0, 64.6667],\n",
       " ['Machine Learning', 10.0, 10.0, 10.0, 100.0],\n",
       " ['Profile Building', 139.0, 180.0, 171.5, 77.2222],\n",
       " ['Ritual', 233.0, 233.0, 312.0, 100.0]]"
      ]
     },
     "execution_count": 58,
     "metadata": {},
     "output_type": "execute_result"
    }
   ],
   "source": [
    "df[0].values.tolist()"
   ]
  },
  {
   "cell_type": "markdown",
   "metadata": {},
   "source": [
    "# creaating the class"
   ]
  },
  {
   "cell_type": "code",
   "execution_count": 59,
   "metadata": {},
   "outputs": [],
   "source": [
    "class info_of_student():\n",
    "   def student(name):\n",
    "    data_tasks=data\n",
    "    data_student=data_tasks[data_tasks['Student']==name] \n",
    "    name=name\n",
    "    college=user[user['fname']==student]['college']\n",
    "    branch=user[user['fname']==student]['branch']\n",
    "    Date=str(today.strftime(\"%d/%m/%Y\"))\n",
    "    Number_of_task_wins=str(len(data_student[data_student['Task Winner']==1]))\n",
    "    total_marks=data_student['Total'].sum()\n",
    "    obtained_marks=data_student['Points'].sum()\n",
    "    average=(obtaied_marks/total_marks)*100\n",
    "    data_profile=data_student[data_student['Module']=='Profile Building']\n",
    "    data_profile_marks=(data_profile['Points'].sum()/data_profile['Total'].sum())*100\n",
    "    profile_building_percentile=data_profile_marks\n",
    "    data_consistency=data[data['id']==0]\n",
    "    data_consistency_student=data_consistency[data_consistency['Student']==name]\n",
    "    a=len(data_consistency[data_consistency['Student']==name])\n",
    "    b=len(data_consistency_student[data_consistency_student['Task']=='Knowledge Sharing'])\n",
    "    knowledge=(b/a)*100\n",
    "    knowledge_sharing_percentile=knowledge\n",
    "    x1=data_student.pivot_table(index='Module',values='Points',aggfunc='sum')\n",
    "    y1=data_student.pivot_table(index='Module',values='Total',aggfunc='sum')\n",
    "    w1=data_student.pivot_table(index='Module',values='Highest',aggfunc='sum')\n",
    "    z1=pd.concat([x1,y1,w1],axis=1)\n",
    "    subject_percentile=[x1['Points']/y1['Total']*100]\n",
    "    z1['Percentile']=\" \"\n",
    "    for i in range(len(z1)):\n",
    "        z1['Percentile'][i]=subject_percentile[0][i]\n",
    "    z1.to_html('z_total.html')\n",
    "    df=pd.read_html('z_total.html')\n",
    "    Table_elements=df[0].values.tolist()"
   ]
  },
  {
   "cell_type": "code",
   "execution_count": 60,
   "metadata": {},
   "outputs": [
    {
     "data": {
      "text/html": [
       "<div>\n",
       "<style scoped>\n",
       "    .dataframe tbody tr th:only-of-type {\n",
       "        vertical-align: middle;\n",
       "    }\n",
       "\n",
       "    .dataframe tbody tr th {\n",
       "        vertical-align: top;\n",
       "    }\n",
       "\n",
       "    .dataframe thead th {\n",
       "        text-align: right;\n",
       "    }\n",
       "</style>\n",
       "<table border=\"1\" class=\"dataframe\">\n",
       "  <thead>\n",
       "    <tr style=\"text-align: right;\">\n",
       "      <th></th>\n",
       "      <th>id</th>\n",
       "      <th>Task</th>\n",
       "      <th>Date</th>\n",
       "      <th>Module</th>\n",
       "      <th>Type</th>\n",
       "      <th>Student</th>\n",
       "      <th>Late Submission</th>\n",
       "      <th>Points</th>\n",
       "      <th>Total</th>\n",
       "      <th>Task Winner</th>\n",
       "    </tr>\n",
       "  </thead>\n",
       "  <tbody>\n",
       "    <tr>\n",
       "      <th>8</th>\n",
       "      <td>0</td>\n",
       "      <td>AjKyaUkhada</td>\n",
       "      <td>9/10/2019</td>\n",
       "      <td>Ritual</td>\n",
       "      <td>Consistency</td>\n",
       "      <td>Dipam</td>\n",
       "      <td>0</td>\n",
       "      <td>1.0</td>\n",
       "      <td>1</td>\n",
       "      <td>0</td>\n",
       "    </tr>\n",
       "    <tr>\n",
       "      <th>24</th>\n",
       "      <td>12</td>\n",
       "      <td>Web Scraping</td>\n",
       "      <td>9/11/2019</td>\n",
       "      <td>Data Analytics</td>\n",
       "      <td>Knowledge,Patience</td>\n",
       "      <td>Dipam</td>\n",
       "      <td>1</td>\n",
       "      <td>10.0</td>\n",
       "      <td>10</td>\n",
       "      <td>1</td>\n",
       "    </tr>\n",
       "    <tr>\n",
       "      <th>43</th>\n",
       "      <td>0</td>\n",
       "      <td>AjKyaUkhada</td>\n",
       "      <td>2019-09-11 16:06:50</td>\n",
       "      <td>Ritual</td>\n",
       "      <td>Consistency</td>\n",
       "      <td>Dipam</td>\n",
       "      <td>0</td>\n",
       "      <td>1.0</td>\n",
       "      <td>1</td>\n",
       "      <td>0</td>\n",
       "    </tr>\n",
       "    <tr>\n",
       "      <th>58</th>\n",
       "      <td>0</td>\n",
       "      <td>Knowledge Sharing</td>\n",
       "      <td>2019-09-12 1:27:50</td>\n",
       "      <td>Ritual</td>\n",
       "      <td>Consistency,Curiosity</td>\n",
       "      <td>Dipam</td>\n",
       "      <td>0</td>\n",
       "      <td>1.0</td>\n",
       "      <td>1</td>\n",
       "      <td>0</td>\n",
       "    </tr>\n",
       "    <tr>\n",
       "      <th>64</th>\n",
       "      <td>0</td>\n",
       "      <td>AjKyaUkhada</td>\n",
       "      <td>2019-09-12 15:45:30</td>\n",
       "      <td>Ritual</td>\n",
       "      <td>Consistency</td>\n",
       "      <td>Dipam</td>\n",
       "      <td>0</td>\n",
       "      <td>1.0</td>\n",
       "      <td>1</td>\n",
       "      <td>0</td>\n",
       "    </tr>\n",
       "  </tbody>\n",
       "</table>\n",
       "</div>"
      ],
      "text/plain": [
       "    id               Task                 Date          Module  \\\n",
       "8    0        AjKyaUkhada            9/10/2019          Ritual   \n",
       "24  12       Web Scraping            9/11/2019  Data Analytics   \n",
       "43   0        AjKyaUkhada  2019-09-11 16:06:50          Ritual   \n",
       "58   0  Knowledge Sharing   2019-09-12 1:27:50          Ritual   \n",
       "64   0        AjKyaUkhada  2019-09-12 15:45:30          Ritual   \n",
       "\n",
       "                     Type Student  Late Submission  Points  Total  Task Winner  \n",
       "8             Consistency   Dipam                0     1.0      1            0  \n",
       "24     Knowledge,Patience   Dipam                1    10.0     10            1  \n",
       "43            Consistency   Dipam                0     1.0      1            0  \n",
       "58  Consistency,Curiosity   Dipam                0     1.0      1            0  \n",
       "64            Consistency   Dipam                0     1.0      1            0  "
      ]
     },
     "execution_count": 60,
     "metadata": {},
     "output_type": "execute_result"
    }
   ],
   "source": [
    "data_september[data_september['Student']=='Dipam'].head()"
   ]
  },
  {
   "cell_type": "code",
   "execution_count": 61,
   "metadata": {},
   "outputs": [],
   "source": [
    "m=data_september.groupby('Student')['Points'].sum().sort_values(ascending=False)"
   ]
  },
  {
   "cell_type": "code",
   "execution_count": 62,
   "metadata": {},
   "outputs": [],
   "source": [
    "n=data.groupby('Student')['Points'].sum().sort_values(ascending=False)"
   ]
  },
  {
   "cell_type": "code",
   "execution_count": 64,
   "metadata": {},
   "outputs": [
    {
     "data": {
      "text/plain": [
       "568.5"
      ]
     },
     "execution_count": 64,
     "metadata": {},
     "output_type": "execute_result"
    }
   ],
   "source": [
    "data_dipam_full['Points'].sum()"
   ]
  },
  {
   "cell_type": "code",
   "execution_count": 65,
   "metadata": {},
   "outputs": [
    {
     "data": {
      "text/plain": [
       "105.0"
      ]
     },
     "execution_count": 65,
     "metadata": {},
     "output_type": "execute_result"
    }
   ],
   "source": [
    "data_september[data_september['Student']=='Dipam']['Points'].sum()"
   ]
  },
  {
   "cell_type": "code",
   "execution_count": 78,
   "metadata": {},
   "outputs": [
    {
     "data": {
      "text/plain": [
       "Index(['AjKyaUkhada', 'Knowledge Sharing', 'Start/Country Dataset',\n",
       "       'Web Scraping', 'Data from API', 'Batsman V Bowler',\n",
       "       'Blog on Data Analysis Process', 'Github Profile Creation',\n",
       "       'Video Resume', 'Blog on Different data based job roles',\n",
       "       'Online Resume'],\n",
       "      dtype='object')"
      ]
     },
     "execution_count": 78,
     "metadata": {},
     "output_type": "execute_result"
    }
   ],
   "source": [
    "a1"
   ]
  },
  {
   "cell_type": "code",
   "execution_count": 80,
   "metadata": {},
   "outputs": [],
   "source": [
    "a1=data_september['Task'].value_counts().index\n",
    "highest_september=[]\n",
    "for i in a1:\n",
    "    highest_september.append(max(data_september[data_september['Task']==i]['Points']))\n",
    "data_highest_table_september = {'Task':a1, 'Highest':highest_september} \n",
    "data_high_september=pd.DataFrame(data_highest_table_september)\n",
    "data_september=data_september.merge(data_high_september, on='Task')"
   ]
  },
  {
   "cell_type": "code",
   "execution_count": 81,
   "metadata": {},
   "outputs": [
    {
     "name": "stderr",
     "output_type": "stream",
     "text": [
      "C:\\Users\\USER\\Anaconda3\\lib\\site-packages\\ipykernel_launcher.py:9: SettingWithCopyWarning: \n",
      "A value is trying to be set on a copy of a slice from a DataFrame\n",
      "\n",
      "See the caveats in the documentation: http://pandas.pydata.org/pandas-docs/stable/indexing.html#indexing-view-versus-copy\n",
      "  if __name__ == '__main__':\n"
     ]
    },
    {
     "data": {
      "text/html": [
       "<div>\n",
       "<style scoped>\n",
       "    .dataframe tbody tr th:only-of-type {\n",
       "        vertical-align: middle;\n",
       "    }\n",
       "\n",
       "    .dataframe tbody tr th {\n",
       "        vertical-align: top;\n",
       "    }\n",
       "\n",
       "    .dataframe thead th {\n",
       "        text-align: right;\n",
       "    }\n",
       "</style>\n",
       "<table border=\"1\" class=\"dataframe\">\n",
       "  <thead>\n",
       "    <tr style=\"text-align: right;\">\n",
       "      <th></th>\n",
       "      <th>Points</th>\n",
       "      <th>Total</th>\n",
       "      <th>Highest</th>\n",
       "      <th>Percentile</th>\n",
       "    </tr>\n",
       "    <tr>\n",
       "      <th>Module</th>\n",
       "      <th></th>\n",
       "      <th></th>\n",
       "      <th></th>\n",
       "      <th></th>\n",
       "    </tr>\n",
       "  </thead>\n",
       "  <tbody>\n",
       "    <tr>\n",
       "      <th>Data Analytics</th>\n",
       "      <td>92.0</td>\n",
       "      <td>95</td>\n",
       "      <td>95.0</td>\n",
       "      <td>96.8421</td>\n",
       "    </tr>\n",
       "    <tr>\n",
       "      <th>Ritual</th>\n",
       "      <td>13.0</td>\n",
       "      <td>13</td>\n",
       "      <td>13.0</td>\n",
       "      <td>100</td>\n",
       "    </tr>\n",
       "  </tbody>\n",
       "</table>\n",
       "</div>"
      ],
      "text/plain": [
       "                Points  Total  Highest Percentile\n",
       "Module                                           \n",
       "Data Analytics    92.0     95     95.0    96.8421\n",
       "Ritual            13.0     13     13.0        100"
      ]
     },
     "execution_count": 81,
     "metadata": {},
     "output_type": "execute_result"
    }
   ],
   "source": [
    "data_dipam_full_sep=data_september[data_september['Student']=='Dipam']\n",
    "x1=data_dipam_full_sep.pivot_table(index='Module',values='Points',aggfunc='sum')\n",
    "y1=data_dipam_full_sep.pivot_table(index='Module',values='Total',aggfunc='sum')\n",
    "w1=data_dipam_full_sep.pivot_table(index='Module',values='Highest',aggfunc='sum')\n",
    "z1=pd.concat([x1,y1,w1],axis=1)\n",
    "subject_percentile=[x1['Points']/y1['Total']*100]\n",
    "z1['Percentile']=\" \"\n",
    "for i in range(len(z1)):\n",
    "    z1['Percentile'][i]=subject_percentile[0][i]\n",
    "z1"
   ]
  },
  {
   "cell_type": "code",
   "execution_count": 82,
   "metadata": {},
   "outputs": [],
   "source": [
    "z1.rename(columns={'Points':'Points_month','Total':'Total_month','Percentile':'Percentile_month','Highest':'Highest_month'},inplace=True)"
   ]
  },
  {
   "cell_type": "code",
   "execution_count": 83,
   "metadata": {},
   "outputs": [
    {
     "name": "stderr",
     "output_type": "stream",
     "text": [
      "C:\\Users\\USER\\Anaconda3\\lib\\site-packages\\ipykernel_launcher.py:1: FutureWarning: Sorting because non-concatenation axis is not aligned. A future version\n",
      "of pandas will change to not sort by default.\n",
      "\n",
      "To accept the future behavior, pass 'sort=False'.\n",
      "\n",
      "To retain the current behavior and silence the warning, pass 'sort=True'.\n",
      "\n",
      "  \"\"\"Entry point for launching an IPython kernel.\n"
     ]
    }
   ],
   "source": [
    "z_comparison=pd.concat([z,z1],axis=1)"
   ]
  },
  {
   "cell_type": "markdown",
   "metadata": {},
   "source": [
    "# comparison of month vs total"
   ]
  },
  {
   "cell_type": "code",
   "execution_count": 84,
   "metadata": {},
   "outputs": [
    {
     "data": {
      "text/html": [
       "<div>\n",
       "<style scoped>\n",
       "    .dataframe tbody tr th:only-of-type {\n",
       "        vertical-align: middle;\n",
       "    }\n",
       "\n",
       "    .dataframe tbody tr th {\n",
       "        vertical-align: top;\n",
       "    }\n",
       "\n",
       "    .dataframe thead th {\n",
       "        text-align: right;\n",
       "    }\n",
       "</style>\n",
       "<table border=\"1\" class=\"dataframe\">\n",
       "  <thead>\n",
       "    <tr style=\"text-align: right;\">\n",
       "      <th></th>\n",
       "      <th>Points</th>\n",
       "      <th>Total</th>\n",
       "      <th>Highest</th>\n",
       "      <th>Percentile</th>\n",
       "      <th>Points_month</th>\n",
       "      <th>Total_month</th>\n",
       "      <th>Highest_month</th>\n",
       "      <th>Percentile_month</th>\n",
       "    </tr>\n",
       "  </thead>\n",
       "  <tbody>\n",
       "    <tr>\n",
       "      <th>Data Analytics</th>\n",
       "      <td>138.0</td>\n",
       "      <td>155.0</td>\n",
       "      <td>152.0</td>\n",
       "      <td>89.0323</td>\n",
       "      <td>92.0</td>\n",
       "      <td>95.0</td>\n",
       "      <td>95.0</td>\n",
       "      <td>96.8421</td>\n",
       "    </tr>\n",
       "    <tr>\n",
       "      <th>Introduction to Data Science</th>\n",
       "      <td>48.5</td>\n",
       "      <td>75.0</td>\n",
       "      <td>64.0</td>\n",
       "      <td>64.6667</td>\n",
       "      <td>NaN</td>\n",
       "      <td>NaN</td>\n",
       "      <td>NaN</td>\n",
       "      <td>NaN</td>\n",
       "    </tr>\n",
       "    <tr>\n",
       "      <th>Machine Learning</th>\n",
       "      <td>10.0</td>\n",
       "      <td>10.0</td>\n",
       "      <td>10.0</td>\n",
       "      <td>100</td>\n",
       "      <td>NaN</td>\n",
       "      <td>NaN</td>\n",
       "      <td>NaN</td>\n",
       "      <td>NaN</td>\n",
       "    </tr>\n",
       "    <tr>\n",
       "      <th>Profile Building</th>\n",
       "      <td>139.0</td>\n",
       "      <td>180.0</td>\n",
       "      <td>171.5</td>\n",
       "      <td>77.2222</td>\n",
       "      <td>NaN</td>\n",
       "      <td>NaN</td>\n",
       "      <td>NaN</td>\n",
       "      <td>NaN</td>\n",
       "    </tr>\n",
       "    <tr>\n",
       "      <th>Ritual</th>\n",
       "      <td>233.0</td>\n",
       "      <td>233.0</td>\n",
       "      <td>312.0</td>\n",
       "      <td>100</td>\n",
       "      <td>13.0</td>\n",
       "      <td>13.0</td>\n",
       "      <td>13.0</td>\n",
       "      <td>100</td>\n",
       "    </tr>\n",
       "  </tbody>\n",
       "</table>\n",
       "</div>"
      ],
      "text/plain": [
       "                              Points  Total  Highest Percentile  Points_month  \\\n",
       "Data Analytics                 138.0  155.0    152.0    89.0323          92.0   \n",
       "Introduction to Data Science    48.5   75.0     64.0    64.6667           NaN   \n",
       "Machine Learning                10.0   10.0     10.0        100           NaN   \n",
       "Profile Building               139.0  180.0    171.5    77.2222           NaN   \n",
       "Ritual                         233.0  233.0    312.0        100          13.0   \n",
       "\n",
       "                              Total_month  Highest_month Percentile_month  \n",
       "Data Analytics                       95.0           95.0          96.8421  \n",
       "Introduction to Data Science          NaN            NaN              NaN  \n",
       "Machine Learning                      NaN            NaN              NaN  \n",
       "Profile Building                      NaN            NaN              NaN  \n",
       "Ritual                               13.0           13.0              100  "
      ]
     },
     "execution_count": 84,
     "metadata": {},
     "output_type": "execute_result"
    }
   ],
   "source": [
    "z_comparison"
   ]
  },
  {
   "cell_type": "code",
   "execution_count": 85,
   "metadata": {},
   "outputs": [
    {
     "data": {
      "text/plain": [
       "['Data Analytics',\n",
       " 'Introduction to Data Science',\n",
       " 'Machine Learning',\n",
       " 'Profile Building',\n",
       " 'Ritual']"
      ]
     },
     "execution_count": 85,
     "metadata": {},
     "output_type": "execute_result"
    }
   ],
   "source": [
    "list(z.index)"
   ]
  },
  {
   "cell_type": "code",
   "execution_count": 86,
   "metadata": {},
   "outputs": [],
   "source": [
    "labels=np.array(z.index)"
   ]
  },
  {
   "cell_type": "code",
   "execution_count": 87,
   "metadata": {},
   "outputs": [
    {
     "data": {
      "text/plain": [
       "array(['Data Analytics', 'Introduction to Data Science',\n",
       "       'Machine Learning', 'Profile Building', 'Ritual'], dtype=object)"
      ]
     },
     "execution_count": 87,
     "metadata": {},
     "output_type": "execute_result"
    }
   ],
   "source": [
    "labels"
   ]
  },
  {
   "cell_type": "code",
   "execution_count": 89,
   "metadata": {},
   "outputs": [],
   "source": [
    "points=[]\n",
    "for i in range(len(z)):\n",
    "    points.append(z.values[i][0])\n",
    "\n",
    "stats=points"
   ]
  },
  {
   "cell_type": "code",
   "execution_count": 90,
   "metadata": {},
   "outputs": [
    {
     "data": {
      "text/plain": [
       "[138.0, 48.5, 10.0, 139.0, 233.0]"
      ]
     },
     "execution_count": 90,
     "metadata": {},
     "output_type": "execute_result"
    }
   ],
   "source": [
    "stats"
   ]
  },
  {
   "cell_type": "code",
   "execution_count": 91,
   "metadata": {},
   "outputs": [],
   "source": [
    "angles=np.linspace(0, 2*np.pi, len(labels), endpoint=False)\n",
    "# close the plot\n",
    "stats=np.concatenate((stats,[stats[0]]))\n",
    "angles=np.concatenate((angles,[angles[0]]))"
   ]
  },
  {
   "cell_type": "code",
   "execution_count": 92,
   "metadata": {},
   "outputs": [
    {
     "data": {
      "image/png": "[encoded data removed]",
      "text/plain": [
       "<Figure size 432x288 with 1 Axes>"
      ]
     },
     "metadata": {
      "needs_background": "light"
     },
     "output_type": "display_data"
    }
   ],
   "source": [
    "ax = plt.subplot(111, polar=True)\n",
    "\n",
    "#Add the attribute labels to our axes\n",
    "plt.xticks(angles[:-1],labels)\n",
    "\n",
    "#Plot the line around the outside of the filled area, using the angles and values calculated before\n",
    "ax.plot(angles,stats)\n",
    "\n",
    "#Fill in the area plotted in the last line\n",
    "ax.fill(angles, stats, 'teal', alpha=0.1)\n",
    "\n",
    "#Give the plot a title and show it\n",
    "ax.set_title(\"Result\")\n",
    "plt.show()"
   ]
  },
  {
   "cell_type": "code",
   "execution_count": 93,
   "metadata": {},
   "outputs": [],
   "source": [
    "def plot(data):\n",
    "    labels=np.array(data.index)\n",
    "    stats=data.values\n",
    "    angles=np.linspace(0, 2*np.pi, len(labels), endpoint=False)\n",
    "    stats=np.concatenate((stats,[stats[0]]))\n",
    "    angles=np.concatenate((angles,[angles[0]]))\n",
    "    ax = plt.subplot(111, polar=True)\n",
    "    plt.xticks(angles[:-1],labels)\n",
    "    ax.plot(angles,stats)\n",
    "    ax.fill(angles, stats, 'teal', alpha=0.1)\n",
    "    ax.set_title(\"Result\")\n",
    "    plt.show()"
   ]
  },
  {
   "cell_type": "code",
   "execution_count": 94,
   "metadata": {},
   "outputs": [
    {
     "data": {
      "image/png": "[encoded data removed]",
      "text/plain": [
       "<Figure size 432x288 with 1 Axes>"
      ]
     },
     "metadata": {
      "needs_background": "light"
     },
     "output_type": "display_data"
    }
   ],
   "source": [
    "plot(z)"
   ]
  },
  {
   "cell_type": "code",
   "execution_count": 96,
   "metadata": {},
   "outputs": [
    {
     "name": "stderr",
     "output_type": "stream",
     "text": [
      "C:\\Users\\USER\\Anaconda3\\lib\\site-packages\\matplotlib\\projections\\polar.py:63: RuntimeWarning: invalid value encountered in less\n",
      "  mask = r < 0\n"
     ]
    },
    {
     "data": {
      "image/png": "[encoded data removed]",
      "text/plain": [
       "<Figure size 432x288 with 1 Axes>"
      ]
     },
     "metadata": {
      "needs_background": "light"
     },
     "output_type": "display_data"
    }
   ],
   "source": [
    "plot(z_comparison)"
   ]
  },
  {
   "cell_type": "code",
   "execution_count": 97,
   "metadata": {},
   "outputs": [],
   "source": [
    "points=[]\n",
    "for i in range(len(z_total)):\n",
    "    points.append(z_total.values[i][0])"
   ]
  },
  {
   "cell_type": "code",
   "execution_count": 98,
   "metadata": {},
   "outputs": [
    {
     "data": {
      "text/plain": [
       "[138.0, 48.5, 10.0, 139.0, 233.0]"
      ]
     },
     "execution_count": 98,
     "metadata": {},
     "output_type": "execute_result"
    }
   ],
   "source": [
    "points"
   ]
  },
  {
   "cell_type": "code",
   "execution_count": 99,
   "metadata": {},
   "outputs": [
    {
     "data": {
      "image/png": "[encoded data removed]",
      "text/plain": [
       "<Figure size 432x288 with 1 Axes>"
      ]
     },
     "metadata": {
      "needs_background": "light"
     },
     "output_type": "display_data"
    }
   ],
   "source": [
    "plot(z)"
   ]
  },
  {
   "cell_type": "code",
   "execution_count": 100,
   "metadata": {},
   "outputs": [
    {
     "data": {
      "image/png": "[encoded data removed]",
      "text/plain": [
       "<Figure size 432x288 with 1 Axes>"
      ]
     },
     "metadata": {
      "needs_background": "light"
     },
     "output_type": "display_data"
    }
   ],
   "source": [
    "plot(z_comparison)"
   ]
  },
  {
   "cell_type": "code",
   "execution_count": null,
   "metadata": {},
   "outputs": [],
   "source": []
  },
  {
   "cell_type": "code",
   "execution_count": null,
   "metadata": {},
   "outputs": [],
   "source": []
  },
  {
   "cell_type": "code",
   "execution_count": null,
   "metadata": {},
   "outputs": [],
   "source": []
  }
 ],
 "metadata": {
  "kernelspec": {
   "display_name": "Python 3",
   "language": "python",
   "name": "python3"
  },
  "language_info": {
   "codemirror_mode": {
    "name": "ipython",
    "version": 3
   },
   "file_extension": ".py",
   "mimetype": "text/x-python",
   "name": "python",
   "nbconvert_exporter": "python",
   "pygments_lexer": "ipython3",
   "version": "3.7.1"
  }
 },
 "nbformat": 4,
 "nbformat_minor": 2
}
